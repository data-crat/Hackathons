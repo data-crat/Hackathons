{
 "cells": [
  {
   "cell_type": "markdown",
   "metadata": {},
   "source": [
    "# PROBLEM STATEMENT\n",
    "You are working with the government to transform your city into a smart city. The vision is to convert it into a digital and intelligent city to improve the efficiency of services for the citizens. One of the problems faced by the government is traffic. You are a data scientist working to manage the traffic of the city better and to provide input on infrastructure planning for the future.\n",
    "\n",
    "The government wants to implement a robust traffic system for the city by being prepared for traffic peaks. They want to understand the traffic patterns of the four junctions of the city. Traffic patterns on holidays, as well as on various other occasions during the year, differ from normal working days. This is important to take into account for your forecasting. \n",
    "\n",
    "# Your task\n",
    "\n",
    "To predict traffic patterns in each of these four junctions for the next 4 months.\n",
    "\n",
    "The sensors on each of these junctions were collecting data at different times, hence you will see traffic data from different time periods. To add to the complexity, some of the junctions have provided limited or sparse data requiring thoughtfulness when creating future projections. Depending upon the historical data of 20 months, the government is looking to you to deliver accurate traffic projections for the coming four months. Your algorithm will become the foundation of a larger transformation to make your city smart and intelligent."
   ]
  },
  {
   "cell_type": "markdown",
   "metadata": {},
   "source": [
    "Variable||||\tDescription\n",
    "---------------------------------\n",
    "ID         |||   Unique ID\n",
    "\n",
    "DateTime   |||  Hourly Datetime Variable\n",
    "\n",
    "Junction   |||  Junction Type\n",
    "\n",
    "Vehicles   |||  Number of Vehicles (Target)"
   ]
  },
  {
   "cell_type": "markdown",
   "metadata": {},
   "source": [
    "# # Hypothesis Generation \n",
    "#  Hypothesis Generation is the process of listing out all the possible factors that can affect the outcome.\n",
    "# Hypothesis generation is done before having a look at the data in order to avoid any bias that may result after the observation.\n",
    "# It point outs the factors which might affect our dependent variable. Below are some of the hypotheses which I think can affect the Number of vehicles:\n",
    "\n",
    "\n",
    "# 1.\tThere will be an increase in the traffic as the years pass by.\n",
    "# •\t Population has a general upward trend with time, so we can expect more people will be passing by the  . Also, generally companies expand their businesses over time leading to more customers travelling through BulletTrain.\n",
    "\n",
    "# 2.\tTraffic on weekdays will be more as compared to weekends/holidays.\n",
    "# •\t People will go to office on weekdays and hence the traffic will be more.\n",
    "# 3.\tTraffic during the peak hours will be high.\n",
    "# • People will travel to work, college.\n",
    "# We will try to validate each of these hypothesis based on the dataset. Now let’s have a look at the dataset.\n",
    "# \n"
   ]
  },
  {
   "cell_type": "code",
   "execution_count": 1,
   "metadata": {},
   "outputs": [],
   "source": [
    "%matplotlib inline\n",
    "pd.options.display.float_format = '{:.2f}'.format\n",
    "import pandas as pd\n",
    "import numpy as np\n",
    "import seaborn as sns\n",
    "import matplotlib.pyplot as plt\n"
   ]
  },
  {
   "cell_type": "code",
   "execution_count": 2,
   "metadata": {},
   "outputs": [
    {
     "data": {
      "text/plain": [
       "((48120, 4), (11808, 3))"
      ]
     },
     "execution_count": 2,
     "metadata": {},
     "output_type": "execute_result"
    }
   ],
   "source": [
    "\n",
    "\n",
    "# %% [code]\n",
    "# Importing the train and test datasets\n",
    "\n",
    "\n",
    "train = pd.read_csv(\"train.csv\")\n",
    "test = pd.read_csv(\"test.csv\")\n",
    "\n",
    "# %% [code]\n",
    "# Making copy of dataset\n",
    "\n",
    "train_original=train.copy() \n",
    "test_original=test.copy()\n",
    "\n",
    "# %% [code]\n",
    "train_original.shape, test_original.shape"
   ]
  },
  {
   "cell_type": "markdown",
   "metadata": {},
   "source": [
    "# TAKING A LOOK AT THE DATA AVAILABLE"
   ]
  },
  {
   "cell_type": "code",
   "execution_count": 3,
   "metadata": {},
   "outputs": [
    {
     "name": "stdout",
     "output_type": "stream",
     "text": [
      "              DateTime  Junction  Vehicles           ID\n",
      "0  2015-11-01 00:00:00         1        15  20151101001\n",
      "1  2015-11-01 01:00:00         1        13  20151101011\n",
      "2  2015-11-01 02:00:00         1        10  20151101021\n",
      "3  2015-11-01 03:00:00         1         7  20151101031\n",
      "4  2015-11-01 04:00:00         1         9  20151101041\n",
      "              DateTime  Junction           ID\n",
      "0  2017-07-01 00:00:00         1  20170701001\n",
      "1  2017-07-01 01:00:00         1  20170701011\n",
      "2  2017-07-01 02:00:00         1  20170701021\n",
      "3  2017-07-01 03:00:00         1  20170701031\n",
      "4  2017-07-01 04:00:00         1  20170701041\n"
     ]
    }
   ],
   "source": [
    "print(train_original.head())\n",
    "print (test_original.head())\n"
   ]
  },
  {
   "cell_type": "code",
   "execution_count": 4,
   "metadata": {},
   "outputs": [
    {
     "data": {
      "text/plain": [
       "(48120, (48120, 4))"
      ]
     },
     "execution_count": 4,
     "metadata": {},
     "output_type": "execute_result"
    }
   ],
   "source": [
    "train_original.ID.nunique(),train_original.shape"
   ]
  },
  {
   "cell_type": "code",
   "execution_count": 5,
   "metadata": {},
   "outputs": [
    {
     "data": {
      "text/plain": [
       "(11808, (11808, 3))"
      ]
     },
     "execution_count": 5,
     "metadata": {},
     "output_type": "execute_result"
    }
   ],
   "source": [
    "test_original.ID.nunique(),test_original.shape"
   ]
  },
  {
   "cell_type": "code",
   "execution_count": 6,
   "metadata": {},
   "outputs": [
    {
     "name": "stdout",
     "output_type": "stream",
     "text": [
      "<class 'pandas.core.frame.DataFrame'>\n",
      "RangeIndex: 48120 entries, 0 to 48119\n",
      "Data columns (total 4 columns):\n",
      "DateTime    48120 non-null object\n",
      "Junction    48120 non-null int64\n",
      "Vehicles    48120 non-null int64\n",
      "ID          48120 non-null int64\n",
      "dtypes: int64(3), object(1)\n",
      "memory usage: 1.5+ MB\n",
      "<class 'pandas.core.frame.DataFrame'>\n",
      "RangeIndex: 11808 entries, 0 to 11807\n",
      "Data columns (total 3 columns):\n",
      "DateTime    11808 non-null object\n",
      "Junction    11808 non-null int64\n",
      "ID          11808 non-null int64\n",
      "dtypes: int64(2), object(1)\n",
      "memory usage: 276.8+ KB\n"
     ]
    },
    {
     "data": {
      "text/plain": [
       "(None, None)"
      ]
     },
     "execution_count": 6,
     "metadata": {},
     "output_type": "execute_result"
    }
   ],
   "source": [
    "train.info(), test.info()"
   ]
  },
  {
   "cell_type": "markdown",
   "metadata": {},
   "source": [
    "# Feature Extraction/ENGINEERING"
   ]
  },
  {
   "cell_type": "code",
   "execution_count": 7,
   "metadata": {},
   "outputs": [
    {
     "data": {
      "text/html": [
       "<div>\n",
       "<style scoped>\n",
       "    .dataframe tbody tr th:only-of-type {\n",
       "        vertical-align: middle;\n",
       "    }\n",
       "\n",
       "    .dataframe tbody tr th {\n",
       "        vertical-align: top;\n",
       "    }\n",
       "\n",
       "    .dataframe thead th {\n",
       "        text-align: right;\n",
       "    }\n",
       "</style>\n",
       "<table border=\"1\" class=\"dataframe\">\n",
       "  <thead>\n",
       "    <tr style=\"text-align: right;\">\n",
       "      <th></th>\n",
       "      <th>DateTime</th>\n",
       "      <th>Junction</th>\n",
       "      <th>Vehicles</th>\n",
       "      <th>ID</th>\n",
       "    </tr>\n",
       "  </thead>\n",
       "  <tbody>\n",
       "    <tr>\n",
       "      <th>0</th>\n",
       "      <td>2015-11-01 00:00:00</td>\n",
       "      <td>1</td>\n",
       "      <td>15</td>\n",
       "      <td>20151101001</td>\n",
       "    </tr>\n",
       "    <tr>\n",
       "      <th>1</th>\n",
       "      <td>2015-11-01 01:00:00</td>\n",
       "      <td>1</td>\n",
       "      <td>13</td>\n",
       "      <td>20151101011</td>\n",
       "    </tr>\n",
       "    <tr>\n",
       "      <th>2</th>\n",
       "      <td>2015-11-01 02:00:00</td>\n",
       "      <td>1</td>\n",
       "      <td>10</td>\n",
       "      <td>20151101021</td>\n",
       "    </tr>\n",
       "    <tr>\n",
       "      <th>3</th>\n",
       "      <td>2015-11-01 03:00:00</td>\n",
       "      <td>1</td>\n",
       "      <td>7</td>\n",
       "      <td>20151101031</td>\n",
       "    </tr>\n",
       "    <tr>\n",
       "      <th>4</th>\n",
       "      <td>2015-11-01 04:00:00</td>\n",
       "      <td>1</td>\n",
       "      <td>9</td>\n",
       "      <td>20151101041</td>\n",
       "    </tr>\n",
       "  </tbody>\n",
       "</table>\n",
       "</div>"
      ],
      "text/plain": [
       "             DateTime  Junction  Vehicles           ID\n",
       "0 2015-11-01 00:00:00         1        15  20151101001\n",
       "1 2015-11-01 01:00:00         1        13  20151101011\n",
       "2 2015-11-01 02:00:00         1        10  20151101021\n",
       "3 2015-11-01 03:00:00         1         7  20151101031\n",
       "4 2015-11-01 04:00:00         1         9  20151101041"
      ]
     },
     "execution_count": 7,
     "metadata": {},
     "output_type": "execute_result"
    }
   ],
   "source": [
    "# \n",
    "# \n",
    "# First extract the time and date from the Datetime.\n",
    "#It is seen earlier that the data type of Datetime is object. \n",
    "#So first of all, change the data type to datetime format otherwise we can not extract features from it.\n",
    "\n",
    "\n",
    "import datetime \n",
    "\n",
    "train['DateTime'] = pd.to_datetime(train.DateTime,format='%d-%m-%Y %H:%M',infer_datetime_format=True) \n",
    "test['DateTime'] = pd.to_datetime(test.DateTime,format='%d-%m-%Y %H:%M', infer_datetime_format=True) \n",
    "test_original['DateTime'] = pd.to_datetime(test_original.DateTime,format='%d-%m-%Y %H:%M', infer_datetime_format=True) \n",
    "train_original['DateTime'] = pd.to_datetime(train_original.DateTime,format='%d %m %Y %H:%M',  infer_datetime_format=True)\n",
    "\n",
    "\n",
    "train_original.head()"
   ]
  },
  {
   "cell_type": "code",
   "execution_count": 8,
   "metadata": {},
   "outputs": [],
   "source": [
    "for i in (train, test, test_original, train_original):\n",
    "    i['year']=i.DateTime.dt.year \n",
    "    i['month']=i.DateTime.dt.month \n",
    "    i['day']=i.DateTime.dt.day\n",
    "    i['Hour']=i.DateTime.dt.hour \n",
    "    i['quarter']=i.DateTime.dt.quarter\n",
    "    i['dayofyear']=i.DateTime.dt.dayofyear \n",
    "    i['day of week']=i['DateTime'].dt.dayofweek \n",
    "    \n",
    "\n",
    "\n",
    "# The hypothesis is drawn for the traffic pattern on weekday and weekend. \n",
    "#So, a weekend variable is generated to visualize the impact of weekend on traffic\n",
    "#  First extract the day of week from Datetime and then based on the values we will assign whether the day is a weekend or not\n",
    "# Values of 5 and 6 represents that the days are weekend."
   ]
  },
  {
   "cell_type": "code",
   "execution_count": 9,
   "metadata": {},
   "outputs": [
    {
     "data": {
      "text/plain": [
       "((11808, 10), (48120, 11))"
      ]
     },
     "execution_count": 9,
     "metadata": {},
     "output_type": "execute_result"
    }
   ],
   "source": [
    "\n",
    "test.shape,train.shape"
   ]
  },
  {
   "cell_type": "code",
   "execution_count": 10,
   "metadata": {},
   "outputs": [],
   "source": [
    "train['tag']='TRAIN'\n",
    "test['tag']='TEST'\n",
    "combined=pd.concat([train,test],sort=False)"
   ]
  },
  {
   "cell_type": "code",
   "execution_count": 11,
   "metadata": {},
   "outputs": [],
   "source": [
    "\n",
    "# Assigning  1 if the day of week is a weekend and 0 if the day of week in not a weekend.\n",
    "\n",
    "def MONDAY_BLUES(row):\n",
    "    if row.dayofweek == 5 or row.dayofweek == 6:\n",
    "        return 1\n",
    "    else:\n",
    "        return 0 \n",
    "combined['weekend']= combined['DateTime'].apply(MONDAY_BLUES) \n",
    "# test['weekend']= test['DateTime'].apply(MONDAY_BLUES) \n",
    "\n",
    "\n",
    "def peak_hours(row):\n",
    "    if row.hour >= 10 and row.hour <=23:\n",
    "        return 1\n",
    "    else:\n",
    "        return 0\n",
    "combined['peak_hr']= combined['DateTime'].apply(peak_hours) \n",
    "# test['peak_hr']= test['DateTime'].apply(peak_hours) "
   ]
  },
  {
   "cell_type": "code",
   "execution_count": 12,
   "metadata": {},
   "outputs": [
    {
     "data": {
      "text/html": [
       "<div>\n",
       "<style scoped>\n",
       "    .dataframe tbody tr th:only-of-type {\n",
       "        vertical-align: middle;\n",
       "    }\n",
       "\n",
       "    .dataframe tbody tr th {\n",
       "        vertical-align: top;\n",
       "    }\n",
       "\n",
       "    .dataframe thead th {\n",
       "        text-align: right;\n",
       "    }\n",
       "</style>\n",
       "<table border=\"1\" class=\"dataframe\">\n",
       "  <thead>\n",
       "    <tr style=\"text-align: right;\">\n",
       "      <th></th>\n",
       "      <th>DateTime</th>\n",
       "      <th>Junction</th>\n",
       "      <th>Vehicles</th>\n",
       "      <th>ID</th>\n",
       "      <th>year</th>\n",
       "      <th>month</th>\n",
       "      <th>day</th>\n",
       "      <th>Hour</th>\n",
       "      <th>quarter</th>\n",
       "      <th>dayofyear</th>\n",
       "      <th>day of week</th>\n",
       "      <th>tag</th>\n",
       "      <th>weekend</th>\n",
       "      <th>peak_hr</th>\n",
       "    </tr>\n",
       "  </thead>\n",
       "  <tbody>\n",
       "    <tr>\n",
       "      <th>0</th>\n",
       "      <td>2015-11-01 00:00:00</td>\n",
       "      <td>1</td>\n",
       "      <td>15.00</td>\n",
       "      <td>20151101001</td>\n",
       "      <td>2015</td>\n",
       "      <td>11</td>\n",
       "      <td>1</td>\n",
       "      <td>0</td>\n",
       "      <td>4</td>\n",
       "      <td>305</td>\n",
       "      <td>6</td>\n",
       "      <td>TRAIN</td>\n",
       "      <td>1</td>\n",
       "      <td>0</td>\n",
       "    </tr>\n",
       "    <tr>\n",
       "      <th>1</th>\n",
       "      <td>2015-11-01 01:00:00</td>\n",
       "      <td>1</td>\n",
       "      <td>13.00</td>\n",
       "      <td>20151101011</td>\n",
       "      <td>2015</td>\n",
       "      <td>11</td>\n",
       "      <td>1</td>\n",
       "      <td>1</td>\n",
       "      <td>4</td>\n",
       "      <td>305</td>\n",
       "      <td>6</td>\n",
       "      <td>TRAIN</td>\n",
       "      <td>1</td>\n",
       "      <td>0</td>\n",
       "    </tr>\n",
       "    <tr>\n",
       "      <th>2</th>\n",
       "      <td>2015-11-01 02:00:00</td>\n",
       "      <td>1</td>\n",
       "      <td>10.00</td>\n",
       "      <td>20151101021</td>\n",
       "      <td>2015</td>\n",
       "      <td>11</td>\n",
       "      <td>1</td>\n",
       "      <td>2</td>\n",
       "      <td>4</td>\n",
       "      <td>305</td>\n",
       "      <td>6</td>\n",
       "      <td>TRAIN</td>\n",
       "      <td>1</td>\n",
       "      <td>0</td>\n",
       "    </tr>\n",
       "    <tr>\n",
       "      <th>3</th>\n",
       "      <td>2015-11-01 03:00:00</td>\n",
       "      <td>1</td>\n",
       "      <td>7.00</td>\n",
       "      <td>20151101031</td>\n",
       "      <td>2015</td>\n",
       "      <td>11</td>\n",
       "      <td>1</td>\n",
       "      <td>3</td>\n",
       "      <td>4</td>\n",
       "      <td>305</td>\n",
       "      <td>6</td>\n",
       "      <td>TRAIN</td>\n",
       "      <td>1</td>\n",
       "      <td>0</td>\n",
       "    </tr>\n",
       "    <tr>\n",
       "      <th>4</th>\n",
       "      <td>2015-11-01 04:00:00</td>\n",
       "      <td>1</td>\n",
       "      <td>9.00</td>\n",
       "      <td>20151101041</td>\n",
       "      <td>2015</td>\n",
       "      <td>11</td>\n",
       "      <td>1</td>\n",
       "      <td>4</td>\n",
       "      <td>4</td>\n",
       "      <td>305</td>\n",
       "      <td>6</td>\n",
       "      <td>TRAIN</td>\n",
       "      <td>1</td>\n",
       "      <td>0</td>\n",
       "    </tr>\n",
       "  </tbody>\n",
       "</table>\n",
       "</div>"
      ],
      "text/plain": [
       "             DateTime  Junction  Vehicles           ID  year  month  day  \\\n",
       "0 2015-11-01 00:00:00         1     15.00  20151101001  2015     11    1   \n",
       "1 2015-11-01 01:00:00         1     13.00  20151101011  2015     11    1   \n",
       "2 2015-11-01 02:00:00         1     10.00  20151101021  2015     11    1   \n",
       "3 2015-11-01 03:00:00         1      7.00  20151101031  2015     11    1   \n",
       "4 2015-11-01 04:00:00         1      9.00  20151101041  2015     11    1   \n",
       "\n",
       "   Hour  quarter  dayofyear  day of week    tag  weekend  peak_hr  \n",
       "0     0        4        305            6  TRAIN        1        0  \n",
       "1     1        4        305            6  TRAIN        1        0  \n",
       "2     2        4        305            6  TRAIN        1        0  \n",
       "3     3        4        305            6  TRAIN        1        0  \n",
       "4     4        4        305            6  TRAIN        1        0  "
      ]
     },
     "execution_count": 12,
     "metadata": {},
     "output_type": "execute_result"
    }
   ],
   "source": [
    "combined.head()\n"
   ]
  },
  {
   "cell_type": "code",
   "execution_count": 14,
   "metadata": {},
   "outputs": [
    {
     "data": {
      "text/html": [
       "<div>\n",
       "<style scoped>\n",
       "    .dataframe tbody tr th:only-of-type {\n",
       "        vertical-align: middle;\n",
       "    }\n",
       "\n",
       "    .dataframe tbody tr th {\n",
       "        vertical-align: top;\n",
       "    }\n",
       "\n",
       "    .dataframe thead th {\n",
       "        text-align: right;\n",
       "    }\n",
       "</style>\n",
       "<table border=\"1\" class=\"dataframe\">\n",
       "  <thead>\n",
       "    <tr style=\"text-align: right;\">\n",
       "      <th></th>\n",
       "      <th>dates</th>\n",
       "    </tr>\n",
       "  </thead>\n",
       "  <tbody>\n",
       "    <tr>\n",
       "      <th>0</th>\n",
       "      <td>2015-01-01</td>\n",
       "    </tr>\n",
       "    <tr>\n",
       "      <th>1</th>\n",
       "      <td>2015-01-02</td>\n",
       "    </tr>\n",
       "    <tr>\n",
       "      <th>2</th>\n",
       "      <td>2015-01-03</td>\n",
       "    </tr>\n",
       "    <tr>\n",
       "      <th>3</th>\n",
       "      <td>2015-01-04</td>\n",
       "    </tr>\n",
       "    <tr>\n",
       "      <th>4</th>\n",
       "      <td>2015-01-05</td>\n",
       "    </tr>\n",
       "  </tbody>\n",
       "</table>\n",
       "</div>"
      ],
      "text/plain": [
       "       dates\n",
       "0 2015-01-01\n",
       "1 2015-01-02\n",
       "2 2015-01-03\n",
       "3 2015-01-04\n",
       "4 2015-01-05"
      ]
     },
     "execution_count": 14,
     "metadata": {},
     "output_type": "execute_result"
    }
   ],
   "source": [
    "import holidays\n",
    "\n",
    "holiday=[]\n",
    "for date in holidays.India(years=[2015,2016,2017]).items():\n",
    "    holiday.append(str(date[0]))\n",
    "\n",
    "\n",
    "\n",
    "start_date=datetime.datetime(year=2015,month=1,day=1)\n",
    "end_date=datetime.datetime(year=2017,month=12,day=31)\n",
    "df=pd.DataFrame()\n",
    "df['dates']=pd.date_range(start_date,end_date)\n",
    "df.head()"
   ]
  },
  {
   "cell_type": "code",
   "execution_count": 19,
   "metadata": {},
   "outputs": [],
   "source": [
    "combined['Holiday_Tag']=[ 1 if str( val).split()[0] in holiday else 0 for val in combined['DateTime']]"
   ]
  },
  {
   "cell_type": "code",
   "execution_count": 22,
   "metadata": {},
   "outputs": [],
   "source": [
    "combined['Junction']=combined.Junction.astype('str')\n",
    "combined['ID']=combined.ID.astype('str')"
   ]
  },
  {
   "cell_type": "code",
   "execution_count": 49,
   "metadata": {},
   "outputs": [],
   "source": [
    "train= combined[combined['tag']=='TRAIN']\n",
    "\n",
    "test=combined[combined['tag']=='TEST']"
   ]
  },
  {
   "cell_type": "code",
   "execution_count": 50,
   "metadata": {},
   "outputs": [],
   "source": [
    "train=train.drop('tag',axis=1)\n",
    "test=test.drop('tag',axis=1)"
   ]
  },
  {
   "cell_type": "code",
   "execution_count": 51,
   "metadata": {},
   "outputs": [
    {
     "data": {
      "text/plain": [
       "((48120, 14), (11808, 14))"
      ]
     },
     "execution_count": 51,
     "metadata": {},
     "output_type": "execute_result"
    }
   ],
   "source": [
    "train.shape,test.shape"
   ]
  },
  {
   "cell_type": "code",
   "execution_count": 52,
   "metadata": {},
   "outputs": [
    {
     "data": {
      "text/html": [
       "<div>\n",
       "<style scoped>\n",
       "    .dataframe tbody tr th:only-of-type {\n",
       "        vertical-align: middle;\n",
       "    }\n",
       "\n",
       "    .dataframe tbody tr th {\n",
       "        vertical-align: top;\n",
       "    }\n",
       "\n",
       "    .dataframe thead th {\n",
       "        text-align: right;\n",
       "    }\n",
       "</style>\n",
       "<table border=\"1\" class=\"dataframe\">\n",
       "  <thead>\n",
       "    <tr style=\"text-align: right;\">\n",
       "      <th></th>\n",
       "      <th>DateTime</th>\n",
       "      <th>Junction</th>\n",
       "      <th>Vehicles</th>\n",
       "      <th>ID</th>\n",
       "      <th>year</th>\n",
       "      <th>month</th>\n",
       "      <th>day</th>\n",
       "      <th>Hour</th>\n",
       "      <th>quarter</th>\n",
       "      <th>dayofyear</th>\n",
       "      <th>day of week</th>\n",
       "      <th>weekend</th>\n",
       "      <th>peak_hr</th>\n",
       "      <th>Holiday_Tag</th>\n",
       "    </tr>\n",
       "  </thead>\n",
       "  <tbody>\n",
       "    <tr>\n",
       "      <th>0</th>\n",
       "      <td>2015-11-01 00:00:00</td>\n",
       "      <td>1</td>\n",
       "      <td>15.00</td>\n",
       "      <td>20151101001</td>\n",
       "      <td>2015</td>\n",
       "      <td>11</td>\n",
       "      <td>1</td>\n",
       "      <td>0</td>\n",
       "      <td>4</td>\n",
       "      <td>305</td>\n",
       "      <td>6</td>\n",
       "      <td>1</td>\n",
       "      <td>0</td>\n",
       "      <td>0</td>\n",
       "    </tr>\n",
       "    <tr>\n",
       "      <th>1</th>\n",
       "      <td>2015-11-01 01:00:00</td>\n",
       "      <td>1</td>\n",
       "      <td>13.00</td>\n",
       "      <td>20151101011</td>\n",
       "      <td>2015</td>\n",
       "      <td>11</td>\n",
       "      <td>1</td>\n",
       "      <td>1</td>\n",
       "      <td>4</td>\n",
       "      <td>305</td>\n",
       "      <td>6</td>\n",
       "      <td>1</td>\n",
       "      <td>0</td>\n",
       "      <td>0</td>\n",
       "    </tr>\n",
       "    <tr>\n",
       "      <th>2</th>\n",
       "      <td>2015-11-01 02:00:00</td>\n",
       "      <td>1</td>\n",
       "      <td>10.00</td>\n",
       "      <td>20151101021</td>\n",
       "      <td>2015</td>\n",
       "      <td>11</td>\n",
       "      <td>1</td>\n",
       "      <td>2</td>\n",
       "      <td>4</td>\n",
       "      <td>305</td>\n",
       "      <td>6</td>\n",
       "      <td>1</td>\n",
       "      <td>0</td>\n",
       "      <td>0</td>\n",
       "    </tr>\n",
       "    <tr>\n",
       "      <th>3</th>\n",
       "      <td>2015-11-01 03:00:00</td>\n",
       "      <td>1</td>\n",
       "      <td>7.00</td>\n",
       "      <td>20151101031</td>\n",
       "      <td>2015</td>\n",
       "      <td>11</td>\n",
       "      <td>1</td>\n",
       "      <td>3</td>\n",
       "      <td>4</td>\n",
       "      <td>305</td>\n",
       "      <td>6</td>\n",
       "      <td>1</td>\n",
       "      <td>0</td>\n",
       "      <td>0</td>\n",
       "    </tr>\n",
       "    <tr>\n",
       "      <th>4</th>\n",
       "      <td>2015-11-01 04:00:00</td>\n",
       "      <td>1</td>\n",
       "      <td>9.00</td>\n",
       "      <td>20151101041</td>\n",
       "      <td>2015</td>\n",
       "      <td>11</td>\n",
       "      <td>1</td>\n",
       "      <td>4</td>\n",
       "      <td>4</td>\n",
       "      <td>305</td>\n",
       "      <td>6</td>\n",
       "      <td>1</td>\n",
       "      <td>0</td>\n",
       "      <td>0</td>\n",
       "    </tr>\n",
       "  </tbody>\n",
       "</table>\n",
       "</div>"
      ],
      "text/plain": [
       "             DateTime Junction  Vehicles           ID  year  month  day  Hour  \\\n",
       "0 2015-11-01 00:00:00        1     15.00  20151101001  2015     11    1     0   \n",
       "1 2015-11-01 01:00:00        1     13.00  20151101011  2015     11    1     1   \n",
       "2 2015-11-01 02:00:00        1     10.00  20151101021  2015     11    1     2   \n",
       "3 2015-11-01 03:00:00        1      7.00  20151101031  2015     11    1     3   \n",
       "4 2015-11-01 04:00:00        1      9.00  20151101041  2015     11    1     4   \n",
       "\n",
       "   quarter  dayofyear  day of week  weekend  peak_hr  Holiday_Tag  \n",
       "0        4        305            6        1        0            0  \n",
       "1        4        305            6        1        0            0  \n",
       "2        4        305            6        1        0            0  \n",
       "3        4        305            6        1        0            0  \n",
       "4        4        305            6        1        0            0  "
      ]
     },
     "execution_count": 52,
     "metadata": {},
     "output_type": "execute_result"
    }
   ],
   "source": [
    "train.head()"
   ]
  },
  {
   "cell_type": "code",
   "execution_count": 53,
   "metadata": {},
   "outputs": [
    {
     "data": {
      "text/html": [
       "<div>\n",
       "<style scoped>\n",
       "    .dataframe tbody tr th:only-of-type {\n",
       "        vertical-align: middle;\n",
       "    }\n",
       "\n",
       "    .dataframe tbody tr th {\n",
       "        vertical-align: top;\n",
       "    }\n",
       "\n",
       "    .dataframe thead th {\n",
       "        text-align: right;\n",
       "    }\n",
       "</style>\n",
       "<table border=\"1\" class=\"dataframe\">\n",
       "  <thead>\n",
       "    <tr style=\"text-align: right;\">\n",
       "      <th></th>\n",
       "      <th>DateTime</th>\n",
       "      <th>Junction</th>\n",
       "      <th>Vehicles</th>\n",
       "      <th>ID</th>\n",
       "      <th>year</th>\n",
       "      <th>month</th>\n",
       "      <th>day</th>\n",
       "      <th>Hour</th>\n",
       "      <th>quarter</th>\n",
       "      <th>dayofyear</th>\n",
       "      <th>day of week</th>\n",
       "      <th>weekend</th>\n",
       "      <th>peak_hr</th>\n",
       "      <th>Holiday_Tag</th>\n",
       "    </tr>\n",
       "  </thead>\n",
       "  <tbody>\n",
       "    <tr>\n",
       "      <th>0</th>\n",
       "      <td>2017-07-01 00:00:00</td>\n",
       "      <td>1</td>\n",
       "      <td>nan</td>\n",
       "      <td>20170701001</td>\n",
       "      <td>2017</td>\n",
       "      <td>7</td>\n",
       "      <td>1</td>\n",
       "      <td>0</td>\n",
       "      <td>3</td>\n",
       "      <td>182</td>\n",
       "      <td>5</td>\n",
       "      <td>1</td>\n",
       "      <td>0</td>\n",
       "      <td>0</td>\n",
       "    </tr>\n",
       "    <tr>\n",
       "      <th>1</th>\n",
       "      <td>2017-07-01 01:00:00</td>\n",
       "      <td>1</td>\n",
       "      <td>nan</td>\n",
       "      <td>20170701011</td>\n",
       "      <td>2017</td>\n",
       "      <td>7</td>\n",
       "      <td>1</td>\n",
       "      <td>1</td>\n",
       "      <td>3</td>\n",
       "      <td>182</td>\n",
       "      <td>5</td>\n",
       "      <td>1</td>\n",
       "      <td>0</td>\n",
       "      <td>0</td>\n",
       "    </tr>\n",
       "    <tr>\n",
       "      <th>2</th>\n",
       "      <td>2017-07-01 02:00:00</td>\n",
       "      <td>1</td>\n",
       "      <td>nan</td>\n",
       "      <td>20170701021</td>\n",
       "      <td>2017</td>\n",
       "      <td>7</td>\n",
       "      <td>1</td>\n",
       "      <td>2</td>\n",
       "      <td>3</td>\n",
       "      <td>182</td>\n",
       "      <td>5</td>\n",
       "      <td>1</td>\n",
       "      <td>0</td>\n",
       "      <td>0</td>\n",
       "    </tr>\n",
       "    <tr>\n",
       "      <th>3</th>\n",
       "      <td>2017-07-01 03:00:00</td>\n",
       "      <td>1</td>\n",
       "      <td>nan</td>\n",
       "      <td>20170701031</td>\n",
       "      <td>2017</td>\n",
       "      <td>7</td>\n",
       "      <td>1</td>\n",
       "      <td>3</td>\n",
       "      <td>3</td>\n",
       "      <td>182</td>\n",
       "      <td>5</td>\n",
       "      <td>1</td>\n",
       "      <td>0</td>\n",
       "      <td>0</td>\n",
       "    </tr>\n",
       "    <tr>\n",
       "      <th>4</th>\n",
       "      <td>2017-07-01 04:00:00</td>\n",
       "      <td>1</td>\n",
       "      <td>nan</td>\n",
       "      <td>20170701041</td>\n",
       "      <td>2017</td>\n",
       "      <td>7</td>\n",
       "      <td>1</td>\n",
       "      <td>4</td>\n",
       "      <td>3</td>\n",
       "      <td>182</td>\n",
       "      <td>5</td>\n",
       "      <td>1</td>\n",
       "      <td>0</td>\n",
       "      <td>0</td>\n",
       "    </tr>\n",
       "  </tbody>\n",
       "</table>\n",
       "</div>"
      ],
      "text/plain": [
       "             DateTime Junction  Vehicles           ID  year  month  day  Hour  \\\n",
       "0 2017-07-01 00:00:00        1       nan  20170701001  2017      7    1     0   \n",
       "1 2017-07-01 01:00:00        1       nan  20170701011  2017      7    1     1   \n",
       "2 2017-07-01 02:00:00        1       nan  20170701021  2017      7    1     2   \n",
       "3 2017-07-01 03:00:00        1       nan  20170701031  2017      7    1     3   \n",
       "4 2017-07-01 04:00:00        1       nan  20170701041  2017      7    1     4   \n",
       "\n",
       "   quarter  dayofyear  day of week  weekend  peak_hr  Holiday_Tag  \n",
       "0        3        182            5        1        0            0  \n",
       "1        3        182            5        1        0            0  \n",
       "2        3        182            5        1        0            0  \n",
       "3        3        182            5        1        0            0  \n",
       "4        3        182            5        1        0            0  "
      ]
     },
     "execution_count": 53,
     "metadata": {},
     "output_type": "execute_result"
    }
   ],
   "source": [
    "test.head()"
   ]
  },
  {
   "cell_type": "markdown",
   "metadata": {},
   "source": [
    "# Exploratory Data Analysis"
   ]
  },
  {
   "cell_type": "code",
   "execution_count": 54,
   "metadata": {
    "scrolled": true
   },
   "outputs": [
    {
     "data": {
      "text/plain": [
       "<matplotlib.axes._subplots.AxesSubplot at 0x1ef8cebcc88>"
      ]
     },
     "execution_count": 54,
     "metadata": {},
     "output_type": "execute_result"
    },
    {
     "data": {
      "image/png": "[encoded data removed]",
      "text/plain": [
       "<Figure size 792x648 with 1 Axes>"
      ]
     },
     "metadata": {
      "needs_background": "light"
     },
     "output_type": "display_data"
    }
   ],
   "source": [
    "train.groupby('year')['Vehicles'].mean().plot.bar(fontsize=20,figsize=(11,9),title='Yearly Vehicles Count')"
   ]
  },
  {
   "cell_type": "code",
   "execution_count": 55,
   "metadata": {},
   "outputs": [
    {
     "data": {
      "text/plain": [
       "<matplotlib.axes._subplots.AxesSubplot at 0x1ef8fc50908>"
      ]
     },
     "execution_count": 55,
     "metadata": {},
     "output_type": "execute_result"
    },
    {
     "data": {
      "image/png": "[encoded data removed]",
      "text/plain": [
       "<Figure size 792x648 with 1 Axes>"
      ]
     },
     "metadata": {
      "needs_background": "light"
     },
     "output_type": "display_data"
    }
   ],
   "source": [
    "train.groupby(['year','Junction'])['Vehicles'].mean().plot.bar(fontsize=20,figsize=(11,9),title='Yearly Vehicles Count')"
   ]
  },
  {
   "cell_type": "code",
   "execution_count": 56,
   "metadata": {},
   "outputs": [],
   "source": [
    "# We can see yearly growth in the number of vehicles every year, shows how increase in population affects the same.\n",
    "#supports our hypothesis\n",
    "\n",
    "#the second chart also shows that the Junction 1 encounters the maximum number of vehicles every year"
   ]
  },
  {
   "cell_type": "code",
   "execution_count": 57,
   "metadata": {},
   "outputs": [
    {
     "data": {
      "text/plain": [
       "<matplotlib.axes._subplots.AxesSubplot at 0x1ef8cf47860>"
      ]
     },
     "execution_count": 57,
     "metadata": {},
     "output_type": "execute_result"
    },
    {
     "data": {
      "image/png": "[encoded data removed]",
      "text/plain": [
       "<Figure size 792x648 with 1 Axes>"
      ]
     },
     "metadata": {
      "needs_background": "light"
     },
     "output_type": "display_data"
    }
   ],
   "source": [
    "train.groupby('month')['Vehicles'].mean().plot.bar(fontsize=20,figsize=(11,9),title='Monthly Vehicles Count')"
   ]
  },
  {
   "cell_type": "code",
   "execution_count": 58,
   "metadata": {},
   "outputs": [
    {
     "data": {
      "text/plain": [
       "<matplotlib.axes._subplots.AxesSubplot at 0x1ef8cf81eb8>"
      ]
     },
     "execution_count": 58,
     "metadata": {},
     "output_type": "execute_result"
    },
    {
     "data": {
      "image/png": "[encoded data removed]",
      "text/plain": [
       "<Figure size 792x648 with 1 Axes>"
      ]
     },
     "metadata": {
      "needs_background": "light"
     },
     "output_type": "display_data"
    }
   ],
   "source": [
    "train.groupby('day')['Vehicles'].mean().plot.bar(fontsize=20,figsize=(11,9),title='Daily Vehicles Count')"
   ]
  },
  {
   "cell_type": "code",
   "execution_count": 59,
   "metadata": {},
   "outputs": [],
   "source": [
    "# Monthly and daily doesn't give us any valuable insight to support our hypothesis"
   ]
  },
  {
   "cell_type": "code",
   "execution_count": 60,
   "metadata": {},
   "outputs": [
    {
     "data": {
      "text/plain": [
       "<matplotlib.axes._subplots.AxesSubplot at 0x1ef8fd1be10>"
      ]
     },
     "execution_count": 60,
     "metadata": {},
     "output_type": "execute_result"
    },
    {
     "data": {
      "image/png": "[encoded data removed]",
      "text/plain": [
       "<Figure size 792x648 with 1 Axes>"
      ]
     },
     "metadata": {
      "needs_background": "light"
     },
     "output_type": "display_data"
    }
   ],
   "source": [
    "train.groupby('Hour')['Vehicles'].mean().plot.bar(fontsize=20,figsize=(11,9),title='Hourly Vehicles Count')"
   ]
  },
  {
   "cell_type": "code",
   "execution_count": 61,
   "metadata": {},
   "outputs": [
    {
     "data": {
      "text/plain": [
       "<matplotlib.axes._subplots.AxesSubplot at 0x1ef8fdbd320>"
      ]
     },
     "execution_count": 61,
     "metadata": {},
     "output_type": "execute_result"
    },
    {
     "data": {
      "image/png": "[encoded data removed]",
      "text/plain": [
       "<Figure size 3600x1800 with 1 Axes>"
      ]
     },
     "metadata": {
      "needs_background": "light"
     },
     "output_type": "display_data"
    }
   ],
   "source": [
    "train.groupby(['Junction','peak_hr'])['Vehicles'].mean().plot.bar(fontsize=29,figsize=(50,25),title='Hourly Vehicles Count')"
   ]
  },
  {
   "cell_type": "code",
   "execution_count": 62,
   "metadata": {},
   "outputs": [],
   "source": [
    "# vehicle count is at it's peak during  work hours-- supports our hypothesis"
   ]
  },
  {
   "cell_type": "code",
   "execution_count": 63,
   "metadata": {},
   "outputs": [
    {
     "data": {
      "text/plain": [
       "<matplotlib.axes._subplots.AxesSubplot at 0x1ef8fe44630>"
      ]
     },
     "execution_count": 63,
     "metadata": {},
     "output_type": "execute_result"
    },
    {
     "data": {
      "image/png": "[encoded data removed]",
      "text/plain": [
       "<Figure size 792x648 with 1 Axes>"
      ]
     },
     "metadata": {
      "needs_background": "light"
     },
     "output_type": "display_data"
    }
   ],
   "source": [
    "train.groupby('day of week')['Vehicles'].mean().plot.bar(fontsize=20,figsize=(11,9),title='Vehicles Count on different days of the week')"
   ]
  },
  {
   "cell_type": "code",
   "execution_count": 64,
   "metadata": {},
   "outputs": [
    {
     "data": {
      "text/plain": [
       "<matplotlib.axes._subplots.AxesSubplot at 0x1ef907f7550>"
      ]
     },
     "execution_count": 64,
     "metadata": {},
     "output_type": "execute_result"
    },
    {
     "data": {
      "image/png": "[encoded data removed]",
      "text/plain": [
       "<Figure size 792x648 with 1 Axes>"
      ]
     },
     "metadata": {
      "needs_background": "light"
     },
     "output_type": "display_data"
    }
   ],
   "source": [
    "train.groupby(['day of week','Junction'])['Vehicles'].mean().plot.bar(fontsize=20,figsize=(11,9),title='Vehicles Count on different days of the week')"
   ]
  },
  {
   "cell_type": "code",
   "execution_count": 65,
   "metadata": {},
   "outputs": [
    {
     "data": {
      "text/plain": [
       "<matplotlib.axes._subplots.AxesSubplot at 0x1ef90a22d30>"
      ]
     },
     "execution_count": 65,
     "metadata": {},
     "output_type": "execute_result"
    },
    {
     "data": {
      "image/png": "[encoded data removed]",
      "text/plain": [
       "<Figure size 792x648 with 1 Axes>"
      ]
     },
     "metadata": {
      "needs_background": "light"
     },
     "output_type": "display_data"
    }
   ],
   "source": [
    "train.groupby('weekend')['Vehicles'].mean().plot.bar(fontsize=20,figsize=(11,9),title='Vehicles Count on weekend/Non-weekend')"
   ]
  },
  {
   "cell_type": "code",
   "execution_count": 66,
   "metadata": {},
   "outputs": [
    {
     "data": {
      "text/plain": [
       "<matplotlib.axes._subplots.AxesSubplot at 0x1ef90aa70f0>"
      ]
     },
     "execution_count": 66,
     "metadata": {},
     "output_type": "execute_result"
    },
    {
     "data": {
      "image/png": "[encoded data removed]",
      "text/plain": [
       "<Figure size 792x648 with 1 Axes>"
      ]
     },
     "metadata": {
      "needs_background": "light"
     },
     "output_type": "display_data"
    }
   ],
   "source": [
    "train.groupby(['weekend','Junction'])['Vehicles'].mean().plot.bar(fontsize=20,figsize=(11,9),title='Vehicles Count on weekend/Non-weekend')"
   ]
  },
  {
   "cell_type": "code",
   "execution_count": 67,
   "metadata": {},
   "outputs": [
    {
     "data": {
      "text/plain": [
       "weekend  Junction\n",
       "0        1          49.77\n",
       "         2          15.83\n",
       "         3          13.79\n",
       "         4           7.65\n",
       "1        1          33.20\n",
       "         2          10.28\n",
       "         3          13.44\n",
       "         4           6.24\n",
       "Name: Vehicles, dtype: float64"
      ]
     },
     "execution_count": 67,
     "metadata": {},
     "output_type": "execute_result"
    }
   ],
   "source": [
    "train.groupby(['weekend','Junction'])['Vehicles'].mean()"
   ]
  },
  {
   "cell_type": "code",
   "execution_count": 68,
   "metadata": {},
   "outputs": [
    {
     "data": {
      "text/plain": [
       "<matplotlib.axes._subplots.AxesSubplot at 0x1ef90b02400>"
      ]
     },
     "execution_count": 68,
     "metadata": {},
     "output_type": "execute_result"
    },
    {
     "data": {
      "image/png": "[encoded data removed]",
      "text/plain": [
       "<Figure size 792x648 with 1 Axes>"
      ]
     },
     "metadata": {
      "needs_background": "light"
     },
     "output_type": "display_data"
    }
   ],
   "source": [
    "train.groupby(['Holiday_Tag','Junction'])['Vehicles'].mean().plot.bar(fontsize=20,figsize=(11,9),title='Vehicles Count on Holidays')"
   ]
  },
  {
   "cell_type": "code",
   "execution_count": 69,
   "metadata": {},
   "outputs": [],
   "source": [
    "# Remember the weekend was tagged as 1 ?\n",
    "# this supports as hypothesis of weekend having lesser number of vehicles count\n",
    "\n",
    "# Junction 3 has similar count of vehicles even on a weekend, interesting?\n",
    "# probably a place where essential commodities are spread."
   ]
  },
  {
   "cell_type": "code",
   "execution_count": 70,
   "metadata": {},
   "outputs": [],
   "source": [
    "train.index=pd.to_datetime(train.DateTime)\n",
    "test.index=pd.to_datetime(test.DateTime)"
   ]
  },
  {
   "cell_type": "code",
   "execution_count": 71,
   "metadata": {},
   "outputs": [],
   "source": [
    "train=train.drop('DateTime',1)\n",
    "test=test.drop('DateTime',1)"
   ]
  },
  {
   "cell_type": "code",
   "execution_count": 72,
   "metadata": {},
   "outputs": [
    {
     "name": "stderr",
     "output_type": "stream",
     "text": [
      "C:\\ProgramData\\Anaconda3\\lib\\site-packages\\pandas\\core\\frame.py:3790: SettingWithCopyWarning: \n",
      "A value is trying to be set on a copy of a slice from a DataFrame\n",
      "\n",
      "See the caveats in the documentation: http://pandas.pydata.org/pandas-docs/stable/indexing.html#indexing-view-versus-copy\n",
      "  downcast=downcast, **kwargs)\n"
     ]
    },
    {
     "data": {
      "image/png": "[encoded data removed]",
      "text/plain": [
       "<Figure size 720x720 with 2 Axes>"
      ]
     },
     "metadata": {
      "needs_background": "light"
     },
     "output_type": "display_data"
    },
    {
     "data": {
      "text/plain": [
       "{'corr':              Junction  Vehicles  year  month   day  Hour  quarter  dayofyear  \\\n",
       " Junction         1.00      0.71  0.37   0.21  0.00  0.00     0.22       0.21   \n",
       " Vehicles         0.71      1.00  0.22  -0.02  0.03  0.22    -0.03      -0.02   \n",
       " year             0.37      0.22  1.00  -0.62 -0.01  0.00    -0.63      -0.62   \n",
       " month            0.21     -0.02 -0.62   1.00  0.01 -0.00     0.97       1.00   \n",
       " day              0.00      0.03 -0.01   0.01  1.00  0.00     0.01       0.09   \n",
       " Hour             0.00      0.22  0.00  -0.00  0.00  1.00     0.00      -0.00   \n",
       " quarter          0.22     -0.03 -0.63   0.97  0.01  0.00     1.00       0.97   \n",
       " dayofyear        0.21     -0.02 -0.62   1.00  0.09 -0.00     0.97       1.00   \n",
       " day of week      0.00     -0.13  0.00  -0.00 -0.00 -0.00     0.00      -0.00   \n",
       " weekend          0.00     -0.15 -0.00  -0.01  0.00 -0.00     0.00      -0.01   \n",
       " peak_hr          0.00      0.26  0.00  -0.00  0.00  0.85    -0.00      -0.00   \n",
       " Holiday_Tag      0.00     -0.03  0.00  -0.02 -0.01  0.00    -0.01      -0.02   \n",
       " \n",
       "              day of week  weekend  peak_hr  Holiday_Tag  \n",
       " Junction            0.00     0.00     0.00         0.00  \n",
       " Vehicles           -0.13    -0.15     0.26        -0.03  \n",
       " year                0.00    -0.00     0.00         0.00  \n",
       " month              -0.00    -0.01    -0.00        -0.02  \n",
       " day                -0.00     0.00     0.00        -0.01  \n",
       " Hour               -0.00    -0.00     0.85         0.00  \n",
       " quarter             0.00     0.00    -0.00        -0.01  \n",
       " dayofyear          -0.00    -0.01    -0.00        -0.02  \n",
       " day of week         1.00     0.79    -0.00         0.02  \n",
       " weekend             0.79     1.00     0.00         0.03  \n",
       " peak_hr            -0.00     0.00     1.00         0.00  \n",
       " Holiday_Tag         0.02     0.03     0.00         1.00  ,\n",
       " 'ax': <matplotlib.axes._subplots.AxesSubplot at 0x1ef90b7d438>}"
      ]
     },
     "execution_count": 72,
     "metadata": {},
     "output_type": "execute_result"
    }
   ],
   "source": [
    "# Dython\n",
    "# A set of Data analysis tools in pYTHON 3.x.\n",
    "\n",
    "# Key features:\n",
    "\n",
    "# Measures of association for categorical features\n",
    "# Plot features correlation and association for mixed data-sets (categorical and continuous features) in an easy and simple way\n",
    "# Plot ROC curves with AUC scores and estimated-optimal thresholds\n",
    "\n",
    "nums = list(train.select_dtypes(exclude=['object']).columns)\n",
    "from dython.nominal import associations\n",
    "\n",
    "cat = [x for x in train.dtypes.index if train.dtypes[x]=='object']\n",
    "cat = [x for x in cat if x not in ['ID']]\n",
    "associations(train[(cat+nums)], theil_u=True, figsize=(10, 10))"
   ]
  },
  {
   "cell_type": "code",
   "execution_count": 73,
   "metadata": {},
   "outputs": [
    {
     "data": {
      "text/plain": [
       "Index(['DateTime', 'Junction', 'Vehicles', 'ID', 'year', 'month', 'day',\n",
       "       'Hour', 'quarter', 'dayofyear', 'day of week', 'tag', 'weekend',\n",
       "       'peak_hr', 'Holiday_Tag'],\n",
       "      dtype='object')"
      ]
     },
     "execution_count": 73,
     "metadata": {},
     "output_type": "execute_result"
    }
   ],
   "source": [
    "combined.columns"
   ]
  },
  {
   "cell_type": "code",
   "execution_count": 74,
   "metadata": {},
   "outputs": [],
   "source": [
    "TEMP_DATA=combined[[ 'Junction', 'Vehicles', 'ID', 'year', 'month', 'day',\n",
    "       'Hour', 'quarter', 'dayofyear', 'day of week', 'tag', 'weekend',\n",
    "       'peak_hr', 'Holiday_Tag']]"
   ]
  },
  {
   "cell_type": "code",
   "execution_count": 75,
   "metadata": {},
   "outputs": [],
   "source": [
    "cat_vars=['Junction']\n",
    "def encode_and_bind(original_dataframe, feature_to_encode):\n",
    "    dummies = pd.get_dummies(original_dataframe[feature_to_encode],drop_first=True)\n",
    "    res = pd.concat([original_dataframe, dummies], axis=1)\n",
    "    res = res.drop(feature_to_encode, axis=1)\n",
    "    return(res)\n",
    "OHE=encode_and_bind(TEMP_DATA,cat_vars)"
   ]
  },
  {
   "cell_type": "code",
   "execution_count": 76,
   "metadata": {},
   "outputs": [
    {
     "data": {
      "text/html": [
       "<div>\n",
       "<style scoped>\n",
       "    .dataframe tbody tr th:only-of-type {\n",
       "        vertical-align: middle;\n",
       "    }\n",
       "\n",
       "    .dataframe tbody tr th {\n",
       "        vertical-align: top;\n",
       "    }\n",
       "\n",
       "    .dataframe thead th {\n",
       "        text-align: right;\n",
       "    }\n",
       "</style>\n",
       "<table border=\"1\" class=\"dataframe\">\n",
       "  <thead>\n",
       "    <tr style=\"text-align: right;\">\n",
       "      <th></th>\n",
       "      <th>Vehicles</th>\n",
       "      <th>ID</th>\n",
       "      <th>year</th>\n",
       "      <th>month</th>\n",
       "      <th>day</th>\n",
       "      <th>Hour</th>\n",
       "      <th>quarter</th>\n",
       "      <th>dayofyear</th>\n",
       "      <th>day of week</th>\n",
       "      <th>tag</th>\n",
       "      <th>weekend</th>\n",
       "      <th>peak_hr</th>\n",
       "      <th>Holiday_Tag</th>\n",
       "      <th>Junction_2</th>\n",
       "      <th>Junction_3</th>\n",
       "      <th>Junction_4</th>\n",
       "    </tr>\n",
       "  </thead>\n",
       "  <tbody>\n",
       "    <tr>\n",
       "      <th>0</th>\n",
       "      <td>15.00</td>\n",
       "      <td>20151101001</td>\n",
       "      <td>2015</td>\n",
       "      <td>11</td>\n",
       "      <td>1</td>\n",
       "      <td>0</td>\n",
       "      <td>4</td>\n",
       "      <td>305</td>\n",
       "      <td>6</td>\n",
       "      <td>TRAIN</td>\n",
       "      <td>1</td>\n",
       "      <td>0</td>\n",
       "      <td>0</td>\n",
       "      <td>0</td>\n",
       "      <td>0</td>\n",
       "      <td>0</td>\n",
       "    </tr>\n",
       "    <tr>\n",
       "      <th>1</th>\n",
       "      <td>13.00</td>\n",
       "      <td>20151101011</td>\n",
       "      <td>2015</td>\n",
       "      <td>11</td>\n",
       "      <td>1</td>\n",
       "      <td>1</td>\n",
       "      <td>4</td>\n",
       "      <td>305</td>\n",
       "      <td>6</td>\n",
       "      <td>TRAIN</td>\n",
       "      <td>1</td>\n",
       "      <td>0</td>\n",
       "      <td>0</td>\n",
       "      <td>0</td>\n",
       "      <td>0</td>\n",
       "      <td>0</td>\n",
       "    </tr>\n",
       "    <tr>\n",
       "      <th>2</th>\n",
       "      <td>10.00</td>\n",
       "      <td>20151101021</td>\n",
       "      <td>2015</td>\n",
       "      <td>11</td>\n",
       "      <td>1</td>\n",
       "      <td>2</td>\n",
       "      <td>4</td>\n",
       "      <td>305</td>\n",
       "      <td>6</td>\n",
       "      <td>TRAIN</td>\n",
       "      <td>1</td>\n",
       "      <td>0</td>\n",
       "      <td>0</td>\n",
       "      <td>0</td>\n",
       "      <td>0</td>\n",
       "      <td>0</td>\n",
       "    </tr>\n",
       "    <tr>\n",
       "      <th>3</th>\n",
       "      <td>7.00</td>\n",
       "      <td>20151101031</td>\n",
       "      <td>2015</td>\n",
       "      <td>11</td>\n",
       "      <td>1</td>\n",
       "      <td>3</td>\n",
       "      <td>4</td>\n",
       "      <td>305</td>\n",
       "      <td>6</td>\n",
       "      <td>TRAIN</td>\n",
       "      <td>1</td>\n",
       "      <td>0</td>\n",
       "      <td>0</td>\n",
       "      <td>0</td>\n",
       "      <td>0</td>\n",
       "      <td>0</td>\n",
       "    </tr>\n",
       "    <tr>\n",
       "      <th>4</th>\n",
       "      <td>9.00</td>\n",
       "      <td>20151101041</td>\n",
       "      <td>2015</td>\n",
       "      <td>11</td>\n",
       "      <td>1</td>\n",
       "      <td>4</td>\n",
       "      <td>4</td>\n",
       "      <td>305</td>\n",
       "      <td>6</td>\n",
       "      <td>TRAIN</td>\n",
       "      <td>1</td>\n",
       "      <td>0</td>\n",
       "      <td>0</td>\n",
       "      <td>0</td>\n",
       "      <td>0</td>\n",
       "      <td>0</td>\n",
       "    </tr>\n",
       "  </tbody>\n",
       "</table>\n",
       "</div>"
      ],
      "text/plain": [
       "   Vehicles           ID  year  month  day  Hour  quarter  dayofyear  \\\n",
       "0     15.00  20151101001  2015     11    1     0        4        305   \n",
       "1     13.00  20151101011  2015     11    1     1        4        305   \n",
       "2     10.00  20151101021  2015     11    1     2        4        305   \n",
       "3      7.00  20151101031  2015     11    1     3        4        305   \n",
       "4      9.00  20151101041  2015     11    1     4        4        305   \n",
       "\n",
       "   day of week    tag  weekend  peak_hr  Holiday_Tag  Junction_2  Junction_3  \\\n",
       "0            6  TRAIN        1        0            0           0           0   \n",
       "1            6  TRAIN        1        0            0           0           0   \n",
       "2            6  TRAIN        1        0            0           0           0   \n",
       "3            6  TRAIN        1        0            0           0           0   \n",
       "4            6  TRAIN        1        0            0           0           0   \n",
       "\n",
       "   Junction_4  \n",
       "0           0  \n",
       "1           0  \n",
       "2           0  \n",
       "3           0  \n",
       "4           0  "
      ]
     },
     "execution_count": 76,
     "metadata": {},
     "output_type": "execute_result"
    }
   ],
   "source": [
    "OHE.head()"
   ]
  },
  {
   "cell_type": "code",
   "execution_count": 77,
   "metadata": {},
   "outputs": [],
   "source": [
    "train=OHE[OHE['tag']=='TRAIN']\n",
    "test=OHE[OHE['tag']=='TEST']\n",
    "train=train.drop('tag',axis=1)\n",
    "test=test.drop('tag',axis=1)"
   ]
  },
  {
   "cell_type": "code",
   "execution_count": 78,
   "metadata": {},
   "outputs": [
    {
     "data": {
      "text/plain": [
       "Index(['Vehicles', 'ID', 'year', 'month', 'day', 'Hour', 'quarter',\n",
       "       'dayofyear', 'day of week', 'weekend', 'peak_hr', 'Holiday_Tag',\n",
       "       'Junction_2', 'Junction_3', 'Junction_4'],\n",
       "      dtype='object')"
      ]
     },
     "execution_count": 78,
     "metadata": {},
     "output_type": "execute_result"
    }
   ],
   "source": [
    "train.columns"
   ]
  },
  {
   "cell_type": "code",
   "execution_count": 79,
   "metadata": {},
   "outputs": [],
   "source": [
    "# predictors=[ 'year', 'month', 'day', 'Hour', 'quarter',\n",
    "#        'dayofyear', 'day of week', 'weekend', 'peak_hr', 'Junction_2',\n",
    "#        'Junction_3', 'Junction_4']\n",
    "predictors=[ 'year', 'month', 'day', 'Hour', 'quarter',\n",
    "       'dayofyear', 'day of week', 'weekend', 'peak_hr', 'Holiday_Tag',\n",
    "       'Junction_2', 'Junction_3', 'Junction_4']\n",
    "# predictors=['Junction','weekend']\n",
    "target='Vehicles'\n",
    "IDcol= 'ID'"
   ]
  },
  {
   "cell_type": "code",
   "execution_count": 80,
   "metadata": {},
   "outputs": [],
   "source": [
    "# Train=train.loc['2015-11-01':'2017-02-28'] \n",
    "# Valid=train.loc['2017-3-01':'2017-6-30'] \n",
    "# train_test_split(train[predictors], train[target], train_size=0.*,test_size=0.*, random_state=*)\n",
    "\n",
    "from sklearn.model_selection import train_test_split\n",
    "train_X, test_X, train_Y, test_Y = train_test_split(train[predictors], train[target], test_size = .20, random_state= 42)"
   ]
  },
  {
   "cell_type": "markdown",
   "metadata": {},
   "source": [
    "# GRID SEARCH "
   ]
  },
  {
   "cell_type": "markdown",
   "metadata": {},
   "source": [
    "In this grid search I will try different combinations of RF hyperparameters.\n",
    "\n",
    "Most important hyperparameters of Random Forest:\n",
    "\n",
    "n_estimators = n of trees\n",
    "\n",
    "max_features = max number of features considered for splitting a node\n",
    "\n",
    "max_depth = max number of levels in each decision tree\n",
    "\n",
    "min_samples_split = min number of data points placed in a node before the node is split\n",
    "\n",
    "min_samples_leaf = min number of data points allowed in a leaf node\n",
    "\n",
    "bootstrap = method for sampling data points (with or without replacement)"
   ]
  },
  {
   "cell_type": "code",
   "execution_count": 81,
   "metadata": {},
   "outputs": [],
   "source": [
    "# Import the model we are using\n",
    "from sklearn.ensemble import RandomForestRegressor\n",
    "# Instantiate model with 1000 decision trees\n",
    "# rf = RandomForestRegressor(n_estimators = 1000, random_state = 42,verbose=True,n_jobs=-1)\n",
    "rf = RandomForestRegressor(n_jobs=-1)\n",
    "# Train the model on training data\n",
    "# rf.fit(train_X, train_Y);"
   ]
  },
  {
   "cell_type": "code",
   "execution_count": 82,
   "metadata": {},
   "outputs": [
    {
     "data": {
      "text/plain": [
       "GridSearchCV(cv=10, error_score=nan,\n",
       "             estimator=RandomForestRegressor(bootstrap=True, ccp_alpha=0.0,\n",
       "                                             criterion='mse', max_depth=None,\n",
       "                                             max_features='auto',\n",
       "                                             max_leaf_nodes=None,\n",
       "                                             max_samples=None,\n",
       "                                             min_impurity_decrease=0.0,\n",
       "                                             min_impurity_split=None,\n",
       "                                             min_samples_leaf=1,\n",
       "                                             min_samples_split=2,\n",
       "                                             min_weight_fraction_leaf=0.0,\n",
       "                                             n_estimators=100, n_jobs=-1,\n",
       "                                             oob_score=False, random_state=None,\n",
       "                                             verbose=0, warm_start=False),\n",
       "             iid='deprecated', n_jobs=None,\n",
       "             param_grid=[{'bootstrap': [True, False],\n",
       "                          'max_depth': [10, 50, None], 'max_features': [5, 10],\n",
       "                          'n_estimators': [10, 25]}],\n",
       "             pre_dispatch='2*n_jobs', refit=True, return_train_score=False,\n",
       "             scoring='neg_mean_squared_error', verbose=0)"
      ]
     },
     "execution_count": 82,
     "metadata": {},
     "output_type": "execute_result"
    }
   ],
   "source": [
    "from sklearn.model_selection import GridSearchCV\n",
    "\n",
    "param_grid = [\n",
    "{'n_estimators': [10, 25], 'max_features': [5, 10], \n",
    " 'max_depth': [10, 50, None], 'bootstrap': [True, False]}\n",
    "]\n",
    "\n",
    "grid_search_forest = GridSearchCV(rf, param_grid, cv=10, scoring='neg_mean_squared_error')\n",
    "grid_search_forest.fit(train_X, train_Y)"
   ]
  },
  {
   "cell_type": "code",
   "execution_count": 83,
   "metadata": {},
   "outputs": [
    {
     "name": "stdout",
     "output_type": "stream",
     "text": [
      "5.625686046431256 {'bootstrap': True, 'max_depth': 10, 'max_features': 5, 'n_estimators': 10}\n",
      "5.54620924746624 {'bootstrap': True, 'max_depth': 10, 'max_features': 5, 'n_estimators': 25}\n",
      "5.246663516966532 {'bootstrap': True, 'max_depth': 10, 'max_features': 10, 'n_estimators': 10}\n",
      "5.1758757854165305 {'bootstrap': True, 'max_depth': 10, 'max_features': 10, 'n_estimators': 25}\n",
      "4.085363176146124 {'bootstrap': True, 'max_depth': 50, 'max_features': 5, 'n_estimators': 10}\n",
      "3.930754157331409 {'bootstrap': True, 'max_depth': 50, 'max_features': 5, 'n_estimators': 25}\n",
      "4.069904189737221 {'bootstrap': True, 'max_depth': 50, 'max_features': 10, 'n_estimators': 10}\n",
      "3.9535193665286643 {'bootstrap': True, 'max_depth': 50, 'max_features': 10, 'n_estimators': 25}\n",
      "4.096712857955246 {'bootstrap': True, 'max_depth': None, 'max_features': 5, 'n_estimators': 10}\n",
      "3.953634641096912 {'bootstrap': True, 'max_depth': None, 'max_features': 5, 'n_estimators': 25}\n",
      "4.088976702091416 {'bootstrap': True, 'max_depth': None, 'max_features': 10, 'n_estimators': 10}\n",
      "3.960567644362538 {'bootstrap': True, 'max_depth': None, 'max_features': 10, 'n_estimators': 25}\n",
      "5.549929323492085 {'bootstrap': False, 'max_depth': 10, 'max_features': 5, 'n_estimators': 10}\n",
      "5.558382475502467 {'bootstrap': False, 'max_depth': 10, 'max_features': 5, 'n_estimators': 25}\n",
      "5.2770683876825055 {'bootstrap': False, 'max_depth': 10, 'max_features': 10, 'n_estimators': 10}\n",
      "5.264172883639888 {'bootstrap': False, 'max_depth': 10, 'max_features': 10, 'n_estimators': 25}\n",
      "4.231416323063868 {'bootstrap': False, 'max_depth': 50, 'max_features': 5, 'n_estimators': 10}\n",
      "4.157224374158088 {'bootstrap': False, 'max_depth': 50, 'max_features': 5, 'n_estimators': 25}\n",
      "4.402290278663004 {'bootstrap': False, 'max_depth': 50, 'max_features': 10, 'n_estimators': 10}\n",
      "4.330594897652044 {'bootstrap': False, 'max_depth': 50, 'max_features': 10, 'n_estimators': 25}\n",
      "4.218434106309969 {'bootstrap': False, 'max_depth': None, 'max_features': 5, 'n_estimators': 10}\n",
      "4.159166870456752 {'bootstrap': False, 'max_depth': None, 'max_features': 5, 'n_estimators': 25}\n",
      "4.380832219823462 {'bootstrap': False, 'max_depth': None, 'max_features': 10, 'n_estimators': 10}\n",
      "4.345854129634261 {'bootstrap': False, 'max_depth': None, 'max_features': 10, 'n_estimators': 25}\n"
     ]
    }
   ],
   "source": [
    "#now let's see how the RMSE changes for each parameter configuration\n",
    "cvres = grid_search_forest.cv_results_\n",
    "for mean_score, params in zip(cvres[\"mean_test_score\"], cvres[\"params\"]):\n",
    "    print(np.sqrt(-mean_score), params)"
   ]
  },
  {
   "cell_type": "code",
   "execution_count": 84,
   "metadata": {},
   "outputs": [
    {
     "data": {
      "text/plain": [
       "RandomForestRegressor(bootstrap=True, ccp_alpha=0.0, criterion='mse',\n",
       "                      max_depth=50, max_features=5, max_leaf_nodes=None,\n",
       "                      max_samples=None, min_impurity_decrease=0.0,\n",
       "                      min_impurity_split=None, min_samples_leaf=1,\n",
       "                      min_samples_split=2, min_weight_fraction_leaf=0.0,\n",
       "                      n_estimators=25, n_jobs=-1, oob_score=False,\n",
       "                      random_state=None, verbose=0, warm_start=False)"
      ]
     },
     "execution_count": 84,
     "metadata": {},
     "output_type": "execute_result"
    }
   ],
   "source": [
    "#find the best model of grid search\n",
    "grid_search_forest.best_estimator_"
   ]
  },
  {
   "cell_type": "code",
   "execution_count": 85,
   "metadata": {},
   "outputs": [
    {
     "data": {
      "text/plain": [
       "{'bootstrap': True, 'max_depth': 50, 'max_features': 5, 'n_estimators': 25}"
      ]
     },
     "execution_count": 85,
     "metadata": {},
     "output_type": "execute_result"
    }
   ],
   "source": [
    "grid_search_forest.best_params_"
   ]
  },
  {
   "cell_type": "code",
   "execution_count": 86,
   "metadata": {},
   "outputs": [
    {
     "name": "stdout",
     "output_type": "stream",
     "text": [
      "The best model from grid-search has an accuracy of 93.21 %\n"
     ]
    }
   ],
   "source": [
    "# Performance metrics\n",
    "grid_best= grid_search_forest.best_estimator_.predict(train_X)\n",
    "errors = abs(grid_best - train_Y)\n",
    "# Calculate mean absolute percentage error (MAPE)\n",
    "mape = np.mean(100 * (errors / train_Y))\n",
    "# Calculate and display accuracy\n",
    "accuracy = 100 - mape    \n",
    "#print result\n",
    "print('The best model from grid-search has an accuracy of', round(accuracy, 2),'%')"
   ]
  },
  {
   "cell_type": "code",
   "execution_count": 88,
   "metadata": {},
   "outputs": [
    {
     "name": "stdout",
     "output_type": "stream",
     "text": [
      "The best model from the grid search has a RMSE of 1.51\n"
     ]
    }
   ],
   "source": [
    "#RMSE\n",
    "from sklearn.metrics import mean_squared_error\n",
    "grid_mse = mean_squared_error(train_Y, grid_best)\n",
    "grid_rmse = np.sqrt(grid_mse)\n",
    "print('The best model from the grid search has a RMSE of', round(grid_rmse, 2))"
   ]
  },
  {
   "cell_type": "markdown",
   "metadata": {},
   "source": [
    "\n",
    "# RANDOMIZED SEARCH"
   ]
  },
  {
   "cell_type": "markdown",
   "metadata": {},
   "source": [
    "The grid search approach is often too costly, as many combinations are tested.\n",
    "In these cases it is easier to use a randomized search, that evaluates  only a user defined number of random combinations for each hyperparameter at every iteration.\n",
    "This way we could also test more hyperparameters"
   ]
  },
  {
   "cell_type": "code",
   "execution_count": 89,
   "metadata": {},
   "outputs": [
    {
     "name": "stdout",
     "output_type": "stream",
     "text": [
      "{'max_depth': [1, 23, 45],\n",
      " 'max_features': ['auto', 'sqrt'],\n",
      " 'min_samples_split': [5, 10, 15, 20],\n",
      " 'n_estimators': [10, 257, 505, 752, 1000]}\n"
     ]
    }
   ],
   "source": [
    "from sklearn.model_selection import RandomizedSearchCV\n",
    "from pprint import pprint\n",
    "\n",
    "# Number of trees in random forest\n",
    "n_estimators = [int(x) for x in np.linspace(start = 10, stop = 1000, num = 5)]\n",
    "# Number of features to consider at every split\n",
    "max_features = ['auto', 'sqrt']\n",
    "# Maximum number of levels in tree\n",
    "max_depth = [int(x) for x in np.linspace(1, 45, num = 3)]\n",
    "# Minimum number of samples required to split a node\n",
    "min_samples_split = [5, 10,15,20]\n",
    "\n",
    "# Create the random grid\n",
    "random_grid = {'n_estimators': n_estimators,\n",
    "               'max_features': max_features,\n",
    "               'max_depth': max_depth,\n",
    "               'min_samples_split': min_samples_split}\n",
    "\n",
    "pprint(random_grid)"
   ]
  },
  {
   "cell_type": "code",
   "execution_count": 90,
   "metadata": {},
   "outputs": [
    {
     "name": "stdout",
     "output_type": "stream",
     "text": [
      "Fitting 10 folds for each of 10 candidates, totalling 100 fits\n"
     ]
    },
    {
     "name": "stderr",
     "output_type": "stream",
     "text": [
      "[Parallel(n_jobs=-1)]: Using backend LokyBackend with 4 concurrent workers.\n",
      "[Parallel(n_jobs=-1)]: Done  33 tasks      | elapsed: 17.2min\n",
      "[Parallel(n_jobs=-1)]: Done 100 out of 100 | elapsed: 26.0min finished\n"
     ]
    },
    {
     "data": {
      "text/plain": [
       "RandomizedSearchCV(cv=10, error_score=nan,\n",
       "                   estimator=RandomForestRegressor(bootstrap=True,\n",
       "                                                   ccp_alpha=0.0,\n",
       "                                                   criterion='mse',\n",
       "                                                   max_depth=None,\n",
       "                                                   max_features='auto',\n",
       "                                                   max_leaf_nodes=None,\n",
       "                                                   max_samples=None,\n",
       "                                                   min_impurity_decrease=0.0,\n",
       "                                                   min_impurity_split=None,\n",
       "                                                   min_samples_leaf=1,\n",
       "                                                   min_samples_split=2,\n",
       "                                                   min_weight_fraction_leaf=0.0,\n",
       "                                                   n_estimators=100, n_jobs=-1,\n",
       "                                                   oob_score=False,\n",
       "                                                   random_state=None, verbose=0,\n",
       "                                                   warm_start=False),\n",
       "                   iid='deprecated', n_iter=10, n_jobs=-1,\n",
       "                   param_distributions={'max_depth': [1, 23, 45],\n",
       "                                        'max_features': ['auto', 'sqrt'],\n",
       "                                        'min_samples_split': [5, 10, 15, 20],\n",
       "                                        'n_estimators': [10, 257, 505, 752,\n",
       "                                                         1000]},\n",
       "                   pre_dispatch='2*n_jobs', random_state=42, refit=True,\n",
       "                   return_train_score=False, scoring='neg_mean_squared_error',\n",
       "                   verbose=2)"
      ]
     },
     "execution_count": 90,
     "metadata": {},
     "output_type": "execute_result"
    }
   ],
   "source": [
    "# Use the random grid to search for best hyperparameters\n",
    "\n",
    "# Random search of parameters, using 10 fold cross validation, \n",
    "# search across 100 different combinations, and use all available cores\n",
    "rf_random = RandomizedSearchCV(estimator = rf, param_distributions = random_grid, n_iter = 10, cv = 10, verbose=2, random_state=42, n_jobs = -1, scoring='neg_mean_squared_error')\n",
    "# Fit the random search model\n",
    "rf_random.fit(train_X,train_Y)"
   ]
  },
  {
   "cell_type": "code",
   "execution_count": 91,
   "metadata": {},
   "outputs": [
    {
     "name": "stdout",
     "output_type": "stream",
     "text": [
      "3.972399917346423 {'n_estimators': 1000, 'min_samples_split': 5, 'max_features': 'auto', 'max_depth': 23}\n",
      "4.124634658456129 {'n_estimators': 505, 'min_samples_split': 10, 'max_features': 'auto', 'max_depth': 23}\n",
      "19.992195520394453 {'n_estimators': 1000, 'min_samples_split': 5, 'max_features': 'auto', 'max_depth': 1}\n",
      "4.4165547744694456 {'n_estimators': 10, 'min_samples_split': 20, 'max_features': 'auto', 'max_depth': 23}\n",
      "19.632828556100417 {'n_estimators': 257, 'min_samples_split': 10, 'max_features': 'sqrt', 'max_depth': 1}\n",
      "4.07397421092852 {'n_estimators': 1000, 'min_samples_split': 5, 'max_features': 'sqrt', 'max_depth': 23}\n",
      "4.620592671587892 {'n_estimators': 752, 'min_samples_split': 15, 'max_features': 'sqrt', 'max_depth': 23}\n",
      "19.99423515187154 {'n_estimators': 10, 'min_samples_split': 15, 'max_features': 'auto', 'max_depth': 1}\n",
      "4.15854349971932 {'n_estimators': 10, 'min_samples_split': 5, 'max_features': 'auto', 'max_depth': 23}\n",
      "4.41789126229651 {'n_estimators': 505, 'min_samples_split': 10, 'max_features': 'sqrt', 'max_depth': 45}\n"
     ]
    }
   ],
   "source": [
    "cvres2 = rf_random.cv_results_\n",
    "for mean_score, params in zip(cvres2[\"mean_test_score\"], cvres2[\"params\"]):\n",
    "    print(np.sqrt(-mean_score), params)"
   ]
  },
  {
   "cell_type": "code",
   "execution_count": 92,
   "metadata": {},
   "outputs": [
    {
     "data": {
      "text/plain": [
       "RandomForestRegressor(bootstrap=True, ccp_alpha=0.0, criterion='mse',\n",
       "                      max_depth=23, max_features='auto', max_leaf_nodes=None,\n",
       "                      max_samples=None, min_impurity_decrease=0.0,\n",
       "                      min_impurity_split=None, min_samples_leaf=1,\n",
       "                      min_samples_split=5, min_weight_fraction_leaf=0.0,\n",
       "                      n_estimators=1000, n_jobs=-1, oob_score=False,\n",
       "                      random_state=None, verbose=0, warm_start=False)"
      ]
     },
     "execution_count": 92,
     "metadata": {},
     "output_type": "execute_result"
    }
   ],
   "source": [
    "# best random model \n",
    "rf_random.best_estimator_\n"
   ]
  },
  {
   "cell_type": "code",
   "execution_count": 93,
   "metadata": {},
   "outputs": [
    {
     "data": {
      "text/plain": [
       "{'n_estimators': 1000,\n",
       " 'min_samples_split': 5,\n",
       " 'max_features': 'auto',\n",
       " 'max_depth': 23}"
      ]
     },
     "execution_count": 93,
     "metadata": {},
     "output_type": "execute_result"
    }
   ],
   "source": [
    "rf_random.best_params_"
   ]
  },
  {
   "cell_type": "code",
   "execution_count": null,
   "metadata": {},
   "outputs": [],
   "source": [
    "max_depths = np.linspace(1, 50, 50, endpoint=True)\n",
    "\n",
    "train_results = []\n",
    "test_results = []\n",
    "\n",
    "for i in max_depths:\n",
    "    dt = RandomForestRegressor(max_depth=i)\n",
    "    dt.fit(train_X, train_Y)    \n",
    "    #compute accuracy for train data\n",
    "    housing_tree = dt.predict(train_X)\n",
    "    errors = abs(housing_tree - train_Y)\n",
    "    # Calculate mean absolute percentage error (MAPE)\n",
    "    mape = 100 * (errors / train_Y)\n",
    "    # Calculate and display accuracy\n",
    "    accuracy = 100 - np.mean(mape)\n",
    "    #append results of accuracy\n",
    "    train_results.append(accuracy)\n",
    "    \n",
    "    #now again for test data\n",
    "    housing_tree = dt.predict(test_X)\n",
    "    errors = abs(housing_tree - test_Y)\n",
    "    # Calculate mean absolute percentage error (MAPE)\n",
    "    mape = 100 * (errors / test_Y)\n",
    "    # Calculate and display accuracy\n",
    "    accuracy = 100 - np.mean(mape)\n",
    "    #append results of accuracy\n",
    "    test_results.append(accuracy)\n",
    "    \n",
    "from matplotlib.legend_handler import HandlerLine2D\n",
    "line1, = plt.plot(max_depths, train_results, 'b', label='Train accuracy')\n",
    "line2, = plt.plot(max_depths, test_results, 'r', label= 'Test accuracy')\n",
    "\n",
    "plt.legend(handler_map={line1: HandlerLine2D(numpoints=2)})\n",
    "plt.ylabel('Accuracy score')\n",
    "plt.xlabel('Tree depth')"
   ]
  },
  {
   "cell_type": "code",
   "execution_count": 94,
   "metadata": {},
   "outputs": [
    {
     "name": "stdout",
     "output_type": "stream",
     "text": [
      "    importance      feature\n",
      "0         0.23   Junction_4\n",
      "1         0.20   Junction_2\n",
      "2         0.17         year\n",
      "3         0.09         Hour\n",
      "4         0.09    dayofyear\n",
      "5         0.08   Junction_3\n",
      "6         0.05      peak_hr\n",
      "7         0.04  day of week\n",
      "8         0.03      weekend\n",
      "9         0.01          day\n",
      "10        0.00        month\n",
      "11        0.00  Holiday_Tag\n",
      "12        0.00      quarter\n"
     ]
    }
   ],
   "source": [
    "# extract the numerical values of feature importance from the grid search\n",
    "importances = rf_random.best_estimator_.feature_importances_\n",
    "\n",
    "#create a feature list from the original dataset (list of columns)\n",
    "# What are this numbers? Let's get back to the columns of the original dataset\n",
    "feature_list = predictors\n",
    "\n",
    "#create a list of tuples\n",
    "feature_importance= sorted(zip(importances, feature_list), reverse=True)\n",
    "\n",
    "#create two lists from the previous list of tuples\n",
    "df = pd.DataFrame(feature_importance, columns=['importance', 'feature'])\n",
    "importance= list(df['importance'])\n",
    "feature= list(df['feature'])\n",
    "\n",
    "#see df\n",
    "print(df)"
   ]
  },
  {
   "cell_type": "code",
   "execution_count": 95,
   "metadata": {},
   "outputs": [
    {
     "data": {
      "image/png": "[encoded data removed]",
      "text/plain": [
       "<Figure size 1080x720 with 1 Axes>"
      ]
     },
     "metadata": {
      "needs_background": "light"
     },
     "output_type": "display_data"
    }
   ],
   "source": [
    "# Set the style\n",
    "plt.style.use('bmh')\n",
    "# list of x locations for plotting\n",
    "x_values = list(range(len(feature_importance)))\n",
    "\n",
    "# Make a bar chart\n",
    "plt.figure(figsize=(15,10))\n",
    "plt.bar(x_values, importance, orientation = 'vertical')\n",
    "# Tick labels for x axis\n",
    "plt.xticks(x_values, feature, rotation='vertical')\n",
    "# Axis labels and title\n",
    "plt.ylabel('Importance'); plt.xlabel('Variable'); plt.title('Variable Importances');"
   ]
  },
  {
   "cell_type": "code",
   "execution_count": 96,
   "metadata": {},
   "outputs": [
    {
     "name": "stdout",
     "output_type": "stream",
     "text": [
      "Mean Absolute Error: 2.36\n",
      "RMSE:  3.6455470463721276\n"
     ]
    },
    {
     "name": "stderr",
     "output_type": "stream",
     "text": [
      "C:\\ProgramData\\Anaconda3\\lib\\site-packages\\ipykernel_launcher.py:12: SettingWithCopyWarning: \n",
      "A value is trying to be set on a copy of a slice from a DataFrame.\n",
      "Try using .loc[row_indexer,col_indexer] = value instead\n",
      "\n",
      "See the caveats in the documentation: http://pandas.pydata.org/pandas-docs/stable/indexing.html#indexing-view-versus-copy\n",
      "  if sys.path[0] == '':\n"
     ]
    }
   ],
   "source": [
    "\n",
    "random_best= rf_random.best_estimator_.predict(test_X)\n",
    "errors = abs(random_best - test_Y)\n",
    "# Print out the mean absolute error (mae)\n",
    "print('Mean Absolute Error:', round(np.mean(errors), 2))\n",
    "from sklearn.metrics import mean_squared_error\n",
    "\n",
    "MSE=mean_squared_error(test_Y, random_best)\n",
    "print('RMSE: ',np.sqrt(MSE))\n",
    "predictions_test = rf_random.best_estimator_.predict(test[predictors])\n",
    "submission=test[[IDcol]]\n",
    "submission['Vehicles']=predictions_test"
   ]
  },
  {
   "cell_type": "code",
   "execution_count": 97,
   "metadata": {},
   "outputs": [],
   "source": [
    "submission.to_csv(\"RF_Random_Search_Final.csv\")"
   ]
  },
  {
   "cell_type": "code",
   "execution_count": 98,
   "metadata": {},
   "outputs": [
    {
     "name": "stdout",
     "output_type": "stream",
     "text": [
      "Mean Absolute Error: 2.35\n",
      "RMSE:  3.479345635538071\n"
     ]
    },
    {
     "name": "stderr",
     "output_type": "stream",
     "text": [
      "C:\\ProgramData\\Anaconda3\\lib\\site-packages\\ipykernel_launcher.py:12: SettingWithCopyWarning: \n",
      "A value is trying to be set on a copy of a slice from a DataFrame.\n",
      "Try using .loc[row_indexer,col_indexer] = value instead\n",
      "\n",
      "See the caveats in the documentation: http://pandas.pydata.org/pandas-docs/stable/indexing.html#indexing-view-versus-copy\n",
      "  if sys.path[0] == '':\n"
     ]
    }
   ],
   "source": [
    "\n",
    "grid_best= grid_search_forest.best_estimator_.predict(test_X)\n",
    "errors = abs(grid_best - test_Y)\n",
    "# Print out the mean absolute error (mae)\n",
    "print('Mean Absolute Error:', round(np.mean(errors), 2))\n",
    "from sklearn.metrics import mean_squared_error\n",
    "\n",
    "MSE=mean_squared_error(test_Y, grid_best)\n",
    "print('RMSE: ',np.sqrt(MSE))\n",
    "predictions_test =grid_search_forest.best_estimator_.predict(test[predictors])\n",
    "submission=test[[IDcol]]\n",
    "submission['Vehicles']=predictions_test"
   ]
  },
  {
   "cell_type": "code",
   "execution_count": 99,
   "metadata": {},
   "outputs": [],
   "source": [
    "submission.to_csv(\"RF_GRID_Search_Final.csv\")"
   ]
  },
  {
   "cell_type": "code",
   "execution_count": null,
   "metadata": {},
   "outputs": [],
   "source": []
  }
 ],
 "metadata": {
  "kernelspec": {
   "display_name": "Python 3",
   "language": "python",
   "name": "python3"
  },
  "language_info": {
   "codemirror_mode": {
    "name": "ipython",
    "version": 3
   },
   "file_extension": ".py",
   "mimetype": "text/x-python",
   "name": "python",
   "nbconvert_exporter": "python",
   "pygments_lexer": "ipython3",
   "version": "3.7.0"
  }
 },
 "nbformat": 4,
 "nbformat_minor": 2
}
