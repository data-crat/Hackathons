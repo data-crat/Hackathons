{
 "cells": [
  {
   "cell_type": "markdown",
   "metadata": {},
   "source": [
    "Problem Statement\n",
    "----------------------------\n",
    "Have you ever wondered how lenders use various factors such as credit score, annual income, the loan amount approved, tenure, debt-to-income ratio etc. and select your interest rates? \n",
    "\n",
    "The process, defined as ‘risk-based pricing’, uses a sophisticated algorithm that leverages different determining factors of a loan applicant. Selection of significant factors will help develop a prediction algorithm which can estimate loan interest rates based on clients’ information. On one hand, knowing the factors will help consumers and borrowers to increase their credit worthiness and place themselves in a better position to negotiate for getting a lower interest rate. On the other hand, this will help lending companies to get an immediate fixed interest rate estimation based on clients information. Here, your goal is to use a training dataset to predict the loan rate category (1 / 2 / 3) that will be assigned to each loan in our test set.\n",
    "\n",
    "You can use any combination of the features in the dataset to make your loan rate category predictions. Some features will be easier to use than others."
   ]
  },
  {
   "cell_type": "markdown",
   "metadata": {},
   "source": [
    "https://datahack.analyticsvidhya.com/contest/janatahack-machine-learning-for-banking/#ProblemStatement"
   ]
  },
  {
   "cell_type": "code",
   "execution_count": 1,
   "metadata": {
    "colab": {
     "base_uri": "https://localhost:8080/",
     "height": 71
    },
    "colab_type": "code",
    "id": "9u3VJTvYIU6T",
    "outputId": "7210e4ba-c9be-4151-f653-a0a98b5a1008"
   },
   "outputs": [
    {
     "name": "stderr",
     "output_type": "stream",
     "text": [
      "C:\\ProgramData\\Anaconda3\\lib\\site-packages\\ipykernel\\parentpoller.py:116: UserWarning: Parent poll failed.  If the frontend dies,\n",
      "                the kernel may be left running.  Please let us know\n",
      "                about your system (bitness, Python, etc.) at\n",
      "                ipython-dev@scipy.org\n",
      "  ipython-dev@scipy.org\"\"\")\n"
     ]
    }
   ],
   "source": [
    "import pandas as pd\n",
    "%matplotlib inline\n",
    "from matplotlib import pyplot as plt\n",
    "import numpy as np\n",
    "import seaborn as sns"
   ]
  },
  {
   "cell_type": "code",
   "execution_count": 2,
   "metadata": {
    "colab": {},
    "colab_type": "code",
    "id": "nftKyXt_IU6b"
   },
   "outputs": [],
   "source": [
    "train=pd.read_csv(\"train.csv\")\n",
    "test=pd.read_csv(\"test.csv\")\n",
    "train['TAG']='TRAIN'\n",
    "test['TAG']='TEST'\n",
    "combined=pd.concat([train,test],sort=False)"
   ]
  },
  {
   "cell_type": "code",
   "execution_count": 3,
   "metadata": {
    "colab": {},
    "colab_type": "code",
    "id": "Ra76ZRYZIU6g"
   },
   "outputs": [],
   "source": [
    "#%autosave 60"
   ]
  },
  {
   "cell_type": "markdown",
   "metadata": {
    "colab_type": "text",
    "id": "BSAZ7FD1IU6m"
   },
   "source": [
    "# BASIC EXPLORATIONS"
   ]
  },
  {
   "cell_type": "code",
   "execution_count": 4,
   "metadata": {
    "colab": {
     "base_uri": "https://localhost:8080/",
     "height": 34
    },
    "colab_type": "code",
    "id": "Aqyo6VlBIU6n",
    "outputId": "7fd4a3f3-d582-4965-bee5-2c116e5ab1d0"
   },
   "outputs": [
    {
     "data": {
      "text/plain": [
       "(273850, 15)"
      ]
     },
     "execution_count": 4,
     "metadata": {},
     "output_type": "execute_result"
    }
   ],
   "source": [
    "combined.shape"
   ]
  },
  {
   "cell_type": "code",
   "execution_count": 5,
   "metadata": {
    "colab": {
     "base_uri": "https://localhost:8080/",
     "height": 433
    },
    "colab_type": "code",
    "id": "-uDaZZsUIU6s",
    "outputId": "6e9522f0-fea8-4d29-8775-f3ab17532176"
   },
   "outputs": [
    {
     "data": {
      "text/plain": [
       "(array([ 0,  1,  2,  3,  4,  5,  6,  7,  8,  9, 10, 11, 12, 13, 14]),\n",
       " <a list of 15 Text xticklabel objects>)"
      ]
     },
     "execution_count": 5,
     "metadata": {},
     "output_type": "execute_result"
    },
    {
     "data": {
      "image/png": "[encoded data removed]",
      "text/plain": [
       "<Figure size 432x288 with 1 Axes>"
      ]
     },
     "metadata": {
      "needs_background": "light"
     },
     "output_type": "display_data"
    }
   ],
   "source": [
    "x=(combined.isnull().sum() * 100 / len(combined)).round(2).sort_values(ascending=False)\n",
    "y=combined.isnull().sum().sort_values(ascending=False)\n",
    "FR=pd.concat([x,y],axis=1,keys=['PRECENT','COUNT']).reset_index()\n",
    "sns.barplot(FR['index'],FR['COUNT'])\n",
    "plt.xticks(rotation=90)"
   ]
  },
  {
   "cell_type": "code",
   "execution_count": 6,
   "metadata": {
    "colab": {
     "base_uri": "https://localhost:8080/",
     "height": 289
    },
    "colab_type": "code",
    "id": "lfeUqdydIU6x",
    "outputId": "324ef6ec-d43b-48d3-c152-b09b198000a0"
   },
   "outputs": [
    {
     "data": {
      "text/plain": [
       "Loan_ID                         0\n",
       "Loan_Amount_Requested           0\n",
       "Length_Employed             12307\n",
       "Home_Owner                  42060\n",
       "Annual_Income               42000\n",
       "Income_Verified                 0\n",
       "Purpose_Of_Loan                 0\n",
       "Debt_To_Income                  0\n",
       "Inquiries_Last_6Mo              0\n",
       "Months_Since_Deliquency    147238\n",
       "Number_Open_Accounts            0\n",
       "Total_Accounts                  0\n",
       "Gender                          0\n",
       "Interest_Rate              109541\n",
       "TAG                             0\n",
       "dtype: int64"
      ]
     },
     "execution_count": 6,
     "metadata": {},
     "output_type": "execute_result"
    }
   ],
   "source": [
    "combined.isnull().sum()"
   ]
  },
  {
   "cell_type": "code",
   "execution_count": 7,
   "metadata": {
    "colab": {
     "base_uri": "https://localhost:8080/",
     "height": 289
    },
    "colab_type": "code",
    "id": "uY7TlO-gIU64",
    "outputId": "6ca3e03a-c482-4f42-9f6d-aab84dae9c00"
   },
   "outputs": [
    {
     "data": {
      "text/plain": [
       "Loan_ID                      int64\n",
       "Loan_Amount_Requested       object\n",
       "Length_Employed             object\n",
       "Home_Owner                  object\n",
       "Annual_Income              float64\n",
       "Income_Verified             object\n",
       "Purpose_Of_Loan             object\n",
       "Debt_To_Income             float64\n",
       "Inquiries_Last_6Mo           int64\n",
       "Months_Since_Deliquency    float64\n",
       "Number_Open_Accounts         int64\n",
       "Total_Accounts               int64\n",
       "Gender                      object\n",
       "Interest_Rate              float64\n",
       "TAG                         object\n",
       "dtype: object"
      ]
     },
     "execution_count": 7,
     "metadata": {},
     "output_type": "execute_result"
    }
   ],
   "source": [
    "combined.dtypes\n"
   ]
  },
  {
   "cell_type": "code",
   "execution_count": 8,
   "metadata": {
    "colab": {},
    "colab_type": "code",
    "id": "pxB8E_9nIU6_"
   },
   "outputs": [],
   "source": [
    "# Loan_Amount_requested isn't in relevant datatype bucket.\n",
    "combined.Loan_Amount_Requested=combined.Loan_Amount_Requested.str.replace(',', '').astype('int')\n"
   ]
  },
  {
   "cell_type": "code",
   "execution_count": 9,
   "metadata": {
    "colab": {
     "base_uri": "https://localhost:8080/",
     "height": 317
    },
    "colab_type": "code",
    "id": "qX4B9gWjIU7H",
    "outputId": "7486cc9a-d5fd-41c0-b792-8712c790a0c4"
   },
   "outputs": [
    {
     "data": {
      "text/html": [
       "<div>\n",
       "<style scoped>\n",
       "    .dataframe tbody tr th:only-of-type {\n",
       "        vertical-align: middle;\n",
       "    }\n",
       "\n",
       "    .dataframe tbody tr th {\n",
       "        vertical-align: top;\n",
       "    }\n",
       "\n",
       "    .dataframe thead th {\n",
       "        text-align: right;\n",
       "    }\n",
       "</style>\n",
       "<table border=\"1\" class=\"dataframe\">\n",
       "  <thead>\n",
       "    <tr style=\"text-align: right;\">\n",
       "      <th></th>\n",
       "      <th>Loan_ID</th>\n",
       "      <th>Loan_Amount_Requested</th>\n",
       "      <th>Annual_Income</th>\n",
       "      <th>Debt_To_Income</th>\n",
       "      <th>Inquiries_Last_6Mo</th>\n",
       "      <th>Months_Since_Deliquency</th>\n",
       "      <th>Number_Open_Accounts</th>\n",
       "      <th>Total_Accounts</th>\n",
       "      <th>Interest_Rate</th>\n",
       "    </tr>\n",
       "  </thead>\n",
       "  <tbody>\n",
       "    <tr>\n",
       "      <th>count</th>\n",
       "      <td>2.738500e+05</td>\n",
       "      <td>273850.000000</td>\n",
       "      <td>2.318500e+05</td>\n",
       "      <td>273850.000000</td>\n",
       "      <td>273850.000000</td>\n",
       "      <td>126612.000000</td>\n",
       "      <td>273850.000000</td>\n",
       "      <td>273850.000000</td>\n",
       "      <td>164309.000000</td>\n",
       "    </tr>\n",
       "    <tr>\n",
       "      <th>mean</th>\n",
       "      <td>1.013693e+07</td>\n",
       "      <td>14352.992240</td>\n",
       "      <td>7.339279e+04</td>\n",
       "      <td>17.215901</td>\n",
       "      <td>0.784543</td>\n",
       "      <td>34.103395</td>\n",
       "      <td>11.186025</td>\n",
       "      <td>25.067975</td>\n",
       "      <td>2.158951</td>\n",
       "    </tr>\n",
       "    <tr>\n",
       "      <th>std</th>\n",
       "      <td>7.905383e+04</td>\n",
       "      <td>8289.036702</td>\n",
       "      <td>5.852984e+04</td>\n",
       "      <td>7.845967</td>\n",
       "      <td>1.036816</td>\n",
       "      <td>21.750307</td>\n",
       "      <td>4.973663</td>\n",
       "      <td>11.589677</td>\n",
       "      <td>0.738364</td>\n",
       "    </tr>\n",
       "    <tr>\n",
       "      <th>min</th>\n",
       "      <td>1.000000e+07</td>\n",
       "      <td>500.000000</td>\n",
       "      <td>3.000000e+03</td>\n",
       "      <td>0.000000</td>\n",
       "      <td>0.000000</td>\n",
       "      <td>0.000000</td>\n",
       "      <td>0.000000</td>\n",
       "      <td>2.000000</td>\n",
       "      <td>1.000000</td>\n",
       "    </tr>\n",
       "    <tr>\n",
       "      <th>25%</th>\n",
       "      <td>1.006846e+07</td>\n",
       "      <td>8000.000000</td>\n",
       "      <td>4.500000e+04</td>\n",
       "      <td>11.360000</td>\n",
       "      <td>0.000000</td>\n",
       "      <td>16.000000</td>\n",
       "      <td>8.000000</td>\n",
       "      <td>17.000000</td>\n",
       "      <td>2.000000</td>\n",
       "    </tr>\n",
       "    <tr>\n",
       "      <th>50%</th>\n",
       "      <td>1.013693e+07</td>\n",
       "      <td>12000.000000</td>\n",
       "      <td>6.300000e+04</td>\n",
       "      <td>16.850000</td>\n",
       "      <td>0.000000</td>\n",
       "      <td>31.000000</td>\n",
       "      <td>10.000000</td>\n",
       "      <td>23.000000</td>\n",
       "      <td>2.000000</td>\n",
       "    </tr>\n",
       "    <tr>\n",
       "      <th>75%</th>\n",
       "      <td>1.020539e+07</td>\n",
       "      <td>20000.000000</td>\n",
       "      <td>8.900000e+04</td>\n",
       "      <td>22.780000</td>\n",
       "      <td>1.000000</td>\n",
       "      <td>49.000000</td>\n",
       "      <td>14.000000</td>\n",
       "      <td>32.000000</td>\n",
       "      <td>3.000000</td>\n",
       "    </tr>\n",
       "    <tr>\n",
       "      <th>max</th>\n",
       "      <td>1.027385e+07</td>\n",
       "      <td>35000.000000</td>\n",
       "      <td>7.500000e+06</td>\n",
       "      <td>39.990000</td>\n",
       "      <td>8.000000</td>\n",
       "      <td>180.000000</td>\n",
       "      <td>84.000000</td>\n",
       "      <td>156.000000</td>\n",
       "      <td>3.000000</td>\n",
       "    </tr>\n",
       "  </tbody>\n",
       "</table>\n",
       "</div>"
      ],
      "text/plain": [
       "            Loan_ID  Loan_Amount_Requested  Annual_Income  Debt_To_Income  \\\n",
       "count  2.738500e+05          273850.000000   2.318500e+05   273850.000000   \n",
       "mean   1.013693e+07           14352.992240   7.339279e+04       17.215901   \n",
       "std    7.905383e+04            8289.036702   5.852984e+04        7.845967   \n",
       "min    1.000000e+07             500.000000   3.000000e+03        0.000000   \n",
       "25%    1.006846e+07            8000.000000   4.500000e+04       11.360000   \n",
       "50%    1.013693e+07           12000.000000   6.300000e+04       16.850000   \n",
       "75%    1.020539e+07           20000.000000   8.900000e+04       22.780000   \n",
       "max    1.027385e+07           35000.000000   7.500000e+06       39.990000   \n",
       "\n",
       "       Inquiries_Last_6Mo  Months_Since_Deliquency  Number_Open_Accounts  \\\n",
       "count       273850.000000            126612.000000         273850.000000   \n",
       "mean             0.784543                34.103395             11.186025   \n",
       "std              1.036816                21.750307              4.973663   \n",
       "min              0.000000                 0.000000              0.000000   \n",
       "25%              0.000000                16.000000              8.000000   \n",
       "50%              0.000000                31.000000             10.000000   \n",
       "75%              1.000000                49.000000             14.000000   \n",
       "max              8.000000               180.000000             84.000000   \n",
       "\n",
       "       Total_Accounts  Interest_Rate  \n",
       "count   273850.000000  164309.000000  \n",
       "mean        25.067975       2.158951  \n",
       "std         11.589677       0.738364  \n",
       "min          2.000000       1.000000  \n",
       "25%         17.000000       2.000000  \n",
       "50%         23.000000       2.000000  \n",
       "75%         32.000000       3.000000  \n",
       "max        156.000000       3.000000  "
      ]
     },
     "execution_count": 9,
     "metadata": {},
     "output_type": "execute_result"
    }
   ],
   "source": [
    "combined.describe()"
   ]
  },
  {
   "cell_type": "code",
   "execution_count": 10,
   "metadata": {
    "colab": {
     "base_uri": "https://localhost:8080/",
     "height": 173
    },
    "colab_type": "code",
    "id": "E3sl1Bx8IU7P",
    "outputId": "c0f048e8-0763-4df7-b402-247b9550781b"
   },
   "outputs": [
    {
     "data": {
      "text/html": [
       "<div>\n",
       "<style scoped>\n",
       "    .dataframe tbody tr th:only-of-type {\n",
       "        vertical-align: middle;\n",
       "    }\n",
       "\n",
       "    .dataframe tbody tr th {\n",
       "        vertical-align: top;\n",
       "    }\n",
       "\n",
       "    .dataframe thead th {\n",
       "        text-align: right;\n",
       "    }\n",
       "</style>\n",
       "<table border=\"1\" class=\"dataframe\">\n",
       "  <thead>\n",
       "    <tr style=\"text-align: right;\">\n",
       "      <th></th>\n",
       "      <th>Length_Employed</th>\n",
       "      <th>Home_Owner</th>\n",
       "      <th>Income_Verified</th>\n",
       "      <th>Purpose_Of_Loan</th>\n",
       "      <th>Gender</th>\n",
       "      <th>TAG</th>\n",
       "    </tr>\n",
       "  </thead>\n",
       "  <tbody>\n",
       "    <tr>\n",
       "      <th>count</th>\n",
       "      <td>261543</td>\n",
       "      <td>231790</td>\n",
       "      <td>273850</td>\n",
       "      <td>273850</td>\n",
       "      <td>273850</td>\n",
       "      <td>273850</td>\n",
       "    </tr>\n",
       "    <tr>\n",
       "      <th>unique</th>\n",
       "      <td>11</td>\n",
       "      <td>5</td>\n",
       "      <td>3</td>\n",
       "      <td>14</td>\n",
       "      <td>2</td>\n",
       "      <td>2</td>\n",
       "    </tr>\n",
       "    <tr>\n",
       "      <th>top</th>\n",
       "      <td>10+ years</td>\n",
       "      <td>Mortgage</td>\n",
       "      <td>VERIFIED - income</td>\n",
       "      <td>debt_consolidation</td>\n",
       "      <td>Male</td>\n",
       "      <td>TRAIN</td>\n",
       "    </tr>\n",
       "    <tr>\n",
       "      <th>freq</th>\n",
       "      <td>88328</td>\n",
       "      <td>117270</td>\n",
       "      <td>99076</td>\n",
       "      <td>161403</td>\n",
       "      <td>194993</td>\n",
       "      <td>164309</td>\n",
       "    </tr>\n",
       "  </tbody>\n",
       "</table>\n",
       "</div>"
      ],
      "text/plain": [
       "       Length_Employed Home_Owner    Income_Verified     Purpose_Of_Loan  \\\n",
       "count           261543     231790             273850              273850   \n",
       "unique              11          5                  3                  14   \n",
       "top          10+ years   Mortgage  VERIFIED - income  debt_consolidation   \n",
       "freq             88328     117270              99076              161403   \n",
       "\n",
       "        Gender     TAG  \n",
       "count   273850  273850  \n",
       "unique       2       2  \n",
       "top       Male   TRAIN  \n",
       "freq    194993  164309  "
      ]
     },
     "execution_count": 10,
     "metadata": {},
     "output_type": "execute_result"
    }
   ],
   "source": [
    "combined.describe(include='object')"
   ]
  },
  {
   "cell_type": "code",
   "execution_count": 11,
   "metadata": {
    "colab": {
     "base_uri": "https://localhost:8080/",
     "height": 289
    },
    "colab_type": "code",
    "id": "WXAohh2lIU7b",
    "outputId": "153ef69c-9b74-46c8-867a-701ef1121377"
   },
   "outputs": [
    {
     "data": {
      "text/plain": [
       "Loan_ID                    273850\n",
       "Loan_Amount_Requested        1320\n",
       "Length_Employed                11\n",
       "Home_Owner                      5\n",
       "Annual_Income               18573\n",
       "Income_Verified                 3\n",
       "Purpose_Of_Loan                14\n",
       "Debt_To_Income               3987\n",
       "Inquiries_Last_6Mo              9\n",
       "Months_Since_Deliquency       132\n",
       "Number_Open_Accounts           61\n",
       "Total_Accounts                103\n",
       "Gender                          2\n",
       "Interest_Rate                   3\n",
       "TAG                             2\n",
       "dtype: int64"
      ]
     },
     "execution_count": 11,
     "metadata": {},
     "output_type": "execute_result"
    }
   ],
   "source": [
    "combined.nunique(axis=0)"
   ]
  },
  {
   "cell_type": "code",
   "execution_count": 12,
   "metadata": {
    "colab": {
     "base_uri": "https://localhost:8080/",
     "height": 34
    },
    "colab_type": "code",
    "id": "Cf8ULINWKY0D",
    "outputId": "f134827b-a0eb-426f-ef25-ebfccd760dea"
   },
   "outputs": [
    {
     "data": {
      "text/plain": [
       "(273850, 15)"
      ]
     },
     "execution_count": 12,
     "metadata": {},
     "output_type": "execute_result"
    }
   ],
   "source": [
    "combined.shape"
   ]
  },
  {
   "cell_type": "markdown",
   "metadata": {
    "colab_type": "text",
    "id": "BbwytNOTIU7g"
   },
   "source": [
    "# Distribution of the TARGET"
   ]
  },
  {
   "cell_type": "code",
   "execution_count": 13,
   "metadata": {
    "colab": {
     "base_uri": "https://localhost:8080/",
     "height": 541
    },
    "colab_type": "code",
    "id": "wsKvA8PPIU7i",
    "outputId": "54a2fc30-c090-4451-8ff3-bf484b645fd0"
   },
   "outputs": [
    {
     "data": {
      "image/png": "[encoded data removed]",
      "text/plain": [
       "<Figure size 648x648 with 1 Axes>"
      ]
     },
     "metadata": {},
     "output_type": "display_data"
    }
   ],
   "source": [
    "labels = ['1', '2','3']\n",
    "size = train['Interest_Rate'].value_counts()\n",
    "colors = ['lightgreen', 'orange','blue']\n",
    "explode = [0.08, 0.08,0.08]\n",
    "\n",
    "plt.rcParams['figure.figsize'] = (9, 9)\n",
    "plt.pie(size, colors = colors, explode = explode, labels = labels, shadow = True, autopct = '%.2f%%')\n",
    "plt.title('Interest Rate Type', fontsize = 20)\n",
    "plt.axis('off')\n",
    "plt.legend()\n",
    "plt.show()"
   ]
  },
  {
   "cell_type": "markdown",
   "metadata": {
    "colab_type": "text",
    "id": "9ldnsXG_IU7p"
   },
   "source": [
    "# Categorical Variables"
   ]
  },
  {
   "cell_type": "code",
   "execution_count": 14,
   "metadata": {
    "colab": {
     "base_uri": "https://localhost:8080/",
     "height": 867
    },
    "colab_type": "code",
    "id": "BBkt0ZPHIU7q",
    "outputId": "bbbcef19-9498-434d-e826-eaa082c8630e"
   },
   "outputs": [
    {
     "name": "stdout",
     "output_type": "stream",
     "text": [
      "\n",
      "Frequency of Categories for variable Length_Employed\n",
      "10+ years    88328\n",
      "2 years      24420\n",
      "3 years      21478\n",
      "< 1 year     21133\n",
      "5 years      18042\n",
      "1 year       17336\n",
      "4 years      16393\n",
      "7 years      15444\n",
      "6 years      15351\n",
      "8 years      13115\n",
      "9 years      10503\n",
      "Name: Length_Employed, dtype: int64\n",
      "\n",
      "Frequency of Categories for variable Home_Owner\n",
      "Mortgage    117270\n",
      "Rent         93542\n",
      "Own          20879\n",
      "Other           79\n",
      "None            20\n",
      "Name: Home_Owner, dtype: int64\n",
      "\n",
      "Frequency of Categories for variable Income_Verified\n",
      "VERIFIED - income           99076\n",
      "VERIFIED - income source    88253\n",
      "not verified                86521\n",
      "Name: Income_Verified, dtype: int64\n",
      "\n",
      "Frequency of Categories for variable Purpose_Of_Loan\n",
      "debt_consolidation    161403\n",
      "credit_card            61394\n",
      "home_improvement       15455\n",
      "other                  13846\n",
      "major_purchase          5712\n",
      "small_business          4064\n",
      "car                     3149\n",
      "medical                 2633\n",
      "moving                  1675\n",
      "vacation                1453\n",
      "wedding                 1345\n",
      "house                   1316\n",
      "renewable_energy         206\n",
      "educational              199\n",
      "Name: Purpose_Of_Loan, dtype: int64\n",
      "\n",
      "Frequency of Categories for variable Gender\n",
      "Male      194993\n",
      "Female     78857\n",
      "Name: Gender, dtype: int64\n"
     ]
    }
   ],
   "source": [
    "#Filter categorical variables\n",
    "cat_columns = [x for x in combined.dtypes.index if combined.dtypes[x]=='object']\n",
    "#Exclude :\n",
    "cat_columns = [x for x in cat_columns if x not in ['Loan_ID','TAG']]\n",
    "#Print frequency of categories\n",
    "for col in cat_columns:\n",
    "    print('\\nFrequency of Categories for variable %s'%col)\n",
    "    print(combined[col].value_counts())"
   ]
  },
  {
   "cell_type": "markdown",
   "metadata": {
    "colab_type": "text",
    "id": "cM3yh1x5IU7v"
   },
   "source": [
    "# Observations\n",
    "\n",
    "## Home_Owner:\n",
    "We can merge 'Other','None', 'Unknown'(to be imputed for missing) together.\n",
    "\n",
    "## Income Verified:  \n",
    "looks like two of the dispositions ( VERIFIED income, VERIFIED income source needs to be merged)\n",
    "\n",
    "## Purpose of loan\n",
    "can be grouped on the following type of loans to reduce the levels\n",
    "\n",
    "a)Education\n",
    "\n",
    "b)Personal- Wedding, moving, major_purchase, home_improvement, vacation, medical\n",
    "\n",
    "c)debt_consolidation\n",
    "\n",
    "d)house\n",
    "\n",
    "e)car\n",
    "\n",
    "f)Other- renewable energy, other, small business loans\n",
    "\n",
    "g)credit\n"
   ]
  },
  {
   "cell_type": "code",
   "execution_count": 15,
   "metadata": {
    "colab": {},
    "colab_type": "code",
    "id": "zshkrYMONH_8"
   },
   "outputs": [],
   "source": [
    "# Numerical Variables"
   ]
  },
  {
   "cell_type": "code",
   "execution_count": 16,
   "metadata": {
    "colab": {
     "base_uri": "https://localhost:8080/",
     "height": 404
    },
    "colab_type": "code",
    "id": "MmzKlfepIU7v",
    "outputId": "82b6c650-4794-4d54-a041-30b155a6d806"
   },
   "outputs": [
    {
     "data": {
      "image/png": "[encoded data removed]",
      "text/plain": [
       "<Figure size 1440x576 with 10 Axes>"
      ]
     },
     "metadata": {
      "needs_background": "light"
     },
     "output_type": "display_data"
    }
   ],
   "source": [
    "nums = [x for x in combined.dtypes.index if combined.dtypes[x]!='object']\n",
    "#Exclude :\n",
    "nums = [x for x in nums if x not in ['Loan_ID','Interest_Rate']]\n",
    "combined[nums].hist(bins=15, figsize=(20, 8), layout=(2, 5));"
   ]
  },
  {
   "cell_type": "markdown",
   "metadata": {
    "colab_type": "text",
    "id": "BbnNs9JnIU70"
   },
   "source": [
    "# CLEANING/PRE_PROCESSING/FEATURE ENGINEERING STEP"
   ]
  },
  {
   "cell_type": "code",
   "execution_count": 17,
   "metadata": {
    "colab": {},
    "colab_type": "code",
    "id": "eJ8gp3VNIU70"
   },
   "outputs": [],
   "source": [
    "# #PRE-PROCESSING/VARIABLE CLEANING BEFORE IMPUTATION/ FEATURE EXTRACTION\n",
    "\n",
    "# #Home Owner\n",
    "# combined['Home_Owner'] =  combined['Home_Owner'].replace({'Other':'Unknown','None':'Unknown'})\n",
    "\n",
    "# # #Income Verified\n",
    "# combined['Income_Verified'] =  combined['Income_Verified'].replace({'VERIFIED - income':'Verified','VERIFIED - income source':'Verified'})\n",
    "\n",
    "# # #purpose of loan\n",
    "# # l=['home_improvement','major_purchase', 'medical', 'moving','wedding', 'vacation']\n",
    "# # o=['renewable_energy','other','small_business']\n",
    "combined['Purpose_Of_Loan'] =  combined['Purpose_Of_Loan'].replace({'renewable_energy':'Others','other':'Others'})\n",
    "combined['Purpose_Of_Loan'] =  combined['Purpose_Of_Loan'].replace({'home_improvement':'Personal','medical':'Personal','small_business':'Personal','major_purchase':'Personal','vacation':'Personal','wedding':'Personal','moving':'Personal'})\n",
    "# combined['Purpose_Of_Loan'] =  combined['Purpose_Of_Loan'].replace({'educational':'ECH','house':'ECH','car':'ECH'})\n",
    "\n",
    "# no of closed/cleared accounts\n",
    "\n",
    "combined['Cleared_Accounts']=combined['Total_Accounts']-combined['Number_Open_Accounts']\n",
    "\n",
    "#query classification\n",
    "# combined['queries_Y_N']= np.where(combined['Inquiries_Last_6Mo']>0,\"Y\",\"N\")\n",
    "\n",
    "#Loan_to_Annual_Income\n",
    "# combined['Loan_To_Annual_Income']=combined['Loan_Amount_Requested']/combined['Annual_Income']\n",
    "\n",
    "#bin the loan amount\n",
    "\n",
    "def loans(combined):\n",
    "    if combined['Loan_Amount_Requested'] >=0 and combined['Loan_Amount_Requested'] <=8000:\n",
    "        return \"0-8K\"\n",
    "    elif combined['Loan_Amount_Requested'] >8000 and combined['Loan_Amount_Requested'] <=16000:\n",
    "        return \"8-16K\"\n",
    "    elif combined['Loan_Amount_Requested'] >16000 and combined['Loan_Amount_Requested'] <=24000:\n",
    "        return \"16-24K\"\n",
    "    else:\n",
    "        return \"24K+\"\n",
    "combined['LA_bucket']= combined.apply(loans,axis=1) "
   ]
  },
  {
   "cell_type": "code",
   "execution_count": 18,
   "metadata": {
    "colab": {
     "base_uri": "https://localhost:8080/",
     "height": 119
    },
    "colab_type": "code",
    "id": "H956mnTQ36rp",
    "outputId": "04db6938-23df-44a3-f2f7-ffbca7da08ea"
   },
   "outputs": [
    {
     "data": {
      "text/plain": [
       "Index(['Loan_ID', 'Loan_Amount_Requested', 'Length_Employed', 'Home_Owner',\n",
       "       'Annual_Income', 'Income_Verified', 'Purpose_Of_Loan', 'Debt_To_Income',\n",
       "       'Inquiries_Last_6Mo', 'Months_Since_Deliquency', 'Number_Open_Accounts',\n",
       "       'Total_Accounts', 'Gender', 'Interest_Rate', 'TAG', 'Cleared_Accounts',\n",
       "       'LA_bucket'],\n",
       "      dtype='object')"
      ]
     },
     "execution_count": 18,
     "metadata": {},
     "output_type": "execute_result"
    }
   ],
   "source": [
    "combined.columns"
   ]
  },
  {
   "cell_type": "code",
   "execution_count": 19,
   "metadata": {
    "colab": {
     "base_uri": "https://localhost:8080/",
     "height": 292
    },
    "colab_type": "code",
    "id": "rUORUATsIU75",
    "outputId": "835b4528-4086-4302-d3af-e1d2875a922a"
   },
   "outputs": [
    {
     "data": {
      "text/html": [
       "<div>\n",
       "<style scoped>\n",
       "    .dataframe tbody tr th:only-of-type {\n",
       "        vertical-align: middle;\n",
       "    }\n",
       "\n",
       "    .dataframe tbody tr th {\n",
       "        vertical-align: top;\n",
       "    }\n",
       "\n",
       "    .dataframe thead th {\n",
       "        text-align: right;\n",
       "    }\n",
       "</style>\n",
       "<table border=\"1\" class=\"dataframe\">\n",
       "  <thead>\n",
       "    <tr style=\"text-align: right;\">\n",
       "      <th></th>\n",
       "      <th>Loan_ID</th>\n",
       "      <th>Loan_Amount_Requested</th>\n",
       "      <th>Length_Employed</th>\n",
       "      <th>Home_Owner</th>\n",
       "      <th>Annual_Income</th>\n",
       "      <th>Income_Verified</th>\n",
       "      <th>Purpose_Of_Loan</th>\n",
       "      <th>Debt_To_Income</th>\n",
       "      <th>Inquiries_Last_6Mo</th>\n",
       "      <th>Months_Since_Deliquency</th>\n",
       "      <th>Number_Open_Accounts</th>\n",
       "      <th>Total_Accounts</th>\n",
       "      <th>Gender</th>\n",
       "      <th>Interest_Rate</th>\n",
       "      <th>TAG</th>\n",
       "      <th>Cleared_Accounts</th>\n",
       "      <th>LA_bucket</th>\n",
       "    </tr>\n",
       "  </thead>\n",
       "  <tbody>\n",
       "    <tr>\n",
       "      <th>0</th>\n",
       "      <td>10000001</td>\n",
       "      <td>7000</td>\n",
       "      <td>&lt; 1 year</td>\n",
       "      <td>Rent</td>\n",
       "      <td>68000.0</td>\n",
       "      <td>not verified</td>\n",
       "      <td>car</td>\n",
       "      <td>18.37</td>\n",
       "      <td>0</td>\n",
       "      <td>NaN</td>\n",
       "      <td>9</td>\n",
       "      <td>14</td>\n",
       "      <td>Female</td>\n",
       "      <td>1.0</td>\n",
       "      <td>TRAIN</td>\n",
       "      <td>5</td>\n",
       "      <td>0-8K</td>\n",
       "    </tr>\n",
       "    <tr>\n",
       "      <th>1</th>\n",
       "      <td>10000002</td>\n",
       "      <td>30000</td>\n",
       "      <td>4 years</td>\n",
       "      <td>Mortgage</td>\n",
       "      <td>NaN</td>\n",
       "      <td>VERIFIED - income</td>\n",
       "      <td>debt_consolidation</td>\n",
       "      <td>14.93</td>\n",
       "      <td>0</td>\n",
       "      <td>17.0</td>\n",
       "      <td>12</td>\n",
       "      <td>24</td>\n",
       "      <td>Female</td>\n",
       "      <td>3.0</td>\n",
       "      <td>TRAIN</td>\n",
       "      <td>12</td>\n",
       "      <td>24K+</td>\n",
       "    </tr>\n",
       "    <tr>\n",
       "      <th>2</th>\n",
       "      <td>10000003</td>\n",
       "      <td>24725</td>\n",
       "      <td>7 years</td>\n",
       "      <td>Mortgage</td>\n",
       "      <td>75566.4</td>\n",
       "      <td>VERIFIED - income source</td>\n",
       "      <td>debt_consolidation</td>\n",
       "      <td>15.88</td>\n",
       "      <td>0</td>\n",
       "      <td>NaN</td>\n",
       "      <td>12</td>\n",
       "      <td>16</td>\n",
       "      <td>Male</td>\n",
       "      <td>3.0</td>\n",
       "      <td>TRAIN</td>\n",
       "      <td>4</td>\n",
       "      <td>24K+</td>\n",
       "    </tr>\n",
       "    <tr>\n",
       "      <th>3</th>\n",
       "      <td>10000004</td>\n",
       "      <td>16000</td>\n",
       "      <td>&lt; 1 year</td>\n",
       "      <td>NaN</td>\n",
       "      <td>56160.0</td>\n",
       "      <td>VERIFIED - income source</td>\n",
       "      <td>debt_consolidation</td>\n",
       "      <td>14.34</td>\n",
       "      <td>3</td>\n",
       "      <td>NaN</td>\n",
       "      <td>16</td>\n",
       "      <td>22</td>\n",
       "      <td>Male</td>\n",
       "      <td>3.0</td>\n",
       "      <td>TRAIN</td>\n",
       "      <td>6</td>\n",
       "      <td>8-16K</td>\n",
       "    </tr>\n",
       "    <tr>\n",
       "      <th>4</th>\n",
       "      <td>10000005</td>\n",
       "      <td>17000</td>\n",
       "      <td>8 years</td>\n",
       "      <td>Own</td>\n",
       "      <td>96000.0</td>\n",
       "      <td>VERIFIED - income source</td>\n",
       "      <td>debt_consolidation</td>\n",
       "      <td>22.17</td>\n",
       "      <td>1</td>\n",
       "      <td>NaN</td>\n",
       "      <td>19</td>\n",
       "      <td>30</td>\n",
       "      <td>Female</td>\n",
       "      <td>1.0</td>\n",
       "      <td>TRAIN</td>\n",
       "      <td>11</td>\n",
       "      <td>16-24K</td>\n",
       "    </tr>\n",
       "  </tbody>\n",
       "</table>\n",
       "</div>"
      ],
      "text/plain": [
       "    Loan_ID  Loan_Amount_Requested Length_Employed Home_Owner  Annual_Income  \\\n",
       "0  10000001                   7000        < 1 year       Rent        68000.0   \n",
       "1  10000002                  30000         4 years   Mortgage            NaN   \n",
       "2  10000003                  24725         7 years   Mortgage        75566.4   \n",
       "3  10000004                  16000        < 1 year        NaN        56160.0   \n",
       "4  10000005                  17000         8 years        Own        96000.0   \n",
       "\n",
       "            Income_Verified     Purpose_Of_Loan  Debt_To_Income  \\\n",
       "0              not verified                 car           18.37   \n",
       "1         VERIFIED - income  debt_consolidation           14.93   \n",
       "2  VERIFIED - income source  debt_consolidation           15.88   \n",
       "3  VERIFIED - income source  debt_consolidation           14.34   \n",
       "4  VERIFIED - income source  debt_consolidation           22.17   \n",
       "\n",
       "   Inquiries_Last_6Mo  Months_Since_Deliquency  Number_Open_Accounts  \\\n",
       "0                   0                      NaN                     9   \n",
       "1                   0                     17.0                    12   \n",
       "2                   0                      NaN                    12   \n",
       "3                   3                      NaN                    16   \n",
       "4                   1                      NaN                    19   \n",
       "\n",
       "   Total_Accounts  Gender  Interest_Rate    TAG  Cleared_Accounts LA_bucket  \n",
       "0              14  Female            1.0  TRAIN                 5      0-8K  \n",
       "1              24  Female            3.0  TRAIN                12      24K+  \n",
       "2              16    Male            3.0  TRAIN                 4      24K+  \n",
       "3              22    Male            3.0  TRAIN                 6     8-16K  \n",
       "4              30  Female            1.0  TRAIN                11    16-24K  "
      ]
     },
     "execution_count": 19,
     "metadata": {},
     "output_type": "execute_result"
    }
   ],
   "source": [
    "combined.head()"
   ]
  },
  {
   "cell_type": "markdown",
   "metadata": {
    "colab_type": "text",
    "id": "7om70VhSIU79"
   },
   "source": [
    "\n",
    "\n",
    "We saw above that the following have missing values:\n",
    "\n",
    "1)Months_Since_Deliquency- \n",
    "\n",
    "If you miss a payment on your loans, you're considered delinquent.\n",
    "The day after you miss your payment, you technically are in delinquency.\n",
    "Default occurs when you remain in delinquency on  loans for a set period of time\n",
    "\n",
    "2)Home_Owner \n",
    "\n",
    "3)Annual_Income\n",
    "\n",
    "4)Length_Employed\n",
    "\n",
    "\n",
    "# IMPUTATION\n",
    "\n",
    "\n",
    "\n",
    "https://en.wikipedia.org/wiki/Imputation_%28statistics%29#Multiple_imputation"
   ]
  },
  {
   "cell_type": "code",
   "execution_count": 20,
   "metadata": {
    "colab": {},
    "colab_type": "code",
    "id": "pkp7QwnFIU7_"
   },
   "outputs": [],
   "source": [
    "#IMPUTATION\n",
    "#Home Owner\n",
    "combined.Home_Owner.fillna(\"Unknown\",inplace=True)\n",
    "\n"
   ]
  },
  {
   "cell_type": "code",
   "execution_count": 21,
   "metadata": {
    "colab": {},
    "colab_type": "code",
    "id": "qgBPpBACIU8D"
   },
   "outputs": [
    {
     "name": "stderr",
     "output_type": "stream",
     "text": [
      "C:\\ProgramData\\Anaconda3\\lib\\site-packages\\scipy\\stats\\stats.py:245: RuntimeWarning: The input array could not be properly checked for nan values. nan values will be ignored.\n",
      "  \"values. nan values will be ignored.\", RuntimeWarning)\n"
     ]
    }
   ],
   "source": [
    "#b)Length_Employed\n",
    "#Determing the mode for each\n",
    "from scipy.stats import mode\n",
    "mode = combined.pivot_table(values='Length_Employed', columns='Income_Verified',aggfunc=(lambda x:mode(x.astype('str')).mode[0]) )\n",
    "miss_bool = combined['Length_Employed'].isnull() \n",
    "combined.loc[miss_bool,'Length_Employed'] = combined.loc[miss_bool,'Income_Verified'].apply(lambda x: mode[x])\n",
    "\n",
    "# combined.Length_Employed.fillna(\"U\",inplace=True)"
   ]
  },
  {
   "cell_type": "code",
   "execution_count": 22,
   "metadata": {
    "colab": {},
    "colab_type": "code",
    "id": "QSqJcaOyIU8H"
   },
   "outputs": [],
   "source": [
    "# Annual Income(AI)\n",
    "AI = combined.pivot_table(values='Annual_Income', index='LA_bucket')\n",
    "\n",
    "# # #Get a boolean variable specifying missing AI values\n",
    "miss_bool = combined['Annual_Income'].isnull() \n",
    "\n",
    "# # # #Impute data\n",
    "\n",
    "combined.loc[miss_bool,'Annual_Income'] = combined.loc[miss_bool,'LA_bucket'].apply(lambda x: AI.loc[x])"
   ]
  },
  {
   "cell_type": "code",
   "execution_count": 23,
   "metadata": {
    "colab": {},
    "colab_type": "code",
    "id": "p1aYt76KIU8L"
   },
   "outputs": [],
   "source": [
    "#Months_Since_Deliquency\n",
    "#if there is no deliquency, it can be imputed on the basis if the income source was verified or not\n",
    "MSD = combined.pivot_table(values='Months_Since_Deliquency', index='Income_Verified')\n",
    "miss_bool = combined['Months_Since_Deliquency'].isnull() \n",
    "combined.loc[miss_bool,'Months_Since_Deliquency'] = combined.loc[miss_bool,'Income_Verified'].apply(lambda x: MSD.loc[x])\n"
   ]
  },
  {
   "cell_type": "code",
   "execution_count": 24,
   "metadata": {
    "colab": {
     "base_uri": "https://localhost:8080/",
     "height": 323
    },
    "colab_type": "code",
    "id": "mLbCbH66IU8P",
    "outputId": "5f183a0c-e81f-4d09-c34b-a8c0272ceb91"
   },
   "outputs": [
    {
     "data": {
      "text/plain": [
       "Loan_ID                         0\n",
       "Loan_Amount_Requested           0\n",
       "Length_Employed                 0\n",
       "Home_Owner                      0\n",
       "Annual_Income                   0\n",
       "Income_Verified                 0\n",
       "Purpose_Of_Loan                 0\n",
       "Debt_To_Income                  0\n",
       "Inquiries_Last_6Mo              0\n",
       "Months_Since_Deliquency         0\n",
       "Number_Open_Accounts            0\n",
       "Total_Accounts                  0\n",
       "Gender                          0\n",
       "Interest_Rate              109541\n",
       "TAG                             0\n",
       "Cleared_Accounts                0\n",
       "LA_bucket                       0\n",
       "dtype: int64"
      ]
     },
     "execution_count": 24,
     "metadata": {},
     "output_type": "execute_result"
    }
   ],
   "source": [
    "combined.isnull().sum()"
   ]
  },
  {
   "cell_type": "code",
   "execution_count": 25,
   "metadata": {
    "colab": {
     "base_uri": "https://localhost:8080/",
     "height": 119
    },
    "colab_type": "code",
    "id": "_xJot3pCIU8T",
    "outputId": "f19f530d-2024-4b73-cd72-473602dfeb04"
   },
   "outputs": [
    {
     "data": {
      "text/plain": [
       "['Length_Employed',\n",
       " 'Home_Owner',\n",
       " 'Income_Verified',\n",
       " 'Purpose_Of_Loan',\n",
       " 'Gender',\n",
       " 'LA_bucket']"
      ]
     },
     "execution_count": 25,
     "metadata": {},
     "output_type": "execute_result"
    }
   ],
   "source": [
    "#DISTRIBUTION OF CATEGORICAL VARIABLES\n",
    "cat = [x for x in combined.dtypes.index if combined.dtypes[x]=='object']\n",
    "cat = [x for x in cat if x not in ['Loan_ID','TAG']]\n",
    "cat"
   ]
  },
  {
   "cell_type": "code",
   "execution_count": 26,
   "metadata": {
    "colab": {
     "base_uri": "https://localhost:8080/",
     "height": 553
    },
    "colab_type": "code",
    "id": "hY9x6VLvIU8X",
    "outputId": "ad5502a9-b9a2-4cff-eb3f-0eba57f75d66"
   },
   "outputs": [
    {
     "data": {
      "image/png": "[encoded data removed]",
      "text/plain": [
       "<Figure size 1008x576 with 6 Axes>"
      ]
     },
     "metadata": {
      "needs_background": "light"
     },
     "output_type": "display_data"
    }
   ],
   "source": [
    "\n",
    "fig = plt.figure(1, (14, 8))\n",
    "\n",
    "for i,cat in enumerate(combined[cat]):\n",
    "    ax = plt.subplot(2,3,i+1)\n",
    "    sns.countplot(combined[cat], order=combined[cat].value_counts().index)\n",
    "    ax.set_xlabel(\"\")\n",
    "    ax.set_title(f'Distribution of {cat}')\n",
    "    plt.tight_layout()\n",
    "    plt.xticks(rotation=90)\n",
    "    \n",
    "\n",
    "plt.show()"
   ]
  },
  {
   "cell_type": "code",
   "execution_count": 27,
   "metadata": {
    "colab": {},
    "colab_type": "code",
    "id": "SoVwApD7L7NI"
   },
   "outputs": [],
   "source": [
    "nums = [x for x in combined.dtypes.index if combined.dtypes[x]!='object']\n",
    "#Exclude :\n",
    "nums = [x for x in nums if x not in ['Loan_ID','Interest_Rate','Loan_Amount_Requested']]"
   ]
  },
  {
   "cell_type": "code",
   "execution_count": 28,
   "metadata": {
    "colab": {},
    "colab_type": "code",
    "id": "pA_enZ5sOjwv"
   },
   "outputs": [],
   "source": [
    "# !pip install dython"
   ]
  },
  {
   "cell_type": "code",
   "execution_count": 29,
   "metadata": {
    "colab": {},
    "colab_type": "code",
    "id": "qwU2rCnFIU8b"
   },
   "outputs": [
    {
     "name": "stderr",
     "output_type": "stream",
     "text": [
      "C:\\ProgramData\\Anaconda3\\lib\\site-packages\\pandas\\core\\frame.py:3790: SettingWithCopyWarning: \n",
      "A value is trying to be set on a copy of a slice from a DataFrame\n",
      "\n",
      "See the caveats in the documentation: http://pandas.pydata.org/pandas-docs/stable/indexing.html#indexing-view-versus-copy\n",
      "  downcast=downcast, **kwargs)\n"
     ]
    },
    {
     "data": {
      "image/png": "[encoded data removed]",
      "text/plain": [
       "<Figure size 720x720 with 2 Axes>"
      ]
     },
     "metadata": {
      "needs_background": "light"
     },
     "output_type": "display_data"
    },
    {
     "data": {
      "text/plain": [
       "{'corr':                          Length_Employed    Home_Owner  Income_Verified  \\\n",
       " Length_Employed                 1.000000  1.585770e-02         0.007507   \n",
       " Home_Owner                      0.009202  1.000000e+00         0.003191   \n",
       " Income_Verified                 0.003926  2.875459e-03         1.000000   \n",
       " Purpose_Of_Loan                 0.000450  3.392114e-03         0.002128   \n",
       " Gender                          0.000011  8.819808e-07         0.000007   \n",
       " LA_bucket                       0.002397  1.408954e-02         0.070661   \n",
       " Annual_Income                   0.048877  1.562997e-01         0.120087   \n",
       " Debt_To_Income                  0.053940  2.635911e-02         0.115887   \n",
       " Inquiries_Last_6Mo              0.010889  5.685294e-02         0.066340   \n",
       " Months_Since_Deliquency         0.026637  3.227379e-02         0.018972   \n",
       " Number_Open_Accounts            0.027451  1.271851e-01         0.070540   \n",
       " Total_Accounts                  0.110441  2.150678e-01         0.101426   \n",
       " Cleared_Accounts                0.128301  2.074304e-01         0.092175   \n",
       " Interest_Rate                   0.010884  2.159642e-02         0.079342   \n",
       " \n",
       "                          Purpose_Of_Loan    Gender  LA_bucket  Annual_Income  \\\n",
       " Length_Employed                 0.000832  0.000038   0.003818       0.048877   \n",
       " Home_Owner                      0.003642  0.000002   0.013020       0.156300   \n",
       " Income_Verified                 0.002059  0.000013   0.058843       0.120087   \n",
       " Purpose_Of_Loan                 1.000000  0.000004   0.018924       0.049466   \n",
       " Gender                          0.000002  1.000000   0.000003       0.001475   \n",
       " LA_bucket                       0.021984  0.000007   1.000000       0.352481   \n",
       " Annual_Income                   0.049466  0.001475   0.352481       1.000000   \n",
       " Debt_To_Income                  0.162303  0.001342   0.075676      -0.162400   \n",
       " Inquiries_Last_6Mo              0.077389  0.000353   0.022275       0.052667   \n",
       " Months_Since_Deliquency         0.007628  0.000317   0.025496      -0.041298   \n",
       " Number_Open_Accounts            0.105970  0.001663   0.194820       0.145364   \n",
       " Total_Accounts                  0.078880  0.001921   0.221543       0.204204   \n",
       " Cleared_Accounts                0.051521  0.001561   0.179058       0.183262   \n",
       " Interest_Rate                   0.062888  0.003370   0.051787      -0.016696   \n",
       " \n",
       "                          Debt_To_Income  Inquiries_Last_6Mo  \\\n",
       " Length_Employed                0.053940            0.010889   \n",
       " Home_Owner                     0.026359            0.056853   \n",
       " Income_Verified                0.115887            0.066340   \n",
       " Purpose_Of_Loan                0.162303            0.077389   \n",
       " Gender                         0.001342            0.000353   \n",
       " LA_bucket                      0.075676            0.022275   \n",
       " Annual_Income                 -0.162400            0.052667   \n",
       " Debt_To_Income                 1.000000           -0.005079   \n",
       " Inquiries_Last_6Mo            -0.005079            1.000000   \n",
       " Months_Since_Deliquency        0.005331            0.008486   \n",
       " Number_Open_Accounts           0.303119            0.099949   \n",
       " Total_Accounts                 0.228669            0.132369   \n",
       " Cleared_Accounts               0.127394            0.115621   \n",
       " Interest_Rate                  0.054974            0.066536   \n",
       " \n",
       "                          Months_Since_Deliquency  Number_Open_Accounts  \\\n",
       " Length_Employed                         0.026637              0.027451   \n",
       " Home_Owner                              0.032274              0.127185   \n",
       " Income_Verified                         0.018972              0.070540   \n",
       " Purpose_Of_Loan                         0.007628              0.105970   \n",
       " Gender                                  0.000317              0.001663   \n",
       " LA_bucket                               0.025496              0.194820   \n",
       " Annual_Income                          -0.041298              0.145364   \n",
       " Debt_To_Income                          0.005331              0.303119   \n",
       " Inquiries_Last_6Mo                      0.008486              0.099949   \n",
       " Months_Since_Deliquency                 1.000000             -0.033637   \n",
       " Number_Open_Accounts                   -0.033637              1.000000   \n",
       " Total_Accounts                         -0.039746              0.681922   \n",
       " Cleared_Accounts                       -0.032706              0.326639   \n",
       " Interest_Rate                          -0.005149              0.002741   \n",
       " \n",
       "                          Total_Accounts  Cleared_Accounts  Interest_Rate  \n",
       " Length_Employed                0.110441          0.128301       0.010884  \n",
       " Home_Owner                     0.215068          0.207430       0.021596  \n",
       " Income_Verified                0.101426          0.092175       0.079342  \n",
       " Purpose_Of_Loan                0.078880          0.051521       0.062888  \n",
       " Gender                         0.001921          0.001561       0.003370  \n",
       " LA_bucket                      0.221543          0.179058       0.051787  \n",
       " Annual_Income                  0.204204          0.183262      -0.016696  \n",
       " Debt_To_Income                 0.228669          0.127394       0.054974  \n",
       " Inquiries_Last_6Mo             0.132369          0.115621       0.066536  \n",
       " Months_Since_Deliquency       -0.039746         -0.032706      -0.005149  \n",
       " Number_Open_Accounts           0.681922          0.326639       0.002741  \n",
       " Total_Accounts                 1.000000          0.914048      -0.015012  \n",
       " Cleared_Accounts               0.914048          1.000000      -0.020918  \n",
       " Interest_Rate                 -0.015012         -0.020918       1.000000  ,\n",
       " 'ax': <matplotlib.axes._subplots.AxesSubplot at 0x21b23db2588>}"
      ]
     },
     "execution_count": 29,
     "metadata": {},
     "output_type": "execute_result"
    }
   ],
   "source": [
    "#Correlation/Association\n",
    "from dython.nominal import associations\n",
    "\n",
    "cat = [x for x in combined.dtypes.index if combined.dtypes[x]=='object']\n",
    "cat = [x for x in cat if x not in ['Loan_ID','TAG']]\n",
    "associations(combined[(cat+nums+['Interest_Rate'])], theil_u=True, figsize=(10, 10))"
   ]
  },
  {
   "cell_type": "code",
   "execution_count": 30,
   "metadata": {
    "colab": {},
    "colab_type": "code",
    "id": "Wz_GxvyT8JQa"
   },
   "outputs": [
    {
     "data": {
      "text/html": [
       "<div>\n",
       "<style scoped>\n",
       "    .dataframe tbody tr th:only-of-type {\n",
       "        vertical-align: middle;\n",
       "    }\n",
       "\n",
       "    .dataframe tbody tr th {\n",
       "        vertical-align: top;\n",
       "    }\n",
       "\n",
       "    .dataframe thead th {\n",
       "        text-align: right;\n",
       "    }\n",
       "</style>\n",
       "<table border=\"1\" class=\"dataframe\">\n",
       "  <thead>\n",
       "    <tr style=\"text-align: right;\">\n",
       "      <th></th>\n",
       "      <th>Loan_ID</th>\n",
       "      <th>Loan_Amount_Requested</th>\n",
       "      <th>Length_Employed</th>\n",
       "      <th>Home_Owner</th>\n",
       "      <th>Annual_Income</th>\n",
       "      <th>Income_Verified</th>\n",
       "      <th>Purpose_Of_Loan</th>\n",
       "      <th>Debt_To_Income</th>\n",
       "      <th>Inquiries_Last_6Mo</th>\n",
       "      <th>Months_Since_Deliquency</th>\n",
       "      <th>Number_Open_Accounts</th>\n",
       "      <th>Total_Accounts</th>\n",
       "      <th>Gender</th>\n",
       "      <th>Interest_Rate</th>\n",
       "      <th>TAG</th>\n",
       "      <th>Cleared_Accounts</th>\n",
       "      <th>LA_bucket</th>\n",
       "    </tr>\n",
       "  </thead>\n",
       "  <tbody>\n",
       "    <tr>\n",
       "      <th>0</th>\n",
       "      <td>10000001</td>\n",
       "      <td>7000</td>\n",
       "      <td>&lt; 1 year</td>\n",
       "      <td>Rent</td>\n",
       "      <td>68000.000000</td>\n",
       "      <td>not verified</td>\n",
       "      <td>car</td>\n",
       "      <td>18.37</td>\n",
       "      <td>0</td>\n",
       "      <td>34.005607</td>\n",
       "      <td>9</td>\n",
       "      <td>14</td>\n",
       "      <td>Female</td>\n",
       "      <td>1.0</td>\n",
       "      <td>TRAIN</td>\n",
       "      <td>5</td>\n",
       "      <td>0-8K</td>\n",
       "    </tr>\n",
       "    <tr>\n",
       "      <th>1</th>\n",
       "      <td>10000002</td>\n",
       "      <td>30000</td>\n",
       "      <td>4 years</td>\n",
       "      <td>Mortgage</td>\n",
       "      <td>114720.784382</td>\n",
       "      <td>VERIFIED - income</td>\n",
       "      <td>debt_consolidation</td>\n",
       "      <td>14.93</td>\n",
       "      <td>0</td>\n",
       "      <td>17.000000</td>\n",
       "      <td>12</td>\n",
       "      <td>24</td>\n",
       "      <td>Female</td>\n",
       "      <td>3.0</td>\n",
       "      <td>TRAIN</td>\n",
       "      <td>12</td>\n",
       "      <td>24K+</td>\n",
       "    </tr>\n",
       "    <tr>\n",
       "      <th>2</th>\n",
       "      <td>10000003</td>\n",
       "      <td>24725</td>\n",
       "      <td>7 years</td>\n",
       "      <td>Mortgage</td>\n",
       "      <td>75566.400000</td>\n",
       "      <td>VERIFIED - income source</td>\n",
       "      <td>debt_consolidation</td>\n",
       "      <td>15.88</td>\n",
       "      <td>0</td>\n",
       "      <td>33.809440</td>\n",
       "      <td>12</td>\n",
       "      <td>16</td>\n",
       "      <td>Male</td>\n",
       "      <td>3.0</td>\n",
       "      <td>TRAIN</td>\n",
       "      <td>4</td>\n",
       "      <td>24K+</td>\n",
       "    </tr>\n",
       "    <tr>\n",
       "      <th>3</th>\n",
       "      <td>10000004</td>\n",
       "      <td>16000</td>\n",
       "      <td>&lt; 1 year</td>\n",
       "      <td>Unknown</td>\n",
       "      <td>56160.000000</td>\n",
       "      <td>VERIFIED - income source</td>\n",
       "      <td>debt_consolidation</td>\n",
       "      <td>14.34</td>\n",
       "      <td>3</td>\n",
       "      <td>33.809440</td>\n",
       "      <td>16</td>\n",
       "      <td>22</td>\n",
       "      <td>Male</td>\n",
       "      <td>3.0</td>\n",
       "      <td>TRAIN</td>\n",
       "      <td>6</td>\n",
       "      <td>8-16K</td>\n",
       "    </tr>\n",
       "    <tr>\n",
       "      <th>4</th>\n",
       "      <td>10000005</td>\n",
       "      <td>17000</td>\n",
       "      <td>8 years</td>\n",
       "      <td>Own</td>\n",
       "      <td>96000.000000</td>\n",
       "      <td>VERIFIED - income source</td>\n",
       "      <td>debt_consolidation</td>\n",
       "      <td>22.17</td>\n",
       "      <td>1</td>\n",
       "      <td>33.809440</td>\n",
       "      <td>19</td>\n",
       "      <td>30</td>\n",
       "      <td>Female</td>\n",
       "      <td>1.0</td>\n",
       "      <td>TRAIN</td>\n",
       "      <td>11</td>\n",
       "      <td>16-24K</td>\n",
       "    </tr>\n",
       "  </tbody>\n",
       "</table>\n",
       "</div>"
      ],
      "text/plain": [
       "    Loan_ID  Loan_Amount_Requested Length_Employed Home_Owner  Annual_Income  \\\n",
       "0  10000001                   7000        < 1 year       Rent   68000.000000   \n",
       "1  10000002                  30000         4 years   Mortgage  114720.784382   \n",
       "2  10000003                  24725         7 years   Mortgage   75566.400000   \n",
       "3  10000004                  16000        < 1 year    Unknown   56160.000000   \n",
       "4  10000005                  17000         8 years        Own   96000.000000   \n",
       "\n",
       "            Income_Verified     Purpose_Of_Loan  Debt_To_Income  \\\n",
       "0              not verified                 car           18.37   \n",
       "1         VERIFIED - income  debt_consolidation           14.93   \n",
       "2  VERIFIED - income source  debt_consolidation           15.88   \n",
       "3  VERIFIED - income source  debt_consolidation           14.34   \n",
       "4  VERIFIED - income source  debt_consolidation           22.17   \n",
       "\n",
       "   Inquiries_Last_6Mo  Months_Since_Deliquency  Number_Open_Accounts  \\\n",
       "0                   0                34.005607                     9   \n",
       "1                   0                17.000000                    12   \n",
       "2                   0                33.809440                    12   \n",
       "3                   3                33.809440                    16   \n",
       "4                   1                33.809440                    19   \n",
       "\n",
       "   Total_Accounts  Gender  Interest_Rate    TAG  Cleared_Accounts LA_bucket  \n",
       "0              14  Female            1.0  TRAIN                 5      0-8K  \n",
       "1              24  Female            3.0  TRAIN                12      24K+  \n",
       "2              16    Male            3.0  TRAIN                 4      24K+  \n",
       "3              22    Male            3.0  TRAIN                 6     8-16K  \n",
       "4              30  Female            1.0  TRAIN                11    16-24K  "
      ]
     },
     "execution_count": 30,
     "metadata": {},
     "output_type": "execute_result"
    }
   ],
   "source": [
    "combined.head()"
   ]
  },
  {
   "cell_type": "code",
   "execution_count": 31,
   "metadata": {
    "colab": {},
    "colab_type": "code",
    "id": "p46umU07IU8k"
   },
   "outputs": [
    {
     "data": {
      "text/plain": [
       "<matplotlib.axes._subplots.AxesSubplot at 0x21b35ba0d68>"
      ]
     },
     "execution_count": 31,
     "metadata": {},
     "output_type": "execute_result"
    },
    {
     "data": {
      "image/png": "[encoded data removed]",
      "text/plain": [
       "<Figure size 1008x576 with 1 Axes>"
      ]
     },
     "metadata": {
      "needs_background": "light"
     },
     "output_type": "display_data"
    }
   ],
   "source": [
    "df1=combined.drop(['Interest_Rate','TAG','Loan_ID'],axis=1)\n",
    "\n",
    "# plt.figure(figsize=(20,10)) \n",
    "# sns.heatmap(df1.corr(), annot=True)\n",
    "df1.corrwith(combined.Interest_Rate).plot.bar(\n",
    "        figsize = (14, 8), title = \"Correlation with Interest Rate\", fontsize = 10,\n",
    "        rot = 90, grid = True)"
   ]
  },
  {
   "cell_type": "code",
   "execution_count": 32,
   "metadata": {
    "colab": {},
    "colab_type": "code",
    "id": "TbyKU2PkIU8o"
   },
   "outputs": [],
   "source": [
    "train=combined[combined['TAG']=='TRAIN']\n",
    "test=combined[combined['TAG']=='TEST']\n",
    "# train=train.drop(['TAG','Inquiries_Last_6Mo','Total_Accounts','Gender','Number_Open_Accounts','Home_Owner','Length_Employed'],axis=1)\n",
    "# test=test.drop(['TAG','Interest_Rate','Inquiries_Last_6Mo','Total_Accounts','Number_Open_Accounts','Gender','Home_Owner','Length_Employed'],axis=1)\n",
    "# train=train.drop(['TAG','Inquiries_Last_6Mo','Gender','Number_Open_Accounts'],axis=1)\n",
    "# test=test.drop(['TAG','Interest_Rate','Inquiries_Last_6Mo','Gender','Number_Open_Accounts'],axis=1)\n",
    "train=train.drop(['TAG','Total_Accounts','Loan_Amount_Requested'],axis=1)\n",
    "test=test.drop(['TAG','Interest_Rate','Total_Accounts','Loan_Amount_Requested'],axis=1)"
   ]
  },
  {
   "cell_type": "code",
   "execution_count": 33,
   "metadata": {
    "colab": {},
    "colab_type": "code",
    "id": "TT1mfedqIU8s"
   },
   "outputs": [
    {
     "data": {
      "text/plain": [
       "((164309, 14), (109541, 13))"
      ]
     },
     "execution_count": 33,
     "metadata": {},
     "output_type": "execute_result"
    }
   ],
   "source": [
    "train.shape,test.shape"
   ]
  },
  {
   "cell_type": "code",
   "execution_count": 0,
   "metadata": {
    "colab": {},
    "colab_type": "code",
    "id": "B2mZOH3VPMQh"
   },
   "outputs": [],
   "source": [
    "# !pip install catboost"
   ]
  },
  {
   "cell_type": "code",
   "execution_count": 0,
   "metadata": {
    "colab": {},
    "colab_type": "code",
    "id": "JAZ60l1KQUKE"
   },
   "outputs": [],
   "source": [
    "from sklearn.model_selection import KFold\n",
    "# Set up folds\n",
    "K=7\n",
    "kf = KFold(n_splits = K, random_state = 7, shuffle = True)\n",
    "MAX_ROUNDS = 1000\n",
    "t = False\n",
    "from catboost import CatBoostClassifier\n",
    "from sklearn.metrics import f1_score\n",
    "X = train.drop(columns=['Loan_ID','Interest_Rate'],axis=1)\n",
    "y = train['Interest_Rate']\n",
    "X_test =test.drop(['Loan_ID'],axis=1)\n",
    "y_valid_pred = 0*y\n",
    "y_test_pred = 0\n",
    "F1 = 0\n",
    "result={}\n",
    "#specifying categorical variables indexes\n",
    "cat_columns = [x for x in X.dtypes.index if X.dtypes[x]=='object']\n",
    "#fitting catboost classifier model\n",
    "j=1\n",
    "model = CatBoostClassifier(n_estimators=MAX_ROUNDS,task_type=\"GPU\",verbose=False,learning_rate=0.07, leaf_estimation_iterations=1)\n",
    "for i, (train_index, test_index) in enumerate(kf.split(train)):\n",
    "\n",
    "#for train_index, test_index in skf.split(X, y):  \n",
    "    # Create data for this fold\n",
    "    y_train, y_valid = y.iloc[train_index], y.iloc[test_index]\n",
    "    X_train, X_valid = X.iloc[train_index,:], X.iloc[test_index,:]\n",
    "    print( \"\\nFold \", j)\n",
    "    #print( \"\\nFold \", i)\n",
    "    \n",
    "    # Run model for this fold\n",
    "    if t:\n",
    "        fit_model = model.fit( X_train, y_train, \n",
    "                               eval_set=[X_valid, y_valid],cat_features=cat_columns,\n",
    "                               use_best_model=True\n",
    "                             )\n",
    "        print( \"  N trees = \", model.tree_count_ )\n",
    "    else:\n",
    "        fit_model = model.fit( X_train, y_train,cat_features=cat_columns )\n",
    "        \n",
    "    # Generate validation predictions for this fold\n",
    "    pred = fit_model.predict(X_valid)\n",
    "    y_valid_pred.iloc[test_index] = pred.reshape(-1)\n",
    "    print(f1_score(y_valid,pred,average='weighted'))\n",
    "    F1+=f1_score(y_valid,pred,average='weighted')\n",
    "\n",
    "\n",
    "\n",
    "    # Accumulate test set predictions\n",
    "    y_test_pred += fit_model.predict(X_test)\n",
    "    result[j]=fit_model.predict(X_test)\n",
    "    j+=1\n",
    "results = y_test_pred / K  # Average test set predictions\n",
    "print(F1/K)"
   ]
  },
  {
   "cell_type": "code",
   "execution_count": 0,
   "metadata": {
    "colab": {},
    "colab_type": "code",
    "id": "3ujo_KMTZRy3"
   },
   "outputs": [],
   "source": [
    "\n",
    "d = pd.DataFrame()\n",
    "for i in range(1, 6):\n",
    "    d = pd.concat([d,pd.DataFrame(result[i])],axis=1)\n",
    "d.columns=['1','2','3','4','5']\n",
    "x = d.mode(axis=1)[0]\n",
    "sub = pd.read_csv('sample_submission.csv')\n",
    "sub.Interest_Rate = x\n"
   ]
  },
  {
   "cell_type": "code",
   "execution_count": 0,
   "metadata": {
    "colab": {},
    "colab_type": "code",
    "id": "sW_kScnJmlrB"
   },
   "outputs": [],
   "source": [
    "sub.to_csv('CAT_BOOST_final_v3.csv',index = False)"
   ]
  }
 ],
 "metadata": {
  "accelerator": "GPU",
  "colab": {
   "collapsed_sections": [],
   "name": "Banking Analytics.ipynb",
   "provenance": []
  },
  "kernelspec": {
   "display_name": "Python 3",
   "language": "python",
   "name": "python3"
  },
  "language_info": {
   "codemirror_mode": {
    "name": "ipython",
    "version": 3
   },
   "file_extension": ".py",
   "mimetype": "text/x-python",
   "name": "python",
   "nbconvert_exporter": "python",
   "pygments_lexer": "ipython3",
   "version": "3.7.0"
  }
 },
 "nbformat": 4,
 "nbformat_minor": 1
}
