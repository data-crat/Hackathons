{
  "nbformat": 4,
  "nbformat_minor": 0,
  "metadata": {
    "kernelspec": {
      "display_name": "Python 3",
      "language": "python",
      "name": "python3"
    },
    "language_info": {
      "codemirror_mode": {
        "name": "ipython",
        "version": 3
      },
      "file_extension": ".py",
      "mimetype": "text/x-python",
      "name": "python",
      "nbconvert_exporter": "python",
      "pygments_lexer": "ipython3",
      "version": "3.7.0"
    },
    "colab": {
      "name": "Banking Analytics.ipynb",
      "provenance": [],
      "collapsed_sections": []
    },
    "accelerator": "GPU"
  },
  "cells": [
    {
      "cell_type": "code",
      "metadata": {
        "id": "9u3VJTvYIU6T",
        "colab_type": "code",
        "colab": {
          "base_uri": "https://localhost:8080/",
          "height": 71
        },
        "outputId": "7210e4ba-c9be-4151-f653-a0a98b5a1008"
      },
      "source": [
        "import pandas as pd\n",
        "%matplotlib inline\n",
        "from matplotlib import pyplot as plt\n",
        "import numpy as np\n",
        "import seaborn as sns"
      ],
      "execution_count": 1,
      "outputs": [
        {
          "output_type": "stream",
          "text": [
            "/usr/local/lib/python3.6/dist-packages/statsmodels/tools/_testing.py:19: FutureWarning: pandas.util.testing is deprecated. Use the functions in the public API at pandas.testing instead.\n",
            "  import pandas.util.testing as tm\n"
          ],
          "name": "stderr"
        }
      ]
    },
    {
      "cell_type": "code",
      "metadata": {
        "id": "nftKyXt_IU6b",
        "colab_type": "code",
        "colab": {}
      },
      "source": [
        "train=pd.read_csv(\"train.csv\")\n",
        "test=pd.read_csv(\"test.csv\")\n",
        "train['TAG']='TRAIN'\n",
        "test['TAG']='TEST'\n",
        "combined=pd.concat([train,test],sort=False)"
      ],
      "execution_count": 0,
      "outputs": []
    },
    {
      "cell_type": "code",
      "metadata": {
        "id": "Ra76ZRYZIU6g",
        "colab_type": "code",
        "colab": {}
      },
      "source": [
        "#%autosave 60"
      ],
      "execution_count": 0,
      "outputs": []
    },
    {
      "cell_type": "markdown",
      "metadata": {
        "id": "BSAZ7FD1IU6m",
        "colab_type": "text"
      },
      "source": [
        "# BASIC EXPLORATIONS"
      ]
    },
    {
      "cell_type": "code",
      "metadata": {
        "id": "Aqyo6VlBIU6n",
        "colab_type": "code",
        "colab": {
          "base_uri": "https://localhost:8080/",
          "height": 34
        },
        "outputId": "7fd4a3f3-d582-4965-bee5-2c116e5ab1d0"
      },
      "source": [
        "combined.shape"
      ],
      "execution_count": 4,
      "outputs": [
        {
          "output_type": "execute_result",
          "data": {
            "text/plain": [
              "(273850, 15)"
            ]
          },
          "metadata": {
            "tags": []
          },
          "execution_count": 4
        }
      ]
    },
    {
      "cell_type": "code",
      "metadata": {
        "id": "-uDaZZsUIU6s",
        "colab_type": "code",
        "colab": {
          "base_uri": "https://localhost:8080/",
          "height": 433
        },
        "outputId": "6e9522f0-fea8-4d29-8775-f3ab17532176"
      },
      "source": [
        "x=(combined.isnull().sum() * 100 / len(combined)).round(2).sort_values(ascending=False)\n",
        "y=combined.isnull().sum().sort_values(ascending=False)\n",
        "FR=pd.concat([x,y],axis=1,keys=['PRECENT','COUNT']).reset_index()\n",
        "sns.barplot(FR['index'],FR['COUNT'])\n",
        "plt.xticks(rotation=90)"
      ],
      "execution_count": 5,
      "outputs": [
        {
          "output_type": "execute_result",
          "data": {
            "text/plain": [
              "(array([ 0,  1,  2,  3,  4,  5,  6,  7,  8,  9, 10, 11, 12, 13, 14]),\n",
              " <a list of 15 Text major ticklabel objects>)"
            ]
          },
          "metadata": {
            "tags": []
          },
          "execution_count": 5
        },
        {
          "output_type": "display_data",
          "data": {
            "image/png": "[encoded data removed]",
            "text/plain": [
              "<Figure size 432x288 with 1 Axes>"
            ]
          },
          "metadata": {
            "tags": [],
            "needs_background": "light"
          }
        }
      ]
    },
    {
      "cell_type": "code",
      "metadata": {
        "id": "lfeUqdydIU6x",
        "colab_type": "code",
        "colab": {
          "base_uri": "https://localhost:8080/",
          "height": 289
        },
        "outputId": "324ef6ec-d43b-48d3-c152-b09b198000a0"
      },
      "source": [
        "combined.isnull().sum()"
      ],
      "execution_count": 6,
      "outputs": [
        {
          "output_type": "execute_result",
          "data": {
            "text/plain": [
              "Loan_ID                         0\n",
              "Loan_Amount_Requested           0\n",
              "Length_Employed             12307\n",
              "Home_Owner                  42060\n",
              "Annual_Income               42000\n",
              "Income_Verified                 0\n",
              "Purpose_Of_Loan                 0\n",
              "Debt_To_Income                  0\n",
              "Inquiries_Last_6Mo              0\n",
              "Months_Since_Deliquency    147238\n",
              "Number_Open_Accounts            0\n",
              "Total_Accounts                  0\n",
              "Gender                          0\n",
              "Interest_Rate              109541\n",
              "TAG                             0\n",
              "dtype: int64"
            ]
          },
          "metadata": {
            "tags": []
          },
          "execution_count": 6
        }
      ]
    },
    {
      "cell_type": "code",
      "metadata": {
        "id": "uY7TlO-gIU64",
        "colab_type": "code",
        "colab": {
          "base_uri": "https://localhost:8080/",
          "height": 289
        },
        "outputId": "6ca3e03a-c482-4f42-9f6d-aab84dae9c00"
      },
      "source": [
        "combined.dtypes\n"
      ],
      "execution_count": 7,
      "outputs": [
        {
          "output_type": "execute_result",
          "data": {
            "text/plain": [
              "Loan_ID                      int64\n",
              "Loan_Amount_Requested       object\n",
              "Length_Employed             object\n",
              "Home_Owner                  object\n",
              "Annual_Income              float64\n",
              "Income_Verified             object\n",
              "Purpose_Of_Loan             object\n",
              "Debt_To_Income             float64\n",
              "Inquiries_Last_6Mo           int64\n",
              "Months_Since_Deliquency    float64\n",
              "Number_Open_Accounts         int64\n",
              "Total_Accounts               int64\n",
              "Gender                      object\n",
              "Interest_Rate              float64\n",
              "TAG                         object\n",
              "dtype: object"
            ]
          },
          "metadata": {
            "tags": []
          },
          "execution_count": 7
        }
      ]
    },
    {
      "cell_type": "code",
      "metadata": {
        "id": "pxB8E_9nIU6_",
        "colab_type": "code",
        "colab": {}
      },
      "source": [
        "# Loan_Amount_requested isn't in relevant datatype bucket.\n",
        "combined.Loan_Amount_Requested=combined.Loan_Amount_Requested.str.replace(',', '').astype('int')\n"
      ],
      "execution_count": 0,
      "outputs": []
    },
    {
      "cell_type": "code",
      "metadata": {
        "id": "qX4B9gWjIU7H",
        "colab_type": "code",
        "colab": {
          "base_uri": "https://localhost:8080/",
          "height": 317
        },
        "outputId": "7486cc9a-d5fd-41c0-b792-8712c790a0c4"
      },
      "source": [
        "combined.describe()"
      ],
      "execution_count": 9,
      "outputs": [
        {
          "output_type": "execute_result",
          "data": {
            "text/html": [
              "<div>\n",
              "<style scoped>\n",
              "    .dataframe tbody tr th:only-of-type {\n",
              "        vertical-align: middle;\n",
              "    }\n",
              "\n",
              "    .dataframe tbody tr th {\n",
              "        vertical-align: top;\n",
              "    }\n",
              "\n",
              "    .dataframe thead th {\n",
              "        text-align: right;\n",
              "    }\n",
              "</style>\n",
              "<table border=\"1\" class=\"dataframe\">\n",
              "  <thead>\n",
              "    <tr style=\"text-align: right;\">\n",
              "      <th></th>\n",
              "      <th>Loan_ID</th>\n",
              "      <th>Loan_Amount_Requested</th>\n",
              "      <th>Annual_Income</th>\n",
              "      <th>Debt_To_Income</th>\n",
              "      <th>Inquiries_Last_6Mo</th>\n",
              "      <th>Months_Since_Deliquency</th>\n",
              "      <th>Number_Open_Accounts</th>\n",
              "      <th>Total_Accounts</th>\n",
              "      <th>Interest_Rate</th>\n",
              "    </tr>\n",
              "  </thead>\n",
              "  <tbody>\n",
              "    <tr>\n",
              "      <th>count</th>\n",
              "      <td>2.738500e+05</td>\n",
              "      <td>273850.000000</td>\n",
              "      <td>2.318500e+05</td>\n",
              "      <td>273850.000000</td>\n",
              "      <td>273850.000000</td>\n",
              "      <td>126612.000000</td>\n",
              "      <td>273850.000000</td>\n",
              "      <td>273850.000000</td>\n",
              "      <td>164309.000000</td>\n",
              "    </tr>\n",
              "    <tr>\n",
              "      <th>mean</th>\n",
              "      <td>1.013693e+07</td>\n",
              "      <td>14352.992240</td>\n",
              "      <td>7.339279e+04</td>\n",
              "      <td>17.215901</td>\n",
              "      <td>0.784543</td>\n",
              "      <td>34.103395</td>\n",
              "      <td>11.186025</td>\n",
              "      <td>25.067975</td>\n",
              "      <td>2.158951</td>\n",
              "    </tr>\n",
              "    <tr>\n",
              "      <th>std</th>\n",
              "      <td>7.905383e+04</td>\n",
              "      <td>8289.036702</td>\n",
              "      <td>5.852984e+04</td>\n",
              "      <td>7.845967</td>\n",
              "      <td>1.036816</td>\n",
              "      <td>21.750307</td>\n",
              "      <td>4.973663</td>\n",
              "      <td>11.589677</td>\n",
              "      <td>0.738364</td>\n",
              "    </tr>\n",
              "    <tr>\n",
              "      <th>min</th>\n",
              "      <td>1.000000e+07</td>\n",
              "      <td>500.000000</td>\n",
              "      <td>3.000000e+03</td>\n",
              "      <td>0.000000</td>\n",
              "      <td>0.000000</td>\n",
              "      <td>0.000000</td>\n",
              "      <td>0.000000</td>\n",
              "      <td>2.000000</td>\n",
              "      <td>1.000000</td>\n",
              "    </tr>\n",
              "    <tr>\n",
              "      <th>25%</th>\n",
              "      <td>1.006846e+07</td>\n",
              "      <td>8000.000000</td>\n",
              "      <td>4.500000e+04</td>\n",
              "      <td>11.360000</td>\n",
              "      <td>0.000000</td>\n",
              "      <td>16.000000</td>\n",
              "      <td>8.000000</td>\n",
              "      <td>17.000000</td>\n",
              "      <td>2.000000</td>\n",
              "    </tr>\n",
              "    <tr>\n",
              "      <th>50%</th>\n",
              "      <td>1.013693e+07</td>\n",
              "      <td>12000.000000</td>\n",
              "      <td>6.300000e+04</td>\n",
              "      <td>16.850000</td>\n",
              "      <td>0.000000</td>\n",
              "      <td>31.000000</td>\n",
              "      <td>10.000000</td>\n",
              "      <td>23.000000</td>\n",
              "      <td>2.000000</td>\n",
              "    </tr>\n",
              "    <tr>\n",
              "      <th>75%</th>\n",
              "      <td>1.020539e+07</td>\n",
              "      <td>20000.000000</td>\n",
              "      <td>8.900000e+04</td>\n",
              "      <td>22.780000</td>\n",
              "      <td>1.000000</td>\n",
              "      <td>49.000000</td>\n",
              "      <td>14.000000</td>\n",
              "      <td>32.000000</td>\n",
              "      <td>3.000000</td>\n",
              "    </tr>\n",
              "    <tr>\n",
              "      <th>max</th>\n",
              "      <td>1.027385e+07</td>\n",
              "      <td>35000.000000</td>\n",
              "      <td>7.500000e+06</td>\n",
              "      <td>39.990000</td>\n",
              "      <td>8.000000</td>\n",
              "      <td>180.000000</td>\n",
              "      <td>84.000000</td>\n",
              "      <td>156.000000</td>\n",
              "      <td>3.000000</td>\n",
              "    </tr>\n",
              "  </tbody>\n",
              "</table>\n",
              "</div>"
            ],
            "text/plain": [
              "            Loan_ID  Loan_Amount_Requested  ...  Total_Accounts  Interest_Rate\n",
              "count  2.738500e+05          273850.000000  ...   273850.000000  164309.000000\n",
              "mean   1.013693e+07           14352.992240  ...       25.067975       2.158951\n",
              "std    7.905383e+04            8289.036702  ...       11.589677       0.738364\n",
              "min    1.000000e+07             500.000000  ...        2.000000       1.000000\n",
              "25%    1.006846e+07            8000.000000  ...       17.000000       2.000000\n",
              "50%    1.013693e+07           12000.000000  ...       23.000000       2.000000\n",
              "75%    1.020539e+07           20000.000000  ...       32.000000       3.000000\n",
              "max    1.027385e+07           35000.000000  ...      156.000000       3.000000\n",
              "\n",
              "[8 rows x 9 columns]"
            ]
          },
          "metadata": {
            "tags": []
          },
          "execution_count": 9
        }
      ]
    },
    {
      "cell_type": "code",
      "metadata": {
        "id": "E3sl1Bx8IU7P",
        "colab_type": "code",
        "colab": {
          "base_uri": "https://localhost:8080/",
          "height": 173
        },
        "outputId": "c0f048e8-0763-4df7-b402-247b9550781b"
      },
      "source": [
        "combined.describe(include='object')"
      ],
      "execution_count": 10,
      "outputs": [
        {
          "output_type": "execute_result",
          "data": {
            "text/html": [
              "<div>\n",
              "<style scoped>\n",
              "    .dataframe tbody tr th:only-of-type {\n",
              "        vertical-align: middle;\n",
              "    }\n",
              "\n",
              "    .dataframe tbody tr th {\n",
              "        vertical-align: top;\n",
              "    }\n",
              "\n",
              "    .dataframe thead th {\n",
              "        text-align: right;\n",
              "    }\n",
              "</style>\n",
              "<table border=\"1\" class=\"dataframe\">\n",
              "  <thead>\n",
              "    <tr style=\"text-align: right;\">\n",
              "      <th></th>\n",
              "      <th>Length_Employed</th>\n",
              "      <th>Home_Owner</th>\n",
              "      <th>Income_Verified</th>\n",
              "      <th>Purpose_Of_Loan</th>\n",
              "      <th>Gender</th>\n",
              "      <th>TAG</th>\n",
              "    </tr>\n",
              "  </thead>\n",
              "  <tbody>\n",
              "    <tr>\n",
              "      <th>count</th>\n",
              "      <td>261543</td>\n",
              "      <td>231790</td>\n",
              "      <td>273850</td>\n",
              "      <td>273850</td>\n",
              "      <td>273850</td>\n",
              "      <td>273850</td>\n",
              "    </tr>\n",
              "    <tr>\n",
              "      <th>unique</th>\n",
              "      <td>11</td>\n",
              "      <td>5</td>\n",
              "      <td>3</td>\n",
              "      <td>14</td>\n",
              "      <td>2</td>\n",
              "      <td>2</td>\n",
              "    </tr>\n",
              "    <tr>\n",
              "      <th>top</th>\n",
              "      <td>10+ years</td>\n",
              "      <td>Mortgage</td>\n",
              "      <td>VERIFIED - income</td>\n",
              "      <td>debt_consolidation</td>\n",
              "      <td>Male</td>\n",
              "      <td>TRAIN</td>\n",
              "    </tr>\n",
              "    <tr>\n",
              "      <th>freq</th>\n",
              "      <td>88328</td>\n",
              "      <td>117270</td>\n",
              "      <td>99076</td>\n",
              "      <td>161403</td>\n",
              "      <td>194993</td>\n",
              "      <td>164309</td>\n",
              "    </tr>\n",
              "  </tbody>\n",
              "</table>\n",
              "</div>"
            ],
            "text/plain": [
              "       Length_Employed Home_Owner  ...  Gender     TAG\n",
              "count           261543     231790  ...  273850  273850\n",
              "unique              11          5  ...       2       2\n",
              "top          10+ years   Mortgage  ...    Male   TRAIN\n",
              "freq             88328     117270  ...  194993  164309\n",
              "\n",
              "[4 rows x 6 columns]"
            ]
          },
          "metadata": {
            "tags": []
          },
          "execution_count": 10
        }
      ]
    },
    {
      "cell_type": "code",
      "metadata": {
        "id": "WXAohh2lIU7b",
        "colab_type": "code",
        "colab": {
          "base_uri": "https://localhost:8080/",
          "height": 289
        },
        "outputId": "153ef69c-9b74-46c8-867a-701ef1121377"
      },
      "source": [
        "combined.nunique(axis=0)"
      ],
      "execution_count": 11,
      "outputs": [
        {
          "output_type": "execute_result",
          "data": {
            "text/plain": [
              "Loan_ID                    273850\n",
              "Loan_Amount_Requested        1320\n",
              "Length_Employed                11\n",
              "Home_Owner                      5\n",
              "Annual_Income               18573\n",
              "Income_Verified                 3\n",
              "Purpose_Of_Loan                14\n",
              "Debt_To_Income               3987\n",
              "Inquiries_Last_6Mo              9\n",
              "Months_Since_Deliquency       132\n",
              "Number_Open_Accounts           61\n",
              "Total_Accounts                103\n",
              "Gender                          2\n",
              "Interest_Rate                   3\n",
              "TAG                             2\n",
              "dtype: int64"
            ]
          },
          "metadata": {
            "tags": []
          },
          "execution_count": 11
        }
      ]
    },
    {
      "cell_type": "code",
      "metadata": {
        "id": "Cf8ULINWKY0D",
        "colab_type": "code",
        "colab": {
          "base_uri": "https://localhost:8080/",
          "height": 34
        },
        "outputId": "f134827b-a0eb-426f-ef25-ebfccd760dea"
      },
      "source": [
        "combined.shape"
      ],
      "execution_count": 12,
      "outputs": [
        {
          "output_type": "execute_result",
          "data": {
            "text/plain": [
              "(273850, 15)"
            ]
          },
          "metadata": {
            "tags": []
          },
          "execution_count": 12
        }
      ]
    },
    {
      "cell_type": "markdown",
      "metadata": {
        "id": "BbwytNOTIU7g",
        "colab_type": "text"
      },
      "source": [
        "# Distribution of the TARGET"
      ]
    },
    {
      "cell_type": "code",
      "metadata": {
        "id": "wsKvA8PPIU7i",
        "colab_type": "code",
        "colab": {
          "base_uri": "https://localhost:8080/",
          "height": 541
        },
        "outputId": "54a2fc30-c090-4451-8ff3-bf484b645fd0"
      },
      "source": [
        "labels = ['1', '2','3']\n",
        "size = train['Interest_Rate'].value_counts()\n",
        "colors = ['lightgreen', 'orange','blue']\n",
        "explode = [0.08, 0.08,0.08]\n",
        "\n",
        "plt.rcParams['figure.figsize'] = (9, 9)\n",
        "plt.pie(size, colors = colors, explode = explode, labels = labels, shadow = True, autopct = '%.2f%%')\n",
        "plt.title('Interest Rate Type', fontsize = 20)\n",
        "plt.axis('off')\n",
        "plt.legend()\n",
        "plt.show()"
      ],
      "execution_count": 13,
      "outputs": [
        {
          "output_type": "display_data",
          "data": {
            "image/png": "[encoded data removed]",
            "text/plain": [
              "<Figure size 648x648 with 1 Axes>"
            ]
          },
          "metadata": {
            "tags": []
          }
        }
      ]
    },
    {
      "cell_type": "markdown",
      "metadata": {
        "id": "9ldnsXG_IU7p",
        "colab_type": "text"
      },
      "source": [
        "# Categorical Variables"
      ]
    },
    {
      "cell_type": "code",
      "metadata": {
        "id": "BBkt0ZPHIU7q",
        "colab_type": "code",
        "colab": {
          "base_uri": "https://localhost:8080/",
          "height": 867
        },
        "outputId": "bbbcef19-9498-434d-e826-eaa082c8630e"
      },
      "source": [
        "#Filter categorical variables\n",
        "cat_columns = [x for x in combined.dtypes.index if combined.dtypes[x]=='object']\n",
        "#Exclude :\n",
        "cat_columns = [x for x in cat_columns if x not in ['Loan_ID','TAG']]\n",
        "#Print frequency of categories\n",
        "for col in cat_columns:\n",
        "    print('\\nFrequency of Categories for variable %s'%col)\n",
        "    print(combined[col].value_counts())"
      ],
      "execution_count": 14,
      "outputs": [
        {
          "output_type": "stream",
          "text": [
            "\n",
            "Frequency of Categories for variable Length_Employed\n",
            "10+ years    88328\n",
            "2 years      24420\n",
            "3 years      21478\n",
            "< 1 year     21133\n",
            "5 years      18042\n",
            "1 year       17336\n",
            "4 years      16393\n",
            "7 years      15444\n",
            "6 years      15351\n",
            "8 years      13115\n",
            "9 years      10503\n",
            "Name: Length_Employed, dtype: int64\n",
            "\n",
            "Frequency of Categories for variable Home_Owner\n",
            "Mortgage    117270\n",
            "Rent         93542\n",
            "Own          20879\n",
            "Other           79\n",
            "None            20\n",
            "Name: Home_Owner, dtype: int64\n",
            "\n",
            "Frequency of Categories for variable Income_Verified\n",
            "VERIFIED - income           99076\n",
            "VERIFIED - income source    88253\n",
            "not verified                86521\n",
            "Name: Income_Verified, dtype: int64\n",
            "\n",
            "Frequency of Categories for variable Purpose_Of_Loan\n",
            "debt_consolidation    161403\n",
            "credit_card            61394\n",
            "home_improvement       15455\n",
            "other                  13846\n",
            "major_purchase          5712\n",
            "small_business          4064\n",
            "car                     3149\n",
            "medical                 2633\n",
            "moving                  1675\n",
            "vacation                1453\n",
            "wedding                 1345\n",
            "house                   1316\n",
            "renewable_energy         206\n",
            "educational              199\n",
            "Name: Purpose_Of_Loan, dtype: int64\n",
            "\n",
            "Frequency of Categories for variable Gender\n",
            "Male      194993\n",
            "Female     78857\n",
            "Name: Gender, dtype: int64\n"
          ],
          "name": "stdout"
        }
      ]
    },
    {
      "cell_type": "markdown",
      "metadata": {
        "id": "cM3yh1x5IU7v",
        "colab_type": "text"
      },
      "source": [
        "# Observations\n",
        "\n",
        "## Home_Owner:\n",
        "We can merge 'Other','None', 'Unknown'(to be imputed for missing) together.\n",
        "\n",
        "## Income Verified:  \n",
        "looks like two of the dispositions ( VERIFIED income, VERIFIED income source needs to be merged)\n",
        "\n",
        "## Purpose of loan\n",
        "can be grouped on the following type of loans to reduce the levels\n",
        "\n",
        "a)Education\n",
        "\n",
        "b)Personal- Wedding, moving, major_purchase, home_improvement, vacation, medical\n",
        "\n",
        "c)debt_consolidation\n",
        "\n",
        "d)house\n",
        "\n",
        "e)car\n",
        "\n",
        "f)Other- renewable energy, other, small business loans\n",
        "\n",
        "g)credit\n"
      ]
    },
    {
      "cell_type": "code",
      "metadata": {
        "id": "zshkrYMONH_8",
        "colab_type": "code",
        "colab": {}
      },
      "source": [
        "# Numerical Variables"
      ],
      "execution_count": 0,
      "outputs": []
    },
    {
      "cell_type": "code",
      "metadata": {
        "id": "MmzKlfepIU7v",
        "colab_type": "code",
        "colab": {
          "base_uri": "https://localhost:8080/",
          "height": 404
        },
        "outputId": "82b6c650-4794-4d54-a041-30b155a6d806"
      },
      "source": [
        "nums = [x for x in combined.dtypes.index if combined.dtypes[x]!='object']\n",
        "#Exclude :\n",
        "nums = [x for x in nums if x not in ['Loan_ID','Interest_Rate']]\n",
        "combined[nums].hist(bins=15, figsize=(20, 8), layout=(2, 5));"
      ],
      "execution_count": 16,
      "outputs": [
        {
          "output_type": "display_data",
          "data": {
            "image/png": "[encoded data removed]",
            "text/plain": [
              "<Figure size 1440x576 with 10 Axes>"
            ]
          },
          "metadata": {
            "tags": [],
            "needs_background": "light"
          }
        }
      ]
    },
    {
      "cell_type": "markdown",
      "metadata": {
        "id": "BbnNs9JnIU70",
        "colab_type": "text"
      },
      "source": [
        "# CLEANING/PRE_PROCESSING/FEATURE ENGINEERING STEP"
      ]
    },
    {
      "cell_type": "code",
      "metadata": {
        "id": "eJ8gp3VNIU70",
        "colab_type": "code",
        "colab": {}
      },
      "source": [
        "# #PRE-PROCESSING/VARIABLE CLEANING BEFORE IMPUTATION/ FEATURE EXTRACTION\n",
        "\n",
        "# #Home Owner\n",
        "# combined['Home_Owner'] =  combined['Home_Owner'].replace({'Other':'Unknown','None':'Unknown'})\n",
        "\n",
        "# # #Income Verified\n",
        "# combined['Income_Verified'] =  combined['Income_Verified'].replace({'VERIFIED - income':'Verified','VERIFIED - income source':'Verified'})\n",
        "\n",
        "# # #purpose of loan\n",
        "# # l=['home_improvement','major_purchase', 'medical', 'moving','wedding', 'vacation']\n",
        "# # o=['renewable_energy','other','small_business']\n",
        "combined['Purpose_Of_Loan'] =  combined['Purpose_Of_Loan'].replace({'renewable_energy':'Others','other':'Others'})\n",
        "combined['Purpose_Of_Loan'] =  combined['Purpose_Of_Loan'].replace({'home_improvement':'Personal','medical':'Personal','small_business':'Personal','major_purchase':'Personal','vacation':'Personal','wedding':'Personal','moving':'Personal'})\n",
        "# combined['Purpose_Of_Loan'] =  combined['Purpose_Of_Loan'].replace({'educational':'ECH','house':'ECH','car':'ECH'})\n",
        "\n",
        "# no of closed/cleared accounts\n",
        "\n",
        "combined['Cleared_Accounts']=combined['Total_Accounts']-combined['Number_Open_Accounts']\n",
        "\n",
        "#query classification\n",
        "# combined['queries_Y_N']= np.where(combined['Inquiries_Last_6Mo']>0,\"Y\",\"N\")\n",
        "\n",
        "#Loan_to_Annual_Income\n",
        "# combined['Loan_To_Annual_Income']=combined['Loan_Amount_Requested']/combined['Annual_Income']\n",
        "\n",
        "#bin the loan amount\n",
        "\n",
        "def loans(combined):\n",
        "    if combined['Loan_Amount_Requested'] >=0 and combined['Loan_Amount_Requested'] <=8000:\n",
        "        return \"0-8K\"\n",
        "    elif combined['Loan_Amount_Requested'] >8000 and combined['Loan_Amount_Requested'] <=16000:\n",
        "        return \"8-16K\"\n",
        "    elif combined['Loan_Amount_Requested'] >16000 and combined['Loan_Amount_Requested'] <=24000:\n",
        "        return \"16-24K\"\n",
        "    else:\n",
        "        return \"24K+\"\n",
        "combined['LA_bucket']= combined.apply(loans,axis=1) "
      ],
      "execution_count": 0,
      "outputs": []
    },
    {
      "cell_type": "code",
      "metadata": {
        "id": "H956mnTQ36rp",
        "colab_type": "code",
        "colab": {
          "base_uri": "https://localhost:8080/",
          "height": 119
        },
        "outputId": "04db6938-23df-44a3-f2f7-ffbca7da08ea"
      },
      "source": [
        "combined.columns"
      ],
      "execution_count": 18,
      "outputs": [
        {
          "output_type": "execute_result",
          "data": {
            "text/plain": [
              "Index(['Loan_ID', 'Loan_Amount_Requested', 'Length_Employed', 'Home_Owner',\n",
              "       'Annual_Income', 'Income_Verified', 'Purpose_Of_Loan', 'Debt_To_Income',\n",
              "       'Inquiries_Last_6Mo', 'Months_Since_Deliquency', 'Number_Open_Accounts',\n",
              "       'Total_Accounts', 'Gender', 'Interest_Rate', 'TAG', 'Cleared_Accounts',\n",
              "       'LA_bucket'],\n",
              "      dtype='object')"
            ]
          },
          "metadata": {
            "tags": []
          },
          "execution_count": 18
        }
      ]
    },
    {
      "cell_type": "code",
      "metadata": {
        "id": "rUORUATsIU75",
        "colab_type": "code",
        "colab": {
          "base_uri": "https://localhost:8080/",
          "height": 292
        },
        "outputId": "835b4528-4086-4302-d3af-e1d2875a922a"
      },
      "source": [
        "combined.head()"
      ],
      "execution_count": 19,
      "outputs": [
        {
          "output_type": "execute_result",
          "data": {
            "text/html": [
              "<div>\n",
              "<style scoped>\n",
              "    .dataframe tbody tr th:only-of-type {\n",
              "        vertical-align: middle;\n",
              "    }\n",
              "\n",
              "    .dataframe tbody tr th {\n",
              "        vertical-align: top;\n",
              "    }\n",
              "\n",
              "    .dataframe thead th {\n",
              "        text-align: right;\n",
              "    }\n",
              "</style>\n",
              "<table border=\"1\" class=\"dataframe\">\n",
              "  <thead>\n",
              "    <tr style=\"text-align: right;\">\n",
              "      <th></th>\n",
              "      <th>Loan_ID</th>\n",
              "      <th>Loan_Amount_Requested</th>\n",
              "      <th>Length_Employed</th>\n",
              "      <th>Home_Owner</th>\n",
              "      <th>Annual_Income</th>\n",
              "      <th>Income_Verified</th>\n",
              "      <th>Purpose_Of_Loan</th>\n",
              "      <th>Debt_To_Income</th>\n",
              "      <th>Inquiries_Last_6Mo</th>\n",
              "      <th>Months_Since_Deliquency</th>\n",
              "      <th>Number_Open_Accounts</th>\n",
              "      <th>Total_Accounts</th>\n",
              "      <th>Gender</th>\n",
              "      <th>Interest_Rate</th>\n",
              "      <th>TAG</th>\n",
              "      <th>Cleared_Accounts</th>\n",
              "      <th>LA_bucket</th>\n",
              "    </tr>\n",
              "  </thead>\n",
              "  <tbody>\n",
              "    <tr>\n",
              "      <th>0</th>\n",
              "      <td>10000001</td>\n",
              "      <td>7000</td>\n",
              "      <td>&lt; 1 year</td>\n",
              "      <td>Rent</td>\n",
              "      <td>68000.0</td>\n",
              "      <td>not verified</td>\n",
              "      <td>car</td>\n",
              "      <td>18.37</td>\n",
              "      <td>0</td>\n",
              "      <td>NaN</td>\n",
              "      <td>9</td>\n",
              "      <td>14</td>\n",
              "      <td>Female</td>\n",
              "      <td>1.0</td>\n",
              "      <td>TRAIN</td>\n",
              "      <td>5</td>\n",
              "      <td>0-8K</td>\n",
              "    </tr>\n",
              "    <tr>\n",
              "      <th>1</th>\n",
              "      <td>10000002</td>\n",
              "      <td>30000</td>\n",
              "      <td>4 years</td>\n",
              "      <td>Mortgage</td>\n",
              "      <td>NaN</td>\n",
              "      <td>VERIFIED - income</td>\n",
              "      <td>debt_consolidation</td>\n",
              "      <td>14.93</td>\n",
              "      <td>0</td>\n",
              "      <td>17.0</td>\n",
              "      <td>12</td>\n",
              "      <td>24</td>\n",
              "      <td>Female</td>\n",
              "      <td>3.0</td>\n",
              "      <td>TRAIN</td>\n",
              "      <td>12</td>\n",
              "      <td>24K+</td>\n",
              "    </tr>\n",
              "    <tr>\n",
              "      <th>2</th>\n",
              "      <td>10000003</td>\n",
              "      <td>24725</td>\n",
              "      <td>7 years</td>\n",
              "      <td>Mortgage</td>\n",
              "      <td>75566.4</td>\n",
              "      <td>VERIFIED - income source</td>\n",
              "      <td>debt_consolidation</td>\n",
              "      <td>15.88</td>\n",
              "      <td>0</td>\n",
              "      <td>NaN</td>\n",
              "      <td>12</td>\n",
              "      <td>16</td>\n",
              "      <td>Male</td>\n",
              "      <td>3.0</td>\n",
              "      <td>TRAIN</td>\n",
              "      <td>4</td>\n",
              "      <td>24K+</td>\n",
              "    </tr>\n",
              "    <tr>\n",
              "      <th>3</th>\n",
              "      <td>10000004</td>\n",
              "      <td>16000</td>\n",
              "      <td>&lt; 1 year</td>\n",
              "      <td>NaN</td>\n",
              "      <td>56160.0</td>\n",
              "      <td>VERIFIED - income source</td>\n",
              "      <td>debt_consolidation</td>\n",
              "      <td>14.34</td>\n",
              "      <td>3</td>\n",
              "      <td>NaN</td>\n",
              "      <td>16</td>\n",
              "      <td>22</td>\n",
              "      <td>Male</td>\n",
              "      <td>3.0</td>\n",
              "      <td>TRAIN</td>\n",
              "      <td>6</td>\n",
              "      <td>8-16K</td>\n",
              "    </tr>\n",
              "    <tr>\n",
              "      <th>4</th>\n",
              "      <td>10000005</td>\n",
              "      <td>17000</td>\n",
              "      <td>8 years</td>\n",
              "      <td>Own</td>\n",
              "      <td>96000.0</td>\n",
              "      <td>VERIFIED - income source</td>\n",
              "      <td>debt_consolidation</td>\n",
              "      <td>22.17</td>\n",
              "      <td>1</td>\n",
              "      <td>NaN</td>\n",
              "      <td>19</td>\n",
              "      <td>30</td>\n",
              "      <td>Female</td>\n",
              "      <td>1.0</td>\n",
              "      <td>TRAIN</td>\n",
              "      <td>11</td>\n",
              "      <td>16-24K</td>\n",
              "    </tr>\n",
              "  </tbody>\n",
              "</table>\n",
              "</div>"
            ],
            "text/plain": [
              "    Loan_ID  Loan_Amount_Requested  ... Cleared_Accounts LA_bucket\n",
              "0  10000001                   7000  ...                5      0-8K\n",
              "1  10000002                  30000  ...               12      24K+\n",
              "2  10000003                  24725  ...                4      24K+\n",
              "3  10000004                  16000  ...                6     8-16K\n",
              "4  10000005                  17000  ...               11    16-24K\n",
              "\n",
              "[5 rows x 17 columns]"
            ]
          },
          "metadata": {
            "tags": []
          },
          "execution_count": 19
        }
      ]
    },
    {
      "cell_type": "markdown",
      "metadata": {
        "id": "7om70VhSIU79",
        "colab_type": "text"
      },
      "source": [
        "\n",
        "\n",
        "We saw above that the following have missing values:\n",
        "\n",
        "1)Months_Since_Deliquency- \n",
        "\n",
        "If you miss a payment on your loans, you're considered delinquent.\n",
        "The day after you miss your payment, you technically are in delinquency.\n",
        "Default occurs when you remain in delinquency on  loans for a set period of time\n",
        "\n",
        "2)Home_Owner \n",
        "\n",
        "3)Annual_Income\n",
        "\n",
        "4)Length_Employed\n",
        "\n",
        "\n",
        "# IMPUTATION\n",
        "\n",
        "\n",
        "\n",
        "https://en.wikipedia.org/wiki/Imputation_%28statistics%29#Multiple_imputation"
      ]
    },
    {
      "cell_type": "code",
      "metadata": {
        "id": "pkp7QwnFIU7_",
        "colab_type": "code",
        "colab": {}
      },
      "source": [
        "#IMPUTATION\n",
        "#Home Owner\n",
        "combined.Home_Owner.fillna(\"Unknown\",inplace=True)\n",
        "\n"
      ],
      "execution_count": 0,
      "outputs": []
    },
    {
      "cell_type": "code",
      "metadata": {
        "id": "qgBPpBACIU8D",
        "colab_type": "code",
        "colab": {}
      },
      "source": [
        "#b)Length_Employed\n",
        "#Determing the mode for each\n",
        "from scipy.stats import mode\n",
        "mode = combined.pivot_table(values='Length_Employed', columns='Income_Verified',aggfunc=(lambda x:mode(x.astype('str')).mode[0]) )\n",
        "miss_bool = combined['Length_Employed'].isnull() \n",
        "combined.loc[miss_bool,'Length_Employed'] = combined.loc[miss_bool,'Income_Verified'].apply(lambda x: mode[x])\n",
        "\n",
        "# combined.Length_Employed.fillna(\"U\",inplace=True)"
      ],
      "execution_count": 0,
      "outputs": []
    },
    {
      "cell_type": "code",
      "metadata": {
        "id": "QSqJcaOyIU8H",
        "colab_type": "code",
        "colab": {}
      },
      "source": [
        "# Annual Income(AI)\n",
        "AI = combined.pivot_table(values='Annual_Income', index='LA_bucket')\n",
        "\n",
        "# # #Get a boolean variable specifying missing AI values\n",
        "miss_bool = combined['Annual_Income'].isnull() \n",
        "\n",
        "# # # #Impute data\n",
        "\n",
        "combined.loc[miss_bool,'Annual_Income'] = combined.loc[miss_bool,'LA_bucket'].apply(lambda x: AI.loc[x])"
      ],
      "execution_count": 0,
      "outputs": []
    },
    {
      "cell_type": "code",
      "metadata": {
        "id": "p1aYt76KIU8L",
        "colab_type": "code",
        "colab": {}
      },
      "source": [
        "#Months_Since_Deliquency\n",
        "#if there is no deliquency, it can be imputed on the basis if the income source was verified or not\n",
        "MSD = combined.pivot_table(values='Months_Since_Deliquency', index='Income_Verified')\n",
        "miss_bool = combined['Months_Since_Deliquency'].isnull() \n",
        "combined.loc[miss_bool,'Months_Since_Deliquency'] = combined.loc[miss_bool,'Income_Verified'].apply(lambda x: MSD.loc[x])\n"
      ],
      "execution_count": 0,
      "outputs": []
    },
    {
      "cell_type": "code",
      "metadata": {
        "id": "mLbCbH66IU8P",
        "colab_type": "code",
        "colab": {
          "base_uri": "https://localhost:8080/",
          "height": 323
        },
        "outputId": "5f183a0c-e81f-4d09-c34b-a8c0272ceb91"
      },
      "source": [
        "combined.isnull().sum()"
      ],
      "execution_count": 24,
      "outputs": [
        {
          "output_type": "execute_result",
          "data": {
            "text/plain": [
              "Loan_ID                         0\n",
              "Loan_Amount_Requested           0\n",
              "Length_Employed                 0\n",
              "Home_Owner                      0\n",
              "Annual_Income                   0\n",
              "Income_Verified                 0\n",
              "Purpose_Of_Loan                 0\n",
              "Debt_To_Income                  0\n",
              "Inquiries_Last_6Mo              0\n",
              "Months_Since_Deliquency         0\n",
              "Number_Open_Accounts            0\n",
              "Total_Accounts                  0\n",
              "Gender                          0\n",
              "Interest_Rate              109541\n",
              "TAG                             0\n",
              "Cleared_Accounts                0\n",
              "LA_bucket                       0\n",
              "dtype: int64"
            ]
          },
          "metadata": {
            "tags": []
          },
          "execution_count": 24
        }
      ]
    },
    {
      "cell_type": "code",
      "metadata": {
        "id": "_xJot3pCIU8T",
        "colab_type": "code",
        "colab": {
          "base_uri": "https://localhost:8080/",
          "height": 119
        },
        "outputId": "f19f530d-2024-4b73-cd72-473602dfeb04"
      },
      "source": [
        "#DISTRIBUTION OF CATEGORICAL VARIABLES\n",
        "cat = [x for x in combined.dtypes.index if combined.dtypes[x]=='object']\n",
        "cat = [x for x in cat if x not in ['Loan_ID','TAG']]\n",
        "cat"
      ],
      "execution_count": 25,
      "outputs": [
        {
          "output_type": "execute_result",
          "data": {
            "text/plain": [
              "['Length_Employed',\n",
              " 'Home_Owner',\n",
              " 'Income_Verified',\n",
              " 'Purpose_Of_Loan',\n",
              " 'Gender',\n",
              " 'LA_bucket']"
            ]
          },
          "metadata": {
            "tags": []
          },
          "execution_count": 25
        }
      ]
    },
    {
      "cell_type": "code",
      "metadata": {
        "id": "hY9x6VLvIU8X",
        "colab_type": "code",
        "colab": {
          "base_uri": "https://localhost:8080/",
          "height": 553
        },
        "outputId": "ad5502a9-b9a2-4cff-eb3f-0eba57f75d66"
      },
      "source": [
        "\n",
        "fig = plt.figure(1, (14, 8))\n",
        "\n",
        "for i,cat in enumerate(combined[cat]):\n",
        "    ax = plt.subplot(2,3,i+1)\n",
        "    sns.countplot(combined[cat], order=combined[cat].value_counts().index)\n",
        "    ax.set_xlabel(\"\")\n",
        "    ax.set_title(f'Distribution of {cat}')\n",
        "    plt.tight_layout()\n",
        "    plt.xticks(rotation=90)\n",
        "    \n",
        "\n",
        "plt.show()"
      ],
      "execution_count": 27,
      "outputs": [
        {
          "output_type": "display_data",
          "data": {
            "image/png": "[encoded data removed]",
            "text/plain": [
              "<Figure size 1008x576 with 6 Axes>"
            ]
          },
          "metadata": {
            "tags": [],
            "needs_background": "light"
          }
        }
      ]
    },
    {
      "cell_type": "code",
      "metadata": {
        "id": "SoVwApD7L7NI",
        "colab_type": "code",
        "colab": {}
      },
      "source": [
        "nums = [x for x in combined.dtypes.index if combined.dtypes[x]!='object']\n",
        "#Exclude :\n",
        "nums = [x for x in nums if x not in ['Loan_ID','Interest_Rate','Loan_Amount_Requested']]"
      ],
      "execution_count": 0,
      "outputs": []
    },
    {
      "cell_type": "code",
      "metadata": {
        "id": "pA_enZ5sOjwv",
        "colab_type": "code",
        "colab": {}
      },
      "source": [
        "!pip install dython"
      ],
      "execution_count": 0,
      "outputs": []
    },
    {
      "cell_type": "code",
      "metadata": {
        "id": "qwU2rCnFIU8b",
        "colab_type": "code",
        "colab": {}
      },
      "source": [
        "#Correlation/Association\n",
        "from dython.nominal import associations\n",
        "\n",
        "cat = [x for x in combined.dtypes.index if combined.dtypes[x]=='object']\n",
        "cat = [x for x in cat if x not in ['Loan_ID','TAG']]\n",
        "associations(combined[(cat+nums+['Interest_Rate'])], theil_u=True, figsize=(10, 10))"
      ],
      "execution_count": 0,
      "outputs": []
    },
    {
      "cell_type": "code",
      "metadata": {
        "id": "Wz_GxvyT8JQa",
        "colab_type": "code",
        "colab": {}
      },
      "source": [
        "combined.head()"
      ],
      "execution_count": 0,
      "outputs": []
    },
    {
      "cell_type": "code",
      "metadata": {
        "id": "p46umU07IU8k",
        "colab_type": "code",
        "colab": {}
      },
      "source": [
        "df1=combined.drop(['Interest_Rate','TAG','Loan_ID'],axis=1)\n",
        "\n",
        "# plt.figure(figsize=(20,10)) \n",
        "# sns.heatmap(df1.corr(), annot=True)\n",
        "df1.corrwith(combined.Interest_Rate).plot.bar(\n",
        "        figsize = (14, 8), title = \"Correlation with Interest Rate\", fontsize = 10,\n",
        "        rot = 90, grid = True)"
      ],
      "execution_count": 0,
      "outputs": []
    },
    {
      "cell_type": "code",
      "metadata": {
        "id": "SjAjvCwH__ag",
        "colab_type": "code",
        "colab": {}
      },
      "source": [
        "hhjh"
      ],
      "execution_count": 0,
      "outputs": []
    },
    {
      "cell_type": "code",
      "metadata": {
        "id": "TbyKU2PkIU8o",
        "colab_type": "code",
        "colab": {}
      },
      "source": [
        "train=combined[combined['TAG']=='TRAIN']\n",
        "test=combined[combined['TAG']=='TEST']\n",
        "# train=train.drop(['TAG','Inquiries_Last_6Mo','Total_Accounts','Gender','Number_Open_Accounts','Home_Owner','Length_Employed'],axis=1)\n",
        "# test=test.drop(['TAG','Interest_Rate','Inquiries_Last_6Mo','Total_Accounts','Number_Open_Accounts','Gender','Home_Owner','Length_Employed'],axis=1)\n",
        "# train=train.drop(['TAG','Inquiries_Last_6Mo','Gender','Number_Open_Accounts'],axis=1)\n",
        "# test=test.drop(['TAG','Interest_Rate','Inquiries_Last_6Mo','Gender','Number_Open_Accounts'],axis=1)\n",
        "train=train.drop(['TAG','Total_Accounts','Loan_Amount_Requested'],axis=1)\n",
        "test=test.drop(['TAG','Interest_Rate','Total_Accounts','Loan_Amount_Requested'],axis=1)"
      ],
      "execution_count": 0,
      "outputs": []
    },
    {
      "cell_type": "code",
      "metadata": {
        "id": "TT1mfedqIU8s",
        "colab_type": "code",
        "colab": {}
      },
      "source": [
        "train.shape,test.shape"
      ],
      "execution_count": 0,
      "outputs": []
    },
    {
      "cell_type": "code",
      "metadata": {
        "id": "B2mZOH3VPMQh",
        "colab_type": "code",
        "colab": {}
      },
      "source": [
        "!pip install catboost"
      ],
      "execution_count": 0,
      "outputs": []
    },
    {
      "cell_type": "code",
      "metadata": {
        "id": "JAZ60l1KQUKE",
        "colab_type": "code",
        "colab": {}
      },
      "source": [
        "from sklearn.model_selection import KFold\n",
        "# Set up folds\n",
        "K=7\n",
        "kf = KFold(n_splits = K, random_state = 7, shuffle = True)\n",
        "MAX_ROUNDS = 1000\n",
        "t = False\n",
        "from catboost import CatBoostClassifier\n",
        "from sklearn.metrics import f1_score\n",
        "X = train.drop(columns=['Loan_ID','Interest_Rate'],axis=1)\n",
        "y = train['Interest_Rate']\n",
        "X_test =test.drop(['Loan_ID'],axis=1)\n",
        "y_valid_pred = 0*y\n",
        "y_test_pred = 0\n",
        "F1 = 0\n",
        "result={}\n",
        "#specifying categorical variables indexes\n",
        "cat_columns = [x for x in X.dtypes.index if X.dtypes[x]=='object']\n",
        "#fitting catboost classifier model\n",
        "j=1\n",
        "model = CatBoostClassifier(n_estimators=MAX_ROUNDS,task_type=\"GPU\",verbose=False,learning_rate=0.07, leaf_estimation_iterations=1)\n",
        "for i, (train_index, test_index) in enumerate(kf.split(train)):\n",
        "\n",
        "#for train_index, test_index in skf.split(X, y):  \n",
        "    # Create data for this fold\n",
        "    y_train, y_valid = y.iloc[train_index], y.iloc[test_index]\n",
        "    X_train, X_valid = X.iloc[train_index,:], X.iloc[test_index,:]\n",
        "    print( \"\\nFold \", j)\n",
        "    #print( \"\\nFold \", i)\n",
        "    \n",
        "    # Run model for this fold\n",
        "    if t:\n",
        "        fit_model = model.fit( X_train, y_train, \n",
        "                               eval_set=[X_valid, y_valid],cat_features=cat_columns,\n",
        "                               use_best_model=True\n",
        "                             )\n",
        "        print( \"  N trees = \", model.tree_count_ )\n",
        "    else:\n",
        "        fit_model = model.fit( X_train, y_train,cat_features=cat_columns )\n",
        "        \n",
        "    # Generate validation predictions for this fold\n",
        "    pred = fit_model.predict(X_valid)\n",
        "    y_valid_pred.iloc[test_index] = pred.reshape(-1)\n",
        "    print(f1_score(y_valid,pred,average='weighted'))\n",
        "    F1+=f1_score(y_valid,pred,average='weighted')\n",
        "\n",
        "\n",
        "\n",
        "    # Accumulate test set predictions\n",
        "    y_test_pred += fit_model.predict(X_test)\n",
        "    result[j]=fit_model.predict(X_test)\n",
        "    j+=1\n",
        "results = y_test_pred / K  # Average test set predictions\n",
        "print(F1/K)"
      ],
      "execution_count": 0,
      "outputs": []
    },
    {
      "cell_type": "code",
      "metadata": {
        "id": "3ujo_KMTZRy3",
        "colab_type": "code",
        "colab": {}
      },
      "source": [
        "\n",
        "d = pd.DataFrame()\n",
        "for i in range(1, 6):\n",
        "    d = pd.concat([d,pd.DataFrame(result[i])],axis=1)\n",
        "d.columns=['1','2','3','4','5']\n",
        "re = d.mode(axis=1)[0]\n",
        "sub = pd.read_csv('sample_submission.csv')\n",
        "sub.Interest_Rate = re\n"
      ],
      "execution_count": 0,
      "outputs": []
    },
    {
      "cell_type": "code",
      "metadata": {
        "id": "sW_kScnJmlrB",
        "colab_type": "code",
        "colab": {}
      },
      "source": [
        "sub.to_csv('CAT_BOOST_final_v3.csv',index = False)"
      ],
      "execution_count": 0,
      "outputs": []
    },
    {
      "cell_type": "code",
      "metadata": {
        "id": "tacKY0HEn7BX",
        "colab_type": "code",
        "colab": {}
      },
      "source": [
        "def f(train,test,classifier_filename,n):\n",
        "    for i in n:\n",
        "        \n",
        "        print(classifier_filename[1][i])\n",
        "        \n",
        "    \n",
        "        n_split = 8\n",
        "        kf = KFold(n_splits=n_split, random_state=42, shuffle=True)\n",
        "    \n",
        "        y_valid_pred = 0 * target\n",
        "        y_test_pred = 0\n",
        "\n",
        "\n",
        "        for idx, (train_index, valid_index) in enumerate(kf.split(train)):\n",
        "            y_train, y_valid = target.iloc[train_index], target.iloc[valid_index]\n",
        "            X_train, X_valid = train.iloc[train_index,:], train.iloc[valid_index,:]\n",
        "            X_train = sc_X.transform(X_train)\n",
        "            X_valid = sc_X.transform(X_valid)\n",
        "            '''_train = Pool(X_train, label=y_train)\n",
        "            _valid = Pool(X_valid, label=y_valid)'''\n",
        "            \n",
        "            print( \"\\nFold \", idx)\n",
        "            \n",
        "            #for catboost\n",
        "            if(classifier_filename[1][i]==\"CatBoostClassifier.csv\"):\n",
        "\n",
        "                classifier_filename[0][i].fit(X_train,y_train,eval_set=(X_valid,y_valid),use_best_model=True,verbose=500)\n",
        "            else:\n",
        "                classifier_filename[0][i].fit(X_train,y_train)\n",
        "\n",
        "        \n",
        "            y_pred=classifier_filename[0][i].predict(X_valid)\n",
        "        \n",
        "            # Making the Confusion Matrix\n",
        "            cm = confusion_matrix(y_valid, y_pred)\n",
        "            print(\"cm=%s\" %cm)\n",
        "        \n",
        "            #accuracy_score\n",
        "            score=accuracy_score(y_valid,y_pred)\n",
        "            print(\"score=%.4g\"%score)\n",
        "            #roc_score\n",
        "            roc=roc_auc_score(y_valid,classifier_filename[0][i].predict_proba(X_valid)[:,1])\n",
        "            print(\"roc=%.4g\"%roc)\n",
        "            #classification_report\n",
        "            cr=classification_report(y_valid,y_pred)\n",
        "            print(\"cr=%s\"%cr)\n",
        "        \n",
        "            y_test_pred +=classifier_filename[0][i].predict_proba(test)[:,1]\n",
        "            \n",
        "        \n",
        "    \n",
        "        y_test_pred=y_test_pred/n_split\n",
        "        '''for i in range(0,200000):\n",
        "            y_test_pred_1.append(int(y_test_pred[i]/5))'''\n",
        "    \n",
        "        submission=pd.DataFrame()\n",
        "        submission['ID_code']=test_id\n",
        "        submission['target'] = y_test_pred\n",
        "        submission.to_csv(classifier_filename[1][i],index=False)\n",
        "\n",
        "'''\n",
        "classifier=[]\n",
        "from sklearn.linear_model import LogisticRegression\n",
        "classifier.append(LogisticRegression(solver='sag',random_state = 0,n_jobs=1))\n",
        "\n",
        "from sklearn.neighbors import KNeighborsClassifier\n",
        "classifier.append(KNeighborsClassifier(n_neighbors = 1, metric = 'minkowski', p = 2,n_jobs=-1))\n",
        "\n",
        "from sklearn.svm import SVC\n",
        "classifier.append(SVC(kernel = 'linear', random_state = 0))\n",
        "\n",
        "from sklearn.svm import SVC\n",
        "classifier.append(SVC(kernel = 'rbf', random_state = 0))\n",
        "\n",
        "from sklearn.naive_bayes import GaussianNB\n",
        "classifier.append(GaussianNB())\n",
        "\n",
        "from sklearn.tree import DecisionTreeClassifier\n",
        "classifier.append(DecisionTreeClassifier(criterion = 'entropy', random_state = 0))\n",
        "\n",
        "from sklearn.ensemble import RandomForestClassifier\n",
        "classifier.append(RandomForestClassifier())\n",
        "\n",
        "filename=[\"logistic_regression.csv\",\"kneighbour.csv\",\"kernel_linear.csv\",\"kernwl_rbf.csv\",\"gaussianNB.csv\",\"decision_tree.csv\",\"random_forest_tree.csv\"]\n",
        "\n",
        "classifier_filename=[]\n",
        "classifier_filename.append(classifier)\n",
        "classifier_filename.append(filename)\n",
        "\n",
        "\n",
        "f(train,test,classifier_filename)'''\n",
        "\n",
        "##boosting model\n",
        "\n",
        "boosting_classifier_filename=[]\n",
        "boosting_classifier=[]\n",
        "filename=[]\n",
        "#adaboost\n",
        "from sklearn.ensemble import AdaBoostClassifier #For Classification\n",
        "#from sklearn.ensemble import AdaBoostRegressor #For Regression\n",
        "from sklearn.tree import DecisionTreeClassifier\n",
        "dt = DecisionTreeClassifier() \n",
        "boosting_classifier.append(AdaBoostClassifier(n_estimators=100, base_estimator=dt,learning_rate=1.0))\n",
        "filename.append(\"AdaBoostClassifier.csv\")\n",
        "#Above I have used decision tree as a base estimator, you can use any ML learner as base estimator if it ac# cepts sample weight \n",
        "#clf.fit(X_train,y_train)\n",
        "\n",
        "#gradient boost\n",
        "#\n",
        "from sklearn.ensemble import GradientBoostingClassifier #For Classification\n",
        "#from sklearn.ensemble import GradientBoostingRegressor #For Regression\n",
        "boosting_classifier.append(GradientBoostingClassifier(n_estimators=100, learning_rate=1.0, max_depth=1))\n",
        "#clf.fit(X_train, y_train)\n",
        "filename.append(\"GradientBoostingClassifier.csv\")\n",
        "#XgBoost\n",
        "#\n",
        "from xgboost.sklearn import XGBClassifier\n",
        "boosting_classifier.append(XGBClassifier( learning_rate =0.1, n_estimators=100, max_depth=3, min_child_weight=1, gamma=0,subsample=1,colsample_bytree=1,objective= 'binary:logistic',nthread=None,scale_pos_weight=1,seed=27))\n",
        "filename.append(\"XGBClassifier.csv\")\n",
        "\n",
        "\n",
        "#lgbm\n",
        "#not installed\n",
        "#\n",
        "'''  import lightgbm as lgb\n",
        "train_data=lgb.Dataset(x_train,label=y_train)\n",
        "param = {'num_leaves':150, 'objective':'binary','max_depth':7,'learning_rate':.05,'max_bin':200}\n",
        "param['metric'] = ['auc', 'binary_logloss']\n",
        "num_round=50\n",
        "start=datetime.now()\n",
        "lgbm=lgb.train(param,train_data,num_round)\n",
        "stop=datetime.now()\n",
        "#Execution time of the model\n",
        "execution_time_lgbm = stop-start\n",
        "execution_time_lgbm\n",
        "'''\n",
        "           \n",
        "           \n",
        "\n",
        "#catboost\n",
        "from catboost import CatBoostClassifier\n",
        "boosting_classifier.append(CatBoostClassifier(loss_function=\"Logloss\",eval_metric=\"AUC\",task_type=\"GPU\",learning_rate=0.008,iterations=14000,random_seed=42,od_type=\"Iter\",depth=10,early_stopping_rounds=500))\n",
        "filename.append(\"CatBoostClassifier.csv\")\n",
        "\n",
        "\n",
        "boosting_classifier_filename.append(boosting_classifier)\n",
        "boosting_classifier_filename.append(filename)\n",
        "\n",
        "f(train,test,boosting_classifier_filename,n=[3])"
      ],
      "execution_count": 0,
      "outputs": []
    }
  ]
}